{
 "cells": [
  {
   "cell_type": "markdown",
   "metadata": {},
   "source": [
    "# LAB 4c:  Create Keras Wide and Deep model.\n",
    "\n",
    "**Learning Objectives**\n",
    "\n",
    "1. Set CSV Columns, label column, and column defaults\n",
    "1. Make dataset of features and label from CSV files\n",
    "1. Create input layers for raw features\n",
    "1. Define preprocessing layers to transform raw features\n",
    "1. Create wide layer, deep dense hidden layers, and output layer\n",
    "1. Create custom evaluation metric\n",
    "1. Build wide and deep model tying all of the pieces together\n",
    "1. Train and evaluate\n",
    "\n",
    "\n",
    "## Introduction \n",
    "In this notebook, we'll be using Keras to create a wide and deep model to predict the weight of a baby before it is born.\n",
    "\n",
    "We'll start by defining the CSV column names, label column, and column defaults for our data inputs. Then, we'll construct a tf.data Dataset of features and the label from the CSV files and create inputs layers for the raw features. Next, we'll set up preprocessing layers for the model inputs and build a wide and deep neural network in Keras. We'll create a custom evaluation metric and build our wide and deep model. Finally, we'll train and evaluate our model.\n",
    "\n",
    "Each learning objective will correspond to a __#TODO__ in this student lab notebook -- try to complete this notebook first and then review the [solution notebook](../solutions/4c_keras_wide_and_deep_babyweight.ipynb)."
   ]
  },
  {
   "cell_type": "markdown",
   "metadata": {
    "colab_type": "text",
    "id": "hJ7ByvoXzpVI"
   },
   "source": [
    "## Load necessary libraries"
   ]
  },
  {
   "cell_type": "code",
   "execution_count": 1,
   "metadata": {
    "collapsed": false,
    "editable": true,
    "jupyter": {
     "outputs_hidden": false
    }
   },
   "outputs": [
    {
     "name": "stdout",
     "output_type": "stream",
     "text": [
      "2.8.0\n"
     ]
    }
   ],
   "source": [
    "import datetime\n",
    "import os\n",
    "import shutil\n",
    "\n",
    "import matplotlib.pyplot as plt\n",
    "import numpy as np\n",
    "import tensorflow as tf\n",
    "\n",
    "print(tf.__version__)"
   ]
  },
  {
   "cell_type": "markdown",
   "metadata": {},
   "source": [
    "## Verify CSV files exist\n",
    "\n",
    "In the seventh lab of this series [4a_sample_babyweight](../solutions/4a_sample_babyweight.ipynb), we sampled from BigQuery our train, eval, and test CSV files. Verify that they exist, otherwise go back to that lab and create them."
   ]
  },
  {
   "cell_type": "code",
   "execution_count": 2,
   "metadata": {
    "collapsed": false,
    "editable": true,
    "jupyter": {
     "outputs_hidden": false
    }
   },
   "outputs": [
    {
     "name": "stdout",
     "output_type": "stream",
     "text": [
      "eval.csv\n",
      "test.csv\n",
      "train.csv\n"
     ]
    }
   ],
   "source": [
    "%%bash\n",
    "ls *.csv"
   ]
  },
  {
   "cell_type": "code",
   "execution_count": 3,
   "metadata": {},
   "outputs": [
    {
     "name": "stdout",
     "output_type": "stream",
     "text": [
      "==> eval.csv <==\n",
      "7.3193470984,Unknown,31,Single(1),38\n",
      "7.936641432,True,28,Single(1),41\n",
      "5.732018812,False,27,Single(1),34\n",
      "7.7272022831,Unknown,28,Single(1),41\n",
      "7.43839671988,True,19,Single(1),37\n",
      "\n",
      "==> test.csv <==\n",
      "8.1460805809,Unknown,26,Single(1),40\n",
      "8.24969784404,Unknown,32,Single(1),37\n",
      "0.6878422574399999,Unknown,28,Single(1),18\n",
      "8.5208664263,True,19,Single(1),40\n",
      "7.1980928543,True,25,Single(1),39\n",
      "\n",
      "==> train.csv <==\n",
      "6.7571683303,False,29,Single(1),38\n",
      "5.6879263596,Unknown,22,Single(1),37\n",
      "8.75014717878,True,32,Single(1),39\n",
      "9.5129466053,Unknown,21,Single(1),39\n",
      "8.99926953484,True,18,Single(1),41\n"
     ]
    }
   ],
   "source": [
    "%%bash\n",
    "head -5 *.csv"
   ]
  },
  {
   "cell_type": "markdown",
   "metadata": {
    "deletable": true,
    "editable": true
   },
   "source": [
    "## Create Keras model"
   ]
  },
  {
   "cell_type": "markdown",
   "metadata": {},
   "source": [
    "### Lab Task #1: Set CSV Columns, label column, and column defaults.\n",
    "\n",
    "Now that we have verified that our CSV files exist, we need to set a few things that we will be using in our input function.\n",
    "* `CSV_COLUMNS` are going to be our header names of our columns. Make sure that they are in the same order as in the CSV files\n",
    "* `LABEL_COLUMN` is the header name of the column that is our label. We will need to know this to pop it from our features dictionary.\n",
    "* `DEFAULTS` is a list with the same length as `CSV_COLUMNS`, i.e. there is a default for each column in our CSVs. Each element is a list itself with the default value for that CSV column."
   ]
  },
  {
   "cell_type": "code",
   "execution_count": 4,
   "metadata": {
    "deletable": true,
    "editable": true
   },
   "outputs": [],
   "source": [
    "# Determine CSV, label, and key columns\n",
    "# TODO: Create list of string column headers, make sure order matches.\n",
    "CSV_COLUMNS = [\n",
    "    \"weight_pounds\",\n",
    "    \"is_male\",\n",
    "    \"mother_age\",\n",
    "    \"plurality\",\n",
    "    \"gestation_weeks\",\n",
    "]\n",
    "\n",
    "# TODO: Add string name for label column\n",
    "LABEL_COLUMN = \"weight_pounds\"\n",
    "\n",
    "NUMERICAL_COLUMNS = [\"mother_age\", \"gestation_weeks\"]\n",
    "CATEGORICAL_COLUMNS = [\"is_male\", \"plurality\"]\n",
    "\n",
    "# Set default values for each CSV column.\n",
    "# Treat is_male and plurality as strings.\n",
    "# TODOL Define Defaults\n",
    "DEFAULTS = [[0.0], [\"null\"], [0.0], [\"null\"], [0.0]]"
   ]
  },
  {
   "cell_type": "markdown",
   "metadata": {},
   "source": [
    "### Lab Task #2: Make dataset of features and label from CSV files.\n",
    "\n",
    "Next, we will write an input_fn to read the data. Since we are reading from CSV files we can save ourself from trying to recreate the wheel and can use `tf.data.experimental.make_csv_dataset`. This will create a CSV dataset object. However we will need to divide the columns up into features and a label. We can do this by applying the map method to our dataset and popping our label column off of our dictionary of feature tensors."
   ]
  },
  {
   "cell_type": "code",
   "execution_count": 5,
   "metadata": {},
   "outputs": [],
   "source": [
    "def features_and_labels(row_data):\n",
    "    \"\"\"Splits features and labels from feature dictionary.\n",
    "\n",
    "    Args:\n",
    "        row_data: Dictionary of CSV column names and tensor values.\n",
    "    Returns:\n",
    "        Dictionary of feature tensors and label tensor.\n",
    "    \"\"\"\n",
    "    label = row_data.pop(LABEL_COLUMN)\n",
    "\n",
    "    return row_data, label  # features, label\n",
    "\n",
    "\n",
    "def load_dataset(pattern, batch_size=1, mode=tf.estimator.ModeKeys.EVAL):\n",
    "    \"\"\"Loads dataset using the tf.data API from CSV files.\n",
    "\n",
    "    Args:\n",
    "        pattern: str, file pattern to glob into list of files.\n",
    "        batch_size: int, the number of examples per batch.\n",
    "        mode: tf.estimator.ModeKeys to determine if training or evaluating.\n",
    "    Returns:\n",
    "        `Dataset` object.\n",
    "    \"\"\"\n",
    "    # TODO: Make a CSV dataset\n",
    "    dataset = tf.data.experimental.make_csv_dataset(\n",
    "        file_pattern=pattern,\n",
    "        batch_size=batch_size,\n",
    "        column_names=CSV_COLUMNS,\n",
    "        column_defaults=DEFAULTS,\n",
    "    )\n",
    "\n",
    "    # TODO: Map dataset to features and label\n",
    "    dataset = dataset.map(features_and_labels)  # features, label\n",
    "\n",
    "    # Shuffle and repeat for training\n",
    "    if mode == tf.estimator.ModeKeys.TRAIN:\n",
    "        dataset = dataset.shuffle(buffer_size=1000).repeat()\n",
    "\n",
    "    # Take advantage of multi-threading; 1=AUTOTUNE\n",
    "    dataset = dataset.prefetch(buffer_size=1)\n",
    "\n",
    "    return dataset"
   ]
  },
  {
   "cell_type": "markdown",
   "metadata": {},
   "source": [
    "### Lab Task #3: Create input layers for raw features.\n",
    "\n",
    "We'll need to get the data read in by our input function to our model function, but just how do we go about connecting the dots? We can use Keras input layers [(tf.Keras.layers.Input)](https://www.tensorflow.org/api_docs/python/tf/keras/Input) by defining:\n",
    "* shape: A shape tuple (integers), not including the batch size. For instance, shape=(32,) indicates that the expected input will be batches of 32-dimensional vectors. Elements of this tuple can be None; 'None' elements represent dimensions where the shape is not known.\n",
    "* name: An optional name string for the layer. Should be unique in a model (do not reuse the same name twice). It will be autogenerated if it isn't provided.\n",
    "* dtype: The data type expected by the input, as a string (float32, float64, int32...)"
   ]
  },
  {
   "cell_type": "code",
   "execution_count": 23,
   "metadata": {},
   "outputs": [],
   "source": [
    "def create_input_layers():\n",
    "    \"\"\"Creates dictionary of input layers for each feature.\n",
    "\n",
    "    Returns:\n",
    "        Dictionary of `tf.Keras.layers.Input` layers for each feature.\n",
    "    \"\"\"\n",
    "    # TODO: Create dictionary of tf.keras.layers.Input for each dense feature\n",
    "    deep_inputs = {\n",
    "        colname: tf.keras.layers.Input(\n",
    "            name=colname, shape=(1,), dtype=\"float32\"\n",
    "        )\n",
    "        for colname in [\"mother_age\", \"gestation_weeks\"]\n",
    "    }\n",
    "\n",
    "    # TODO: Create dictionary of tf.keras.layers.Input for each sparse feature\n",
    "    wide_inputs = {\n",
    "        colname: tf.keras.layers.Input(name=colname, shape=(1,), dtype=\"string\")\n",
    "        for colname in [\"is_male\", \"plurality\"]\n",
    "    }\n",
    "\n",
    "    inputs = {**wide_inputs, **deep_inputs}\n",
    "\n",
    "    return inputs"
   ]
  },
  {
   "cell_type": "markdown",
   "metadata": {
    "editable": true
   },
   "source": [
    "### Lab Task #4: Define preprocessing layers for inputs.\n",
    "\n",
    "Next, define the preprocesing layers. `mother_age` and `gestation_weeks` should be numeric. The others, `is_male` and `plurality`, should be categorical. "
   ]
  },
  {
   "cell_type": "code",
   "execution_count": 20,
   "metadata": {},
   "outputs": [],
   "source": [
    "def transform(inputs, nembeds):\n",
    "    \"\"\"Creates dictionary of transformed inputs.\n",
    "\n",
    "    Returns:\n",
    "        Dictionary of transformed Tensors\n",
    "    \"\"\"\n",
    "\n",
    "    deep = {}\n",
    "    wide = {}\n",
    "\n",
    "    buckets = {\n",
    "        \"mother_age\": np.arange(15, 45, 1).tolist(),\n",
    "        \"gestation_weeks\": np.arange(17, 47, 1).tolist(),\n",
    "    }\n",
    "    bucketized = {}\n",
    "\n",
    "    for nc in NUMERICAL_COLUMNS:\n",
    "        deep[nc] = inputs[nc]\n",
    "        # TODO: Bucketize and and One-hot encode NUMERIC_COLUMNS\n",
    "        bucketized[nc] = tf.keras.layers.Discretization(buckets[nc])(inputs[nc])\n",
    "        wide[f\"bkt_{nc}\"] = tf.keras.layers.CategoryEncoding(\n",
    "            num_tokens=len(buckets[nc]) + 1, output_mode=\"one_hot\"\n",
    "        )(bucketized[nc])\n",
    "\n",
    "    # TODO: Define Crossed Feature of Bucketized `mother_age` and `gestation_weeks`\n",
    "    crossed = tf.keras.layers.experimental.preprocessing.HashedCrossing(\n",
    "        num_bins=len(buckets[\"mother_age\"]) * len(buckets[\"gestation_weeks\"])\n",
    "    )((bucketized[\"mother_age\"], bucketized[\"gestation_weeks\"]))\n",
    "\n",
    "    # TODO: Eembedding of Feature Cross. Use `nembeds` variable for embedding dimentions\n",
    "    deep[\"age_gestation_embeds\"] = tf.keras.layers.Flatten()(\n",
    "        tf.keras.layers.Embedding(\n",
    "            input_dim=len(buckets[\"mother_age\"])\n",
    "            * len(buckets[\"gestation_weeks\"]),\n",
    "            output_dim=nembeds,\n",
    "        )(crossed)\n",
    "    )\n",
    "\n",
    "    vocab = {\n",
    "        \"is_male\": [\"True\", \"False\", \"Unknown\"],\n",
    "        \"plurality\": [\n",
    "            \"Single(1)\",\n",
    "            \"Twins(2)\",\n",
    "            \"Triplets(3)\",\n",
    "            \"Quadruplets(4)\",\n",
    "            \"Quintuplets(5)\",\n",
    "            \"Multiple(2+)\",\n",
    "        ],\n",
    "    }\n",
    "\n",
    "    for cc in CATEGORICAL_COLUMNS:\n",
    "        # TODO: One-hot encode CATEGORICAL_COLUMNS\n",
    "        wide[cc] = tf.keras.layers.StringLookup(\n",
    "            vocabulary=vocab[cc], output_mode=\"one_hot\"\n",
    "        )(inputs[cc])\n",
    "\n",
    "    return wide, deep"
   ]
  },
  {
   "cell_type": "markdown",
   "metadata": {},
   "source": [
    "### Lab Task #5: Create wide and deep model and output layer.\n",
    "\n",
    "So we've figured out how to get our inputs ready for machine learning but now we need to connect them to our desired output. Our model architecture is what links the two together. We need to create a wide and deep model now. The wide side will just be a linear regression or dense layer. For the deep side, let's create some hidden dense layers. All of this will end with a single dense output layer. This is regression so make sure the output layer activation is correct and that the shape is right."
   ]
  },
  {
   "cell_type": "code",
   "execution_count": 12,
   "metadata": {},
   "outputs": [],
   "source": [
    "def get_model_outputs(wide_inputs, deep_inputs, dnn_hidden_units):\n",
    "    \"\"\"Creates model architecture and returns outputs.\n",
    "\n",
    "    Args:\n",
    "        wide_inputs: Dense tensor used as inputs to wide side of model.\n",
    "        deep_inputs: Dense tensor used as inputs to deep side of model.\n",
    "        dnn_hidden_units: List of integers where length is number of hidden\n",
    "            layers and ith element is the number of neurons at ith layer.\n",
    "    Returns:\n",
    "        Dense tensor output from the model.\n",
    "    \"\"\"\n",
    "    # Hidden layers for the deep side\n",
    "    layers = [int(x) for x in dnn_hidden_units]\n",
    "    deep = deep_inputs\n",
    "\n",
    "    # TODO: Create DNN model for the deep side\n",
    "    for layerno, numnodes in enumerate(layers):\n",
    "        deep = tf.keras.layers.Dense(\n",
    "            units=numnodes, activation=\"relu\", name=f\"dnn_{layerno + 1}\"\n",
    "        )(deep)\n",
    "    deep_out = deep\n",
    "\n",
    "    # TODO: Create linear model for the wide side\n",
    "    wide_out = tf.keras.layers.Dense(\n",
    "        units=10, activation=\"relu\", name=\"linear\"\n",
    "    )(wide_inputs)\n",
    "\n",
    "    # Concatenate the two sides\n",
    "    both = tf.keras.layers.Concatenate(name=\"both\")([deep_out, wide_out])\n",
    "\n",
    "    # TODO: Create final output layer\n",
    "    output = tf.keras.layers.Dense(units=1, activation=\"linear\", name=\"weight\")(\n",
    "        both\n",
    "    )\n",
    "\n",
    "    return output"
   ]
  },
  {
   "cell_type": "markdown",
   "metadata": {},
   "source": [
    "### Lab Task #6: Create custom evaluation metric.\n",
    "\n",
    "We want to make sure that we have some useful way to measure model performance for us. Since this is regression, we would like to know the RMSE of the model on our evaluation dataset, however, this does not exist as a standard evaluation metric, so we'll have to create our own by using the true and predicted labels."
   ]
  },
  {
   "cell_type": "code",
   "execution_count": 13,
   "metadata": {},
   "outputs": [],
   "source": [
    "def rmse(y_true, y_pred):\n",
    "    \"\"\"Calculates RMSE evaluation metric.\n",
    "\n",
    "    Args:\n",
    "        y_true: tensor, true labels.\n",
    "        y_pred: tensor, predicted labels.\n",
    "    Returns:\n",
    "        Tensor with value of RMSE between true and predicted labels.\n",
    "    \"\"\"\n",
    "    return tf.sqrt(tf.reduce_mean((y_pred - y_true) ** 2))"
   ]
  },
  {
   "cell_type": "markdown",
   "metadata": {},
   "source": [
    "### Lab Task #7: Build wide and deep model tying all of the pieces together.\n",
    "\n",
    "Excellent! We've assembled all of the pieces, now we just need to tie them all together into a Keras Model. This is NOT a simple feedforward model with no branching, side inputs, etc. so we can't use Keras' Sequential Model API. We're instead going to use Keras' Functional Model API. Here we will build the model using [tf.keras.models.Model](https://www.tensorflow.org/api_docs/python/tf/keras/Model) giving our inputs and outputs and then compile our model with an optimizer, a loss function, and evaluation metrics."
   ]
  },
  {
   "cell_type": "code",
   "execution_count": 24,
   "metadata": {},
   "outputs": [
    {
     "name": "stdout",
     "output_type": "stream",
     "text": [
      "Here is our wide and deep architecture so far:\n",
      "\n",
      "wide: {'bkt_mother_age': <KerasTensor: shape=(None, 31) dtype=float32 (created by layer 'category_encoding_10')>, 'bkt_gestation_weeks': <KerasTensor: shape=(None, 31) dtype=float32 (created by layer 'category_encoding_11')>, 'is_male': <KerasTensor: shape=(None, 4) dtype=float32 (created by layer 'string_lookup_10')>, 'plurality': <KerasTensor: shape=(None, 7) dtype=float32 (created by layer 'string_lookup_11')>}\n",
      "deep: {'mother_age': <KerasTensor: shape=(None, 1) dtype=float32 (created by layer 'mother_age')>, 'gestation_weeks': <KerasTensor: shape=(None, 1) dtype=float32 (created by layer 'gestation_weeks')>, 'age_gestation_embeds': <KerasTensor: shape=(None, 3) dtype=float32 (created by layer 'flatten_5')>}\n",
      "Model: \"model\"\n",
      "__________________________________________________________________________________________________\n",
      " Layer (type)                   Output Shape         Param #     Connected to                     \n",
      "==================================================================================================\n",
      " mother_age (InputLayer)        [(None, 1)]          0           []                               \n",
      "                                                                                                  \n",
      " gestation_weeks (InputLayer)   [(None, 1)]          0           []                               \n",
      "                                                                                                  \n",
      " discretization_11 (Discretizat  (None, 1)           0           ['mother_age[0][0]']             \n",
      " ion)                                                                                             \n",
      "                                                                                                  \n",
      " discretization_12 (Discretizat  (None, 1)           0           ['gestation_weeks[0][0]']        \n",
      " ion)                                                                                             \n",
      "                                                                                                  \n",
      " hashed_crossing_5 (HashedCross  (None, 1)           0           ['discretization_11[0][0]',      \n",
      " ing)                                                             'discretization_12[0][0]']      \n",
      "                                                                                                  \n",
      " embedding_5 (Embedding)        (None, 1, 3)         2700        ['hashed_crossing_5[0][0]']      \n",
      "                                                                                                  \n",
      " flatten_5 (Flatten)            (None, 3)            0           ['embedding_5[0][0]']            \n",
      "                                                                                                  \n",
      " is_male (InputLayer)           [(None, 1)]          0           []                               \n",
      "                                                                                                  \n",
      " plurality (InputLayer)         [(None, 1)]          0           []                               \n",
      "                                                                                                  \n",
      " concatenate_10 (Concatenate)   (None, 5)            0           ['mother_age[0][0]',             \n",
      "                                                                  'gestation_weeks[0][0]',        \n",
      "                                                                  'flatten_5[0][0]']              \n",
      "                                                                                                  \n",
      " category_encoding_10 (Category  (None, 31)          0           ['discretization_11[0][0]']      \n",
      " Encoding)                                                                                        \n",
      "                                                                                                  \n",
      " category_encoding_11 (Category  (None, 31)          0           ['discretization_12[0][0]']      \n",
      " Encoding)                                                                                        \n",
      "                                                                                                  \n",
      " string_lookup_10 (StringLookup  (None, 4)           0           ['is_male[0][0]']                \n",
      " )                                                                                                \n",
      "                                                                                                  \n",
      " string_lookup_11 (StringLookup  (None, 7)           0           ['plurality[0][0]']              \n",
      " )                                                                                                \n",
      "                                                                                                  \n",
      " dnn_1 (Dense)                  (None, 64)           384         ['concatenate_10[0][0]']         \n",
      "                                                                                                  \n",
      " concatenate_9 (Concatenate)    (None, 73)           0           ['category_encoding_10[0][0]',   \n",
      "                                                                  'category_encoding_11[0][0]',   \n",
      "                                                                  'string_lookup_10[0][0]',       \n",
      "                                                                  'string_lookup_11[0][0]']       \n",
      "                                                                                                  \n",
      " dnn_2 (Dense)                  (None, 32)           2080        ['dnn_1[0][0]']                  \n",
      "                                                                                                  \n",
      " linear (Dense)                 (None, 10)           740         ['concatenate_9[0][0]']          \n",
      "                                                                                                  \n",
      " both (Concatenate)             (None, 42)           0           ['dnn_2[0][0]',                  \n",
      "                                                                  'linear[0][0]']                 \n",
      "                                                                                                  \n",
      " weight (Dense)                 (None, 1)            43          ['both[0][0]']                   \n",
      "                                                                                                  \n",
      "==================================================================================================\n",
      "Total params: 5,947\n",
      "Trainable params: 5,947\n",
      "Non-trainable params: 0\n",
      "__________________________________________________________________________________________________\n",
      "None\n"
     ]
    }
   ],
   "source": [
    "def build_wide_deep_model(dnn_hidden_units=[64, 32], nembeds=3):\n",
    "    \"\"\"Builds wide and deep model using Keras Functional API.\n",
    "\n",
    "    Returns:\n",
    "        `tf.keras.models.Model` object.\n",
    "    \"\"\"\n",
    "    # Create input layers\n",
    "    inputs = create_input_layers()\n",
    "\n",
    "    # transform raw features for both wide and deep\n",
    "    wide, deep = transform(inputs, nembeds)\n",
    "    print(f\"wide: {wide}\")\n",
    "    print(f\"deep: {deep}\")\n",
    "\n",
    "    # The Functional API in Keras requires: LayerConstructor()(inputs)\n",
    "    # TODO: Concatenate wide inputs and deep inputs\n",
    "    wide_inputs = tf.keras.layers.Concatenate()(wide.values())\n",
    "    deep_inputs = tf.keras.layers.Concatenate()(deep.values())\n",
    "\n",
    "    # Get output of model given inputs\n",
    "    output = get_model_outputs(wide_inputs, deep_inputs, dnn_hidden_units)\n",
    "\n",
    "    # Build model and compile it all together\n",
    "    model = tf.keras.models.Model(inputs=inputs, outputs=output)\n",
    "    model.compile(optimizer=\"adam\", loss=\"mse\", metrics=[rmse])\n",
    "\n",
    "    return model\n",
    "\n",
    "\n",
    "print(\"Here is our wide and deep architecture so far:\\n\")\n",
    "model = build_wide_deep_model()\n",
    "print(model.summary())"
   ]
  },
  {
   "cell_type": "markdown",
   "metadata": {},
   "source": [
    "We can visualize the wide and deep network using the Keras plot_model utility."
   ]
  },
  {
   "cell_type": "code",
   "execution_count": 25,
   "metadata": {},
   "outputs": [
    {
     "data": {
      "image/png": "[encoded data removed]",
      "text/plain": [
       "<IPython.core.display.Image object>"
      ]
     },
     "execution_count": 25,
     "metadata": {},
     "output_type": "execute_result"
    }
   ],
   "source": [
    "tf.keras.utils.plot_model(\n",
    "    model=model, to_file=\"wd_model.png\", show_shapes=False, rankdir=\"LR\"\n",
    ")"
   ]
  },
  {
   "cell_type": "markdown",
   "metadata": {},
   "source": [
    "## Run and evaluate model"
   ]
  },
  {
   "cell_type": "markdown",
   "metadata": {
    "deletable": true,
    "editable": true
   },
   "source": [
    "### Lab Task #8: Train and evaluate.\n",
    "\n",
    "We've built our Keras model using our inputs from our CSV files and the architecture we designed. Let's now run our model by training our model parameters and periodically running an evaluation to track how well we are doing on outside data as training goes on. We'll need to load both our train and eval datasets and send those to our model through the fit method. Make sure you have the right pattern, batch size, and mode when loading the data. Also, don't forget to add the callback to TensorBoard."
   ]
  },
  {
   "cell_type": "code",
   "execution_count": 28,
   "metadata": {
    "deletable": true,
    "editable": true
   },
   "outputs": [
    {
     "name": "stdout",
     "output_type": "stream",
     "text": [
      "Epoch 1/5\n",
      "312/312 [==============================] - 3s 4ms/step - loss: 1.5962 - rmse: 1.1763 - val_loss: 1.2587 - val_rmse: 1.1217\n",
      "Epoch 2/5\n",
      "312/312 [==============================] - 1s 3ms/step - loss: 1.1367 - rmse: 1.0560 - val_loss: 1.1158 - val_rmse: 1.0561\n",
      "Epoch 3/5\n",
      "312/312 [==============================] - 1s 3ms/step - loss: 1.0889 - rmse: 1.0343 - val_loss: 1.1129 - val_rmse: 1.0546\n",
      "Epoch 4/5\n",
      "312/312 [==============================] - 1s 4ms/step - loss: 1.0775 - rmse: 1.0272 - val_loss: 1.0588 - val_rmse: 1.0285\n",
      "Epoch 5/5\n",
      "312/312 [==============================] - 1s 3ms/step - loss: 1.0442 - rmse: 1.0107 - val_loss: 1.0664 - val_rmse: 1.0325\n"
     ]
    }
   ],
   "source": [
    "TRAIN_BATCH_SIZE = 32\n",
    "NUM_TRAIN_EXAMPLES = 10000 * 5  # training dataset repeats, it'll wrap around\n",
    "NUM_EVALS = 5  # how many times to evaluate\n",
    "# Enough to get a reasonable sample, but not so much that it slows down\n",
    "NUM_EVAL_EXAMPLES = 10000\n",
    "\n",
    "# TODO: Load training dataset\n",
    "trainds = load_dataset(\n",
    "    pattern=\"train*\",\n",
    "    batch_size=TRAIN_BATCH_SIZE,\n",
    "    mode=tf.estimator.ModeKeys.TRAIN,\n",
    ")\n",
    "\n",
    "evalds = load_dataset(\n",
    "    pattern=\"eval*\", batch_size=1000, mode=tf.estimator.ModeKeys.EVAL\n",
    ").take(count=NUM_EVAL_EXAMPLES // 1000)\n",
    "\n",
    "steps_per_epoch = NUM_TRAIN_EXAMPLES // (TRAIN_BATCH_SIZE * NUM_EVALS)\n",
    "\n",
    "logdir = os.path.join(\"logs\", datetime.datetime.now().strftime(\"%Y%m%d-%H%M%S\"))\n",
    "tensorboard_callback = tf.keras.callbacks.TensorBoard(\n",
    "    log_dir=logdir, histogram_freq=1\n",
    ")\n",
    "\n",
    "history = model.fit(\n",
    "    trainds,\n",
    "    validation_data=evalds,\n",
    "    epochs=NUM_EVALS,\n",
    "    steps_per_epoch=steps_per_epoch,\n",
    "    callbacks=[tensorboard_callback],\n",
    ")"
   ]
  },
  {
   "cell_type": "markdown",
   "metadata": {
    "deletable": true,
    "editable": true
   },
   "source": [
    "### Visualize loss curve"
   ]
  },
  {
   "cell_type": "code",
   "execution_count": 29,
   "metadata": {},
   "outputs": [
    {
     "data": {
      "image/png": "[encoded data removed]",
      "text/plain": [
       "<Figure size 720x360 with 2 Axes>"
      ]
     },
     "metadata": {
      "needs_background": "light"
     },
     "output_type": "display_data"
    }
   ],
   "source": [
    "# Plot\n",
    "nrows = 1\n",
    "ncols = 2\n",
    "fig = plt.figure(figsize=(10, 5))\n",
    "\n",
    "for idx, key in enumerate([\"loss\", \"rmse\"]):\n",
    "    ax = fig.add_subplot(nrows, ncols, idx + 1)\n",
    "    plt.plot(history.history[key])\n",
    "    plt.plot(history.history[f\"val_{key}\"])\n",
    "    plt.title(f\"model {key}\")\n",
    "    plt.ylabel(key)\n",
    "    plt.xlabel(\"epoch\")\n",
    "    plt.legend([\"train\", \"validation\"], loc=\"upper left\");"
   ]
  },
  {
   "cell_type": "markdown",
   "metadata": {},
   "source": [
    "### Save the model"
   ]
  },
  {
   "cell_type": "code",
   "execution_count": 30,
   "metadata": {
    "collapsed": false,
    "deletable": true,
    "editable": true,
    "jupyter": {
     "outputs_hidden": false
    }
   },
   "outputs": [
    {
     "name": "stderr",
     "output_type": "stream",
     "text": [
      "2022-07-18 17:41:19.867226: W tensorflow/python/util/util.cc:368] Sets are not currently considered sequences, but this may change in the future, so consider avoiding using them.\n"
     ]
    },
    {
     "name": "stdout",
     "output_type": "stream",
     "text": [
      "INFO:tensorflow:Assets written to: babyweight_trained_wd/20220718174119/assets\n",
      "Exported trained model to babyweight_trained_wd/20220718174119\n"
     ]
    }
   ],
   "source": [
    "OUTPUT_DIR = \"babyweight_trained_wd\"\n",
    "shutil.rmtree(OUTPUT_DIR, ignore_errors=True)\n",
    "EXPORT_PATH = os.path.join(\n",
    "    OUTPUT_DIR, datetime.datetime.now().strftime(\"%Y%m%d%H%M%S\")\n",
    ")\n",
    "tf.saved_model.save(\n",
    "    obj=model, export_dir=EXPORT_PATH\n",
    ")  # with default serving function\n",
    "print(f\"Exported trained model to {EXPORT_PATH}\")"
   ]
  },
  {
   "cell_type": "code",
   "execution_count": 31,
   "metadata": {},
   "outputs": [
    {
     "name": "stdout",
     "output_type": "stream",
     "text": [
      "assets\tsaved_model.pb\tvariables\n"
     ]
    }
   ],
   "source": [
    "!ls $EXPORT_PATH"
   ]
  },
  {
   "cell_type": "markdown",
   "metadata": {},
   "source": [
    "## Lab Summary: \n",
    "In this lab, we started by defining the CSV column names, label column, and column defaults for our data inputs. Then, we constructed a tf.data Dataset of features and the label from the CSV files and created inputs layers for the raw features. Next, we set up preprocessing layers for the model inputs and built a wide and deep neural network in Keras. We created a custom evaluation metric and built our wide and deep model. Finally, we trained and evaluated our model."
   ]
  },
  {
   "cell_type": "markdown",
   "metadata": {
    "deletable": true,
    "editable": true
   },
   "source": [
    "Copyright 2021 Google LLC\n",
    "Licensed under the Apache License, Version 2.0 (the \"License\");\n",
    "you may not use this file except in compliance with the License.\n",
    "You may obtain a copy of the License at\n",
    "    https://www.apache.org/licenses/LICENSE-2.0\n",
    "Unless required by applicable law or agreed to in writing, software\n",
    "distributed under the License is distributed on an \"AS IS\" BASIS,\n",
    "WITHOUT WARRANTIES OR CONDITIONS OF ANY KIND, either express or implied.\n",
    "See the License for the specific language governing permissions and\n",
    "limitations under the License."
   ]
  },
  {
   "cell_type": "code",
   "execution_count": null,
   "metadata": {},
   "outputs": [],
   "source": []
  }
 ],
 "metadata": {
  "environment": {
   "kernel": "python3",
   "name": "tf2-gpu.2-6.m94",
   "type": "gcloud",
   "uri": "gcr.io/deeplearning-platform-release/tf2-gpu.2-6:m94"
  },
  "kernelspec": {
   "display_name": "Python 3",
   "language": "python",
   "name": "python3"
  },
  "language_info": {
   "codemirror_mode": {
    "name": "ipython",
    "version": 3
   },
   "file_extension": ".py",
   "mimetype": "text/x-python",
   "name": "python",
   "nbconvert_exporter": "python",
   "pygments_lexer": "ipython3",
   "version": "3.7.12"
  }
 },
 "nbformat": 4,
 "nbformat_minor": 4
}
