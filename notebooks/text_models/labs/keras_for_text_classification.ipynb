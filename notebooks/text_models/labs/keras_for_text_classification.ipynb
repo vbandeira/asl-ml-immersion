{
 "cells": [
  {
   "cell_type": "markdown",
   "metadata": {},
   "source": [
    "# Keras for Text Classification\n",
    "\n",
    "**Learning Objectives**\n",
    "1. Learn how to create a text classification datasets using BigQuery\n",
    "1. Learn how to tokenize and integerize a corpus of text for training in Keras\n",
    "1. Learn how to do one-hot-encodings in Keras\n",
    "1. Learn how to use embedding layers to represent words in Keras\n",
    "1. Learn about the bag-of-word representation for sentences\n",
    "1. Learn how to use DNN/CNN/RNN model to classify text in keras\n",
    "\n",
    "## Introduction\n",
    "\n",
    "\n",
    "In this notebook, we will implement text models to recognize the probable source (GitHub, TechCrunch, or The New York Times) of the titles we have in the title dataset we constructed in the first task of the lab.\n",
    "\n",
    "In the next step, we will load and pre-process the texts and labels so that they are suitable to be fed to a Keras model. For the texts of the titles we will learn how to split them into a list of tokens, and then how to map each token to an integer using the Keras Tokenizer class. What will be fed to our Keras models will be batches of padded list of integers representing the text. For the labels, we will learn how to one-hot-encode each of the 3 classes into a 3 dimensional basis vector.\n",
    "\n",
    "Then we will explore a few possible models to do the title classification. All models will be fed padded list of integers, and all models will start with a Keras Embedding layer that transforms the integer representing the words into dense vectors.\n",
    "\n",
    "The first model will be a simple bag-of-word DNN model that averages up the word vectors and feeds the tensor that results to further dense layers. Doing so means that we forget the word order (and hence that we consider sentences as a “bag-of-words”). In the second and in the third model we will keep the information about the word order using a simple RNN and a simple CNN allowing us to achieve the same performance as with the DNN model but in much fewer epochs.\n",
    "\n",
    "Each learning objective will correspond to a __#TODO__ in this student lab notebook -- try to complete this notebook first and then review the [solution notebook](../solutions/keras_for_text_classification.ipynb)."
   ]
  },
  {
   "cell_type": "code",
   "execution_count": 1,
   "metadata": {},
   "outputs": [],
   "source": [
    "import os\n",
    "\n",
    "import pandas as pd\n",
    "from google.cloud import bigquery"
   ]
  },
  {
   "cell_type": "code",
   "execution_count": 2,
   "metadata": {},
   "outputs": [
    {
     "name": "stdout",
     "output_type": "stream",
     "text": [
      "The google.cloud.bigquery extension is already loaded. To reload it, use:\n",
      "  %reload_ext google.cloud.bigquery\n"
     ]
    }
   ],
   "source": [
    "%load_ext google.cloud.bigquery"
   ]
  },
  {
   "cell_type": "markdown",
   "metadata": {},
   "source": [
    "Replace the variable values in the cell below:"
   ]
  },
  {
   "cell_type": "code",
   "execution_count": 3,
   "metadata": {},
   "outputs": [
    {
     "name": "stdout",
     "output_type": "stream",
     "text": [
      "env: PROJECT=qwiklabs-asl-03-5d5c0ba6f6d6\n",
      "env: BUCKET=qwiklabs-asl-03-5d5c0ba6f6d6\n",
      "env: REGION=\"us-central1\"\n"
     ]
    }
   ],
   "source": [
    "PROJECT = !(gcloud config get-value core/project)\n",
    "PROJECT = PROJECT[0]\n",
    "%env PROJECT = {PROJECT}\n",
    "%env BUCKET = {PROJECT}\n",
    "%env REGION = \"us-central1\"\n",
    "SEED = 0"
   ]
  },
  {
   "cell_type": "markdown",
   "metadata": {},
   "source": [
    "## Create a Dataset from BigQuery \n",
    "\n",
    "Hacker news headlines are available as a BigQuery public dataset. The [dataset](https://bigquery.cloud.google.com/table/bigquery-public-data:hacker_news.stories?tab=details) contains all headlines from the sites inception in October 2006 until October 2015. \n",
    "\n",
    "### Lab Task 1a: \n",
    "Complete the query below to create a sample dataset containing the `url`, `title`, and `score` of articles from the public dataset `bigquery-public-data.hacker_news.stories`. Use a WHERE clause to restrict to only those articles with\n",
    "* title length greater than 10 characters\n",
    "* score greater than 10\n",
    "* url length greater than 0 characters"
   ]
  },
  {
   "cell_type": "code",
   "execution_count": 5,
   "metadata": {},
   "outputs": [
    {
     "name": "stderr",
     "output_type": "stream",
     "text": [
      "Query complete after 0.01s: 100%|██████████| 2/2 [00:00<00:00, 835.69query/s]                         \n",
      "Downloading: 100%|██████████| 10/10 [00:01<00:00,  6.91rows/s]\n"
     ]
    },
    {
     "data": {
      "text/html": [
       "<div>\n",
       "<style scoped>\n",
       "    .dataframe tbody tr th:only-of-type {\n",
       "        vertical-align: middle;\n",
       "    }\n",
       "\n",
       "    .dataframe tbody tr th {\n",
       "        vertical-align: top;\n",
       "    }\n",
       "\n",
       "    .dataframe thead th {\n",
       "        text-align: right;\n",
       "    }\n",
       "</style>\n",
       "<table border=\"1\" class=\"dataframe\">\n",
       "  <thead>\n",
       "    <tr style=\"text-align: right;\">\n",
       "      <th></th>\n",
       "      <th>url</th>\n",
       "      <th>title</th>\n",
       "      <th>score</th>\n",
       "    </tr>\n",
       "  </thead>\n",
       "  <tbody>\n",
       "    <tr>\n",
       "      <th>0</th>\n",
       "      <td>http://www.bbc.co.uk/news/business-27732743</td>\n",
       "      <td>Vodafone reveals direct government wiretaps</td>\n",
       "      <td>256</td>\n",
       "    </tr>\n",
       "    <tr>\n",
       "      <th>1</th>\n",
       "      <td>https://www.kickstarter.com/projects/appdocu/a...</td>\n",
       "      <td>Doc – App: The Human Story</td>\n",
       "      <td>11</td>\n",
       "    </tr>\n",
       "    <tr>\n",
       "      <th>2</th>\n",
       "      <td>http://www.starwebworld.com/android-jelly-bean...</td>\n",
       "      <td>Android Jelly Bean: Streaming Audio Through th...</td>\n",
       "      <td>11</td>\n",
       "    </tr>\n",
       "    <tr>\n",
       "      <th>3</th>\n",
       "      <td>http://www.myplanetdigital.com/digital_strateg...</td>\n",
       "      <td>Why Canadian Tech Entrepreneurs Need to Man/Wo...</td>\n",
       "      <td>11</td>\n",
       "    </tr>\n",
       "    <tr>\n",
       "      <th>4</th>\n",
       "      <td>http://startupislandconference.com/index.html</td>\n",
       "      <td>StartupConference June 13. - 16. 2013, HVAR Cr...</td>\n",
       "      <td>11</td>\n",
       "    </tr>\n",
       "    <tr>\n",
       "      <th>5</th>\n",
       "      <td>http://kopimism.org/</td>\n",
       "      <td>Kopimism Hactivism Meetup Tomorrow (Sunday) in...</td>\n",
       "      <td>11</td>\n",
       "    </tr>\n",
       "    <tr>\n",
       "      <th>6</th>\n",
       "      <td>http://unearthedgadget.com/xbox-live-gold-2/14...</td>\n",
       "      <td>Xbox Live Gold Membership Is It Really Worth -...</td>\n",
       "      <td>11</td>\n",
       "    </tr>\n",
       "    <tr>\n",
       "      <th>7</th>\n",
       "      <td>https://evertale.com</td>\n",
       "      <td>Evertale changes the way people remember</td>\n",
       "      <td>11</td>\n",
       "    </tr>\n",
       "    <tr>\n",
       "      <th>8</th>\n",
       "      <td>http://www.racketboy.com/retro/commodore-amiga...</td>\n",
       "      <td>Commodore Amiga: A Beginner’s Guide</td>\n",
       "      <td>11</td>\n",
       "    </tr>\n",
       "    <tr>\n",
       "      <th>9</th>\n",
       "      <td>http://www.extremetech.com/extreme/156393-cold...</td>\n",
       "      <td>Cold fusion reactor \"independently verified\"</td>\n",
       "      <td>11</td>\n",
       "    </tr>\n",
       "  </tbody>\n",
       "</table>\n",
       "</div>"
      ],
      "text/plain": [
       "                                                 url  \\\n",
       "0        http://www.bbc.co.uk/news/business-27732743   \n",
       "1  https://www.kickstarter.com/projects/appdocu/a...   \n",
       "2  http://www.starwebworld.com/android-jelly-bean...   \n",
       "3  http://www.myplanetdigital.com/digital_strateg...   \n",
       "4      http://startupislandconference.com/index.html   \n",
       "5                               http://kopimism.org/   \n",
       "6  http://unearthedgadget.com/xbox-live-gold-2/14...   \n",
       "7                               https://evertale.com   \n",
       "8  http://www.racketboy.com/retro/commodore-amiga...   \n",
       "9  http://www.extremetech.com/extreme/156393-cold...   \n",
       "\n",
       "                                               title  score  \n",
       "0        Vodafone reveals direct government wiretaps    256  \n",
       "1                         Doc – App: The Human Story     11  \n",
       "2  Android Jelly Bean: Streaming Audio Through th...     11  \n",
       "3  Why Canadian Tech Entrepreneurs Need to Man/Wo...     11  \n",
       "4  StartupConference June 13. - 16. 2013, HVAR Cr...     11  \n",
       "5  Kopimism Hactivism Meetup Tomorrow (Sunday) in...     11  \n",
       "6  Xbox Live Gold Membership Is It Really Worth -...     11  \n",
       "7           Evertale changes the way people remember     11  \n",
       "8                Commodore Amiga: A Beginner’s Guide     11  \n",
       "9       Cold fusion reactor \"independently verified\"     11  "
      ]
     },
     "execution_count": 5,
     "metadata": {},
     "output_type": "execute_result"
    }
   ],
   "source": [
    "%%bigquery --project $PROJECT\n",
    "\n",
    "SELECT\n",
    "    # TODO: Your code goes here.\n",
    "    url,\n",
    "    title,\n",
    "    score\n",
    "FROM\n",
    "    # TODO: Your code goes here.\n",
    "    `bigquery-public-data.hacker_news.stories`\n",
    "WHERE\n",
    "    # TODO: Your code goes here.\n",
    "    LENGTH(title) > 10 AND\n",
    "    # TODO: Your code goes here.\n",
    "    score > 10 AND\n",
    "    # TODO: Your code goes here.\n",
    "    LENGTH(url) > 0\n",
    "LIMIT 10"
   ]
  },
  {
   "cell_type": "markdown",
   "metadata": {},
   "source": [
    "Let's do some regular expression parsing in BigQuery to get the source of the newspaper article from the URL. For example, if the url is http://mobile.nytimes.com/...., I want to be left with <i>nytimes</i>"
   ]
  },
  {
   "cell_type": "markdown",
   "metadata": {},
   "source": [
    "### Lab task 1b:\n",
    "Complete the query below to count the number of titles within each 'source' category. Note that to grab the 'source' of the article we use the a regex command on the `url` of the article. To count the number of articles you'll use a `GROUP BY` in sql, and we'll also restrict our attention to only those articles whose title has greater than 10 characters."
   ]
  },
  {
   "cell_type": "code",
   "execution_count": 8,
   "metadata": {},
   "outputs": [
    {
     "name": "stderr",
     "output_type": "stream",
     "text": [
      "Query complete after 0.00s: 100%|██████████| 3/3 [00:00<00:00, 1135.95query/s]                        \n",
      "Downloading: 100%|██████████| 100/100 [00:01<00:00, 70.21rows/s]\n"
     ]
    },
    {
     "data": {
      "text/html": [
       "<div>\n",
       "<style scoped>\n",
       "    .dataframe tbody tr th:only-of-type {\n",
       "        vertical-align: middle;\n",
       "    }\n",
       "\n",
       "    .dataframe tbody tr th {\n",
       "        vertical-align: top;\n",
       "    }\n",
       "\n",
       "    .dataframe thead th {\n",
       "        text-align: right;\n",
       "    }\n",
       "</style>\n",
       "<table border=\"1\" class=\"dataframe\">\n",
       "  <thead>\n",
       "    <tr style=\"text-align: right;\">\n",
       "      <th></th>\n",
       "      <th>source</th>\n",
       "      <th>num_articles</th>\n",
       "    </tr>\n",
       "  </thead>\n",
       "  <tbody>\n",
       "    <tr>\n",
       "      <th>0</th>\n",
       "      <td>blogspot</td>\n",
       "      <td>41386</td>\n",
       "    </tr>\n",
       "    <tr>\n",
       "      <th>1</th>\n",
       "      <td>github</td>\n",
       "      <td>36525</td>\n",
       "    </tr>\n",
       "    <tr>\n",
       "      <th>2</th>\n",
       "      <td>techcrunch</td>\n",
       "      <td>30891</td>\n",
       "    </tr>\n",
       "    <tr>\n",
       "      <th>3</th>\n",
       "      <td>youtube</td>\n",
       "      <td>30848</td>\n",
       "    </tr>\n",
       "    <tr>\n",
       "      <th>4</th>\n",
       "      <td>nytimes</td>\n",
       "      <td>28787</td>\n",
       "    </tr>\n",
       "    <tr>\n",
       "      <th>...</th>\n",
       "      <td>...</td>\n",
       "      <td>...</td>\n",
       "    </tr>\n",
       "    <tr>\n",
       "      <th>95</th>\n",
       "      <td>f5</td>\n",
       "      <td>1254</td>\n",
       "    </tr>\n",
       "    <tr>\n",
       "      <th>96</th>\n",
       "      <td>gamasutra</td>\n",
       "      <td>1249</td>\n",
       "    </tr>\n",
       "    <tr>\n",
       "      <th>97</th>\n",
       "      <td>cnbc</td>\n",
       "      <td>1229</td>\n",
       "    </tr>\n",
       "    <tr>\n",
       "      <th>98</th>\n",
       "      <td>indiatimes</td>\n",
       "      <td>1223</td>\n",
       "    </tr>\n",
       "    <tr>\n",
       "      <th>99</th>\n",
       "      <td>computerworlduk</td>\n",
       "      <td>1166</td>\n",
       "    </tr>\n",
       "  </tbody>\n",
       "</table>\n",
       "<p>100 rows × 2 columns</p>\n",
       "</div>"
      ],
      "text/plain": [
       "             source  num_articles\n",
       "0          blogspot         41386\n",
       "1            github         36525\n",
       "2        techcrunch         30891\n",
       "3           youtube         30848\n",
       "4           nytimes         28787\n",
       "..              ...           ...\n",
       "95               f5          1254\n",
       "96        gamasutra          1249\n",
       "97             cnbc          1229\n",
       "98       indiatimes          1223\n",
       "99  computerworlduk          1166\n",
       "\n",
       "[100 rows x 2 columns]"
      ]
     },
     "execution_count": 8,
     "metadata": {},
     "output_type": "execute_result"
    }
   ],
   "source": [
    "%%bigquery --project $PROJECT\n",
    "\n",
    "SELECT\n",
    "    ARRAY_REVERSE(SPLIT(REGEXP_EXTRACT(url, '.*://(.[^/]+)/'), '.'))[OFFSET(1)] AS source,\n",
    "    # TODO: Your code goes here.\n",
    "    count(title) as num_articles\n",
    "FROM\n",
    "    `bigquery-public-data.hacker_news.stories`\n",
    "WHERE\n",
    "    REGEXP_CONTAINS(REGEXP_EXTRACT(url, '.*://(.[^/]+)/'), '.com$') AND\n",
    "    # TODO: Your code goes here.\n",
    "    LENGTH(title) > 10\n",
    "GROUP BY\n",
    "    # TODO: Your code goes here.\n",
    "    source\n",
    "ORDER BY num_articles DESC\n",
    "  LIMIT 100"
   ]
  },
  {
   "cell_type": "markdown",
   "metadata": {},
   "source": [
    "Now that we have good parsing of the URL to get the source, let's put together a dataset of source and titles. This will be our labeled dataset for machine learning."
   ]
  },
  {
   "cell_type": "code",
   "execution_count": 9,
   "metadata": {},
   "outputs": [
    {
     "name": "stdout",
     "output_type": "stream",
     "text": [
      "\n",
      "SELECT \n",
      "    LOWER(REGEXP_REPLACE(title, '[^a-zA-Z0-9 $.-]', ' ')) AS title,\n",
      "    source\n",
      "FROM\n",
      "  (\n",
      "SELECT\n",
      "    title,\n",
      "    ARRAY_REVERSE(SPLIT(REGEXP_EXTRACT(url, '.*://(.[^/]+)/'), '.'))[OFFSET(1)] AS source\n",
      "    \n",
      "FROM\n",
      "    `bigquery-public-data.hacker_news.stories`\n",
      "WHERE\n",
      "    REGEXP_CONTAINS(REGEXP_EXTRACT(url, '.*://(.[^/]+)/'), '.com$')\n",
      "    AND LENGTH(title) > 10\n",
      ")\n",
      "WHERE (source = 'github' OR source = 'nytimes' OR source = 'techcrunch')\n",
      "\n"
     ]
    }
   ],
   "source": [
    "regex = \".*://(.[^/]+)/\"\n",
    "\n",
    "\n",
    "sub_query = \"\"\"\n",
    "SELECT\n",
    "    title,\n",
    "    ARRAY_REVERSE(SPLIT(REGEXP_EXTRACT(url, '{0}'), '.'))[OFFSET(1)] AS source\n",
    "    \n",
    "FROM\n",
    "    `bigquery-public-data.hacker_news.stories`\n",
    "WHERE\n",
    "    REGEXP_CONTAINS(REGEXP_EXTRACT(url, '{0}'), '.com$')\n",
    "    AND LENGTH(title) > 10\n",
    "\"\"\".format(\n",
    "    regex\n",
    ")\n",
    "\n",
    "\n",
    "query = \"\"\"\n",
    "SELECT \n",
    "    LOWER(REGEXP_REPLACE(title, '[^a-zA-Z0-9 $.-]', ' ')) AS title,\n",
    "    source\n",
    "FROM\n",
    "  ({sub_query})\n",
    "WHERE (source = 'github' OR source = 'nytimes' OR source = 'techcrunch')\n",
    "\"\"\".format(\n",
    "    sub_query=sub_query\n",
    ")\n",
    "\n",
    "print(query)"
   ]
  },
  {
   "cell_type": "markdown",
   "metadata": {},
   "source": [
    "For ML training, we usually need to split our dataset into training and evaluation datasets (and perhaps an independent test dataset if we are going to do model or feature selection based on the evaluation dataset). AutoML however figures out on its own how to create these splits, so we won't need to do that here. \n",
    "\n"
   ]
  },
  {
   "cell_type": "code",
   "execution_count": 10,
   "metadata": {},
   "outputs": [
    {
     "data": {
      "text/html": [
       "<div>\n",
       "<style scoped>\n",
       "    .dataframe tbody tr th:only-of-type {\n",
       "        vertical-align: middle;\n",
       "    }\n",
       "\n",
       "    .dataframe tbody tr th {\n",
       "        vertical-align: top;\n",
       "    }\n",
       "\n",
       "    .dataframe thead th {\n",
       "        text-align: right;\n",
       "    }\n",
       "</style>\n",
       "<table border=\"1\" class=\"dataframe\">\n",
       "  <thead>\n",
       "    <tr style=\"text-align: right;\">\n",
       "      <th></th>\n",
       "      <th>title</th>\n",
       "      <th>source</th>\n",
       "    </tr>\n",
       "  </thead>\n",
       "  <tbody>\n",
       "    <tr>\n",
       "      <th>0</th>\n",
       "      <td>feminist-software-foundation complains about r...</td>\n",
       "      <td>github</td>\n",
       "    </tr>\n",
       "    <tr>\n",
       "      <th>1</th>\n",
       "      <td>expose sps as web services on the fly.</td>\n",
       "      <td>github</td>\n",
       "    </tr>\n",
       "    <tr>\n",
       "      <th>2</th>\n",
       "      <td>show hn  scrwl   shorthand code reading and wr...</td>\n",
       "      <td>github</td>\n",
       "    </tr>\n",
       "    <tr>\n",
       "      <th>3</th>\n",
       "      <td>geoip module on nodejs now is a c   addon</td>\n",
       "      <td>github</td>\n",
       "    </tr>\n",
       "    <tr>\n",
       "      <th>4</th>\n",
       "      <td>show hn  linuxexplorer</td>\n",
       "      <td>github</td>\n",
       "    </tr>\n",
       "  </tbody>\n",
       "</table>\n",
       "</div>"
      ],
      "text/plain": [
       "                                               title  source\n",
       "0  feminist-software-foundation complains about r...  github\n",
       "1             expose sps as web services on the fly.  github\n",
       "2  show hn  scrwl   shorthand code reading and wr...  github\n",
       "3          geoip module on nodejs now is a c   addon  github\n",
       "4                             show hn  linuxexplorer  github"
      ]
     },
     "execution_count": 10,
     "metadata": {},
     "output_type": "execute_result"
    }
   ],
   "source": [
    "bq = bigquery.Client(project=PROJECT)\n",
    "title_dataset = bq.query(query).to_dataframe()\n",
    "title_dataset.head()"
   ]
  },
  {
   "cell_type": "markdown",
   "metadata": {},
   "source": [
    "AutoML for text classification requires that\n",
    "* the dataset be in csv form with \n",
    "* the first column being the texts to classify or a GCS path to the text \n",
    "* the last colum to be the text labels\n",
    "\n",
    "The dataset we pulled from BiqQuery satisfies these requirements."
   ]
  },
  {
   "cell_type": "code",
   "execution_count": 11,
   "metadata": {},
   "outputs": [
    {
     "name": "stdout",
     "output_type": "stream",
     "text": [
      "The full dataset contains 96203 titles\n"
     ]
    }
   ],
   "source": [
    "print(f\"The full dataset contains {len(title_dataset)} titles\")"
   ]
  },
  {
   "cell_type": "markdown",
   "metadata": {},
   "source": [
    "Let's make sure we have roughly the same number of labels for each of our three labels:"
   ]
  },
  {
   "cell_type": "code",
   "execution_count": 12,
   "metadata": {},
   "outputs": [
    {
     "data": {
      "text/plain": [
       "github        36525\n",
       "techcrunch    30891\n",
       "nytimes       28787\n",
       "Name: source, dtype: int64"
      ]
     },
     "execution_count": 12,
     "metadata": {},
     "output_type": "execute_result"
    }
   ],
   "source": [
    "title_dataset.source.value_counts()"
   ]
  },
  {
   "cell_type": "markdown",
   "metadata": {},
   "source": [
    "Finally we will save our data, which is currently in-memory, to disk.\n",
    "\n",
    "We will create a csv file containing the full dataset and another containing only 1000 articles for development.\n",
    "\n",
    "**Note:** It may take a long time to train AutoML on the full dataset, so we recommend to use the sample dataset for the purpose of learning the tool. \n"
   ]
  },
  {
   "cell_type": "code",
   "execution_count": 13,
   "metadata": {},
   "outputs": [],
   "source": [
    "DATADIR = \"./data/\"\n",
    "\n",
    "if not os.path.exists(DATADIR):\n",
    "    os.makedirs(DATADIR)"
   ]
  },
  {
   "cell_type": "code",
   "execution_count": 14,
   "metadata": {},
   "outputs": [],
   "source": [
    "FULL_DATASET_NAME = \"titles_full.csv\"\n",
    "FULL_DATASET_PATH = os.path.join(DATADIR, FULL_DATASET_NAME)\n",
    "\n",
    "# Let's shuffle the data before writing it to disk.\n",
    "title_dataset = title_dataset.sample(n=len(title_dataset))\n",
    "\n",
    "title_dataset.to_csv(\n",
    "    FULL_DATASET_PATH, header=False, index=False, encoding=\"utf-8\"\n",
    ")"
   ]
  },
  {
   "cell_type": "markdown",
   "metadata": {},
   "source": [
    "Now let's sample 1000 articles from the full dataset and make sure we have enough examples for each label in our sample dataset (see [here](https://cloud.google.com/natural-language/automl/docs/beginners-guide) for further details on how to prepare data for AutoML)."
   ]
  },
  {
   "cell_type": "markdown",
   "metadata": {},
   "source": [
    "### Lab Task 1c:\n",
    "Use `.sample` to create a sample dataset of 1,000 articles from the full dataset. Use `.value_counts` to see how many articles are contained in each of the three source categories?"
   ]
  },
  {
   "cell_type": "code",
   "execution_count": 16,
   "metadata": {},
   "outputs": [
    {
     "data": {
      "text/plain": [
       "github        381\n",
       "techcrunch    333\n",
       "nytimes       286\n",
       "Name: source, dtype: int64"
      ]
     },
     "execution_count": 16,
     "metadata": {},
     "output_type": "execute_result"
    }
   ],
   "source": [
    "sample_title_dataset = title_dataset.sample(\n",
    "    n=1000\n",
    ")  # TODO: Your code goes here.\n",
    "# TODO: Your code goes here.\n",
    "sample_title_dataset.source.value_counts()"
   ]
  },
  {
   "cell_type": "markdown",
   "metadata": {},
   "source": [
    "Let's write the sample datatset to disk."
   ]
  },
  {
   "cell_type": "code",
   "execution_count": 17,
   "metadata": {},
   "outputs": [],
   "source": [
    "SAMPLE_DATASET_NAME = \"titles_sample.csv\"\n",
    "SAMPLE_DATASET_PATH = os.path.join(DATADIR, SAMPLE_DATASET_NAME)\n",
    "\n",
    "sample_title_dataset.to_csv(\n",
    "    SAMPLE_DATASET_PATH, header=False, index=False, encoding=\"utf-8\"\n",
    ")"
   ]
  },
  {
   "cell_type": "code",
   "execution_count": 18,
   "metadata": {},
   "outputs": [
    {
     "data": {
      "text/html": [
       "<div>\n",
       "<style scoped>\n",
       "    .dataframe tbody tr th:only-of-type {\n",
       "        vertical-align: middle;\n",
       "    }\n",
       "\n",
       "    .dataframe tbody tr th {\n",
       "        vertical-align: top;\n",
       "    }\n",
       "\n",
       "    .dataframe thead th {\n",
       "        text-align: right;\n",
       "    }\n",
       "</style>\n",
       "<table border=\"1\" class=\"dataframe\">\n",
       "  <thead>\n",
       "    <tr style=\"text-align: right;\">\n",
       "      <th></th>\n",
       "      <th>title</th>\n",
       "      <th>source</th>\n",
       "    </tr>\n",
       "  </thead>\n",
       "  <tbody>\n",
       "    <tr>\n",
       "      <th>45626</th>\n",
       "      <td>white house unbuttons formal dress code</td>\n",
       "      <td>nytimes</td>\n",
       "    </tr>\n",
       "    <tr>\n",
       "      <th>94635</th>\n",
       "      <td>alibaba turns 10   aims to create 100 million ...</td>\n",
       "      <td>techcrunch</td>\n",
       "    </tr>\n",
       "    <tr>\n",
       "      <th>26368</th>\n",
       "      <td>taking a stanford graduate course in a week</td>\n",
       "      <td>github</td>\n",
       "    </tr>\n",
       "    <tr>\n",
       "      <th>31305</th>\n",
       "      <td>show hn  miyagi  an obj-c json marshaller that...</td>\n",
       "      <td>github</td>\n",
       "    </tr>\n",
       "    <tr>\n",
       "      <th>37725</th>\n",
       "      <td>google s bigger  cheaper cloud</td>\n",
       "      <td>nytimes</td>\n",
       "    </tr>\n",
       "  </tbody>\n",
       "</table>\n",
       "</div>"
      ],
      "text/plain": [
       "                                                   title      source\n",
       "45626            white house unbuttons formal dress code     nytimes\n",
       "94635  alibaba turns 10   aims to create 100 million ...  techcrunch\n",
       "26368        taking a stanford graduate course in a week      github\n",
       "31305  show hn  miyagi  an obj-c json marshaller that...      github\n",
       "37725                     google s bigger  cheaper cloud     nytimes"
      ]
     },
     "execution_count": 18,
     "metadata": {},
     "output_type": "execute_result"
    }
   ],
   "source": [
    "sample_title_dataset.head()"
   ]
  },
  {
   "cell_type": "code",
   "execution_count": 19,
   "metadata": {},
   "outputs": [
    {
     "name": "stdout",
     "output_type": "stream",
     "text": [
      "2.8.0\n"
     ]
    }
   ],
   "source": [
    "import os\n",
    "import shutil\n",
    "\n",
    "import pandas as pd\n",
    "import tensorflow as tf\n",
    "from tensorflow.keras.callbacks import EarlyStopping, TensorBoard\n",
    "from tensorflow.keras.layers import (\n",
    "    GRU,\n",
    "    Conv1D,\n",
    "    Dense,\n",
    "    Embedding,\n",
    "    Flatten,\n",
    "    Lambda,\n",
    ")\n",
    "from tensorflow.keras.models import Sequential\n",
    "from tensorflow.keras.preprocessing.sequence import pad_sequences\n",
    "from tensorflow.keras.preprocessing.text import Tokenizer\n",
    "from tensorflow.keras.utils import to_categorical\n",
    "\n",
    "print(tf.__version__)"
   ]
  },
  {
   "cell_type": "code",
   "execution_count": 20,
   "metadata": {},
   "outputs": [],
   "source": [
    "%matplotlib inline"
   ]
  },
  {
   "cell_type": "markdown",
   "metadata": {},
   "source": [
    "Let's start by specifying where the information about the trained models will be saved as well as where our dataset is located:"
   ]
  },
  {
   "cell_type": "code",
   "execution_count": 21,
   "metadata": {},
   "outputs": [],
   "source": [
    "LOGDIR = \"./text_models\"\n",
    "DATA_DIR = \"./data\""
   ]
  },
  {
   "cell_type": "markdown",
   "metadata": {},
   "source": [
    "## Loading the dataset"
   ]
  },
  {
   "cell_type": "markdown",
   "metadata": {},
   "source": [
    "Our dataset consists of titles of articles along with the label indicating from which source these articles have been taken from (GitHub, TechCrunch, or The New York Times)."
   ]
  },
  {
   "cell_type": "code",
   "execution_count": 22,
   "metadata": {},
   "outputs": [
    {
     "data": {
      "text/html": [
       "<div>\n",
       "<style scoped>\n",
       "    .dataframe tbody tr th:only-of-type {\n",
       "        vertical-align: middle;\n",
       "    }\n",
       "\n",
       "    .dataframe tbody tr th {\n",
       "        vertical-align: top;\n",
       "    }\n",
       "\n",
       "    .dataframe thead th {\n",
       "        text-align: right;\n",
       "    }\n",
       "</style>\n",
       "<table border=\"1\" class=\"dataframe\">\n",
       "  <thead>\n",
       "    <tr style=\"text-align: right;\">\n",
       "      <th></th>\n",
       "      <th>title</th>\n",
       "      <th>source</th>\n",
       "    </tr>\n",
       "  </thead>\n",
       "  <tbody>\n",
       "    <tr>\n",
       "      <th>0</th>\n",
       "      <td>sshbeam  a simple android app that sends files...</td>\n",
       "      <td>github</td>\n",
       "    </tr>\n",
       "    <tr>\n",
       "      <th>1</th>\n",
       "      <td>australia joins china in censoring the internet</td>\n",
       "      <td>techcrunch</td>\n",
       "    </tr>\n",
       "    <tr>\n",
       "      <th>2</th>\n",
       "      <td>ask show hn  upgrading password-hashing scheme...</td>\n",
       "      <td>github</td>\n",
       "    </tr>\n",
       "    <tr>\n",
       "      <th>3</th>\n",
       "      <td>cannon.js - a lightweight and simple 3d physic...</td>\n",
       "      <td>github</td>\n",
       "    </tr>\n",
       "    <tr>\n",
       "      <th>4</th>\n",
       "      <td>the chains of mental illness in west africa</td>\n",
       "      <td>nytimes</td>\n",
       "    </tr>\n",
       "  </tbody>\n",
       "</table>\n",
       "</div>"
      ],
      "text/plain": [
       "                                               title      source\n",
       "0  sshbeam  a simple android app that sends files...      github\n",
       "1    australia joins china in censoring the internet  techcrunch\n",
       "2  ask show hn  upgrading password-hashing scheme...      github\n",
       "3  cannon.js - a lightweight and simple 3d physic...      github\n",
       "4        the chains of mental illness in west africa     nytimes"
      ]
     },
     "execution_count": 22,
     "metadata": {},
     "output_type": "execute_result"
    }
   ],
   "source": [
    "DATASET_NAME = \"titles_full.csv\"\n",
    "TITLE_SAMPLE_PATH = os.path.join(DATA_DIR, DATASET_NAME)\n",
    "COLUMNS = [\"title\", \"source\"]\n",
    "\n",
    "titles_df = pd.read_csv(TITLE_SAMPLE_PATH, header=None, names=COLUMNS)\n",
    "titles_df.head()"
   ]
  },
  {
   "cell_type": "markdown",
   "metadata": {},
   "source": [
    "## Integerize the texts"
   ]
  },
  {
   "cell_type": "markdown",
   "metadata": {},
   "source": [
    "The first thing we need to do is to find how many words we have in our dataset (`VOCAB_SIZE`), how many titles we have (`DATASET_SIZE`), and what the maximum length of the titles we have (`MAX_LEN`) is. Keras offers the `Tokenizer` class in its `keras.preprocessing.text` module to help us with that:"
   ]
  },
  {
   "cell_type": "code",
   "execution_count": 23,
   "metadata": {},
   "outputs": [],
   "source": [
    "tokenizer = Tokenizer()\n",
    "tokenizer.fit_on_texts(titles_df.title)"
   ]
  },
  {
   "cell_type": "code",
   "execution_count": 24,
   "metadata": {},
   "outputs": [
    {
     "data": {
      "text/plain": [
       "[[23705, 2, 49, 59, 22, 29, 1941, 162, 3, 2, 776, 118, 330, 739],\n",
       " [4248, 857, 140, 5, 11900, 1, 95],\n",
       " [657, 11, 12, 7337, 828, 3605, 6447, 215, 260, 17274]]"
      ]
     },
     "execution_count": 24,
     "metadata": {},
     "output_type": "execute_result"
    }
   ],
   "source": [
    "integerized_titles = tokenizer.texts_to_sequences(titles_df.title)\n",
    "integerized_titles[:3]"
   ]
  },
  {
   "cell_type": "code",
   "execution_count": 25,
   "metadata": {},
   "outputs": [
    {
     "data": {
      "text/plain": [
       "47271"
      ]
     },
     "execution_count": 25,
     "metadata": {},
     "output_type": "execute_result"
    }
   ],
   "source": [
    "VOCAB_SIZE = len(tokenizer.index_word)\n",
    "VOCAB_SIZE"
   ]
  },
  {
   "cell_type": "code",
   "execution_count": 26,
   "metadata": {},
   "outputs": [
    {
     "data": {
      "text/plain": [
       "96203"
      ]
     },
     "execution_count": 26,
     "metadata": {},
     "output_type": "execute_result"
    }
   ],
   "source": [
    "DATASET_SIZE = tokenizer.document_count\n",
    "DATASET_SIZE"
   ]
  },
  {
   "cell_type": "code",
   "execution_count": 27,
   "metadata": {},
   "outputs": [
    {
     "data": {
      "text/plain": [
       "26"
      ]
     },
     "execution_count": 27,
     "metadata": {},
     "output_type": "execute_result"
    }
   ],
   "source": [
    "MAX_LEN = max(len(sequence) for sequence in integerized_titles)\n",
    "MAX_LEN"
   ]
  },
  {
   "cell_type": "markdown",
   "metadata": {},
   "source": [
    "Let's now implement a function `create_sequence` that will \n",
    "* take as input our titles as well as the maximum sentence length and \n",
    "* returns a list of the integers corresponding to our tokens padded to the sentence maximum length\n",
    "\n",
    "Keras has the helper functions `pad_sequence` for that on the top of the tokenizer methods."
   ]
  },
  {
   "cell_type": "markdown",
   "metadata": {},
   "source": [
    "### Lab Task #2:\n",
    "Complete the code in the `create_sequences` function below to\n",
    "* create text sequences from `texts` using the tokenizer we created above \n",
    "* pad the end of those text sequences to have length `max_len`"
   ]
  },
  {
   "cell_type": "code",
   "execution_count": 32,
   "metadata": {},
   "outputs": [],
   "source": [
    "# TODO 1\n",
    "def create_sequences(texts, max_len=MAX_LEN):\n",
    "    sequences = tokenizer.texts_to_sequences(\n",
    "        texts\n",
    "    )  # TODO: Your code goes here.\n",
    "    padded_sequences = pad_sequences(\n",
    "        sequences=sequences, maxlen=max_len, padding=\"post\"\n",
    "    )  # TODO: Your code goes here.\n",
    "    return padded_sequences"
   ]
  },
  {
   "cell_type": "code",
   "execution_count": 33,
   "metadata": {},
   "outputs": [
    {
     "data": {
      "text/plain": [
       "array([[23705,     2,    49,    59,    22,    29,  1941,   162,     3,\n",
       "            2,   776,   118,   330,   739,     0,     0,     0,     0,\n",
       "            0,     0,     0,     0,     0,     0,     0,     0],\n",
       "       [ 4248,   857,   140,     5, 11900,     1,    95,     0,     0,\n",
       "            0,     0,     0,     0,     0,     0,     0,     0,     0,\n",
       "            0,     0,     0,     0,     0,     0,     0,     0],\n",
       "       [  657,    11,    12,  7337,   828,  3605,  6447,   215,   260,\n",
       "        17274,     0,     0,     0,     0,     0,     0,     0,     0,\n",
       "            0,     0,     0,     0,     0,     0,     0,     0]],\n",
       "      dtype=int32)"
      ]
     },
     "execution_count": 33,
     "metadata": {},
     "output_type": "execute_result"
    }
   ],
   "source": [
    "sequences = create_sequences(titles_df.title[:3])\n",
    "sequences"
   ]
  },
  {
   "cell_type": "code",
   "execution_count": 34,
   "metadata": {},
   "outputs": [
    {
     "data": {
      "text/plain": [
       "0        github\n",
       "1    techcrunch\n",
       "2        github\n",
       "3        github\n",
       "Name: source, dtype: object"
      ]
     },
     "execution_count": 34,
     "metadata": {},
     "output_type": "execute_result"
    }
   ],
   "source": [
    "titles_df.source[:4]"
   ]
  },
  {
   "cell_type": "markdown",
   "metadata": {},
   "source": [
    "We now need to write a function that \n",
    "* takes a title source and\n",
    "* returns the corresponding one-hot encoded vector\n",
    "\n",
    "Keras `to_categorical` is handy for that."
   ]
  },
  {
   "cell_type": "code",
   "execution_count": 35,
   "metadata": {},
   "outputs": [],
   "source": [
    "CLASSES = {\"github\": 0, \"nytimes\": 1, \"techcrunch\": 2}\n",
    "N_CLASSES = len(CLASSES)"
   ]
  },
  {
   "cell_type": "markdown",
   "metadata": {},
   "source": [
    "### Lab Task #3:\n",
    "Complete the code in the `encode_labels` function below to\n",
    "* create a list that maps each `source` in `sources` to its corresponding numeric value using the dictionary `CLASSES` above\n",
    "* use the Keras function to one-hot encode the variable classes"
   ]
  },
  {
   "cell_type": "code",
   "execution_count": 36,
   "metadata": {},
   "outputs": [],
   "source": [
    "# TODO 2\n",
    "def encode_labels(sources):\n",
    "    classes = [\n",
    "        CLASSES[source] for source in sources\n",
    "    ]  # TODO: Your code goes here.\n",
    "    one_hots = to_categorical(classes)  # TODO: Your code goes here.\n",
    "    return one_hots"
   ]
  },
  {
   "cell_type": "code",
   "execution_count": 37,
   "metadata": {},
   "outputs": [
    {
     "data": {
      "text/plain": [
       "array([[1., 0., 0.],\n",
       "       [0., 0., 1.],\n",
       "       [1., 0., 0.],\n",
       "       [1., 0., 0.]], dtype=float32)"
      ]
     },
     "execution_count": 37,
     "metadata": {},
     "output_type": "execute_result"
    }
   ],
   "source": [
    "encode_labels(titles_df.source[:4])"
   ]
  },
  {
   "cell_type": "markdown",
   "metadata": {},
   "source": [
    "## Preparing the train/test splits"
   ]
  },
  {
   "cell_type": "markdown",
   "metadata": {},
   "source": [
    "Let's split our data into train and test splits:"
   ]
  },
  {
   "cell_type": "code",
   "execution_count": 38,
   "metadata": {},
   "outputs": [],
   "source": [
    "N_TRAIN = int(DATASET_SIZE * 0.80)\n",
    "\n",
    "titles_train, sources_train = (\n",
    "    titles_df.title[:N_TRAIN],\n",
    "    titles_df.source[:N_TRAIN],\n",
    ")\n",
    "\n",
    "titles_valid, sources_valid = (\n",
    "    titles_df.title[N_TRAIN:],\n",
    "    titles_df.source[N_TRAIN:],\n",
    ")"
   ]
  },
  {
   "cell_type": "markdown",
   "metadata": {},
   "source": [
    "To be on the safe side, we verify that the train and test splits\n",
    "have roughly the same number of examples per classes.\n",
    "\n",
    "Since it is the case, accuracy will be a good metric to use to measure\n",
    "the performance of our models.\n"
   ]
  },
  {
   "cell_type": "code",
   "execution_count": 39,
   "metadata": {},
   "outputs": [
    {
     "data": {
      "text/plain": [
       "github        29262\n",
       "techcrunch    24699\n",
       "nytimes       23001\n",
       "Name: source, dtype: int64"
      ]
     },
     "execution_count": 39,
     "metadata": {},
     "output_type": "execute_result"
    }
   ],
   "source": [
    "sources_train.value_counts()"
   ]
  },
  {
   "cell_type": "code",
   "execution_count": 40,
   "metadata": {},
   "outputs": [
    {
     "data": {
      "text/plain": [
       "github        7263\n",
       "techcrunch    6192\n",
       "nytimes       5786\n",
       "Name: source, dtype: int64"
      ]
     },
     "execution_count": 40,
     "metadata": {},
     "output_type": "execute_result"
    }
   ],
   "source": [
    "sources_valid.value_counts()"
   ]
  },
  {
   "cell_type": "markdown",
   "metadata": {},
   "source": [
    "Using `create_sequence` and `encode_labels`, we can now prepare the\n",
    "training and validation data to feed our models.\n",
    "\n",
    "The features will be\n",
    "padded list of integers and the labels will be one-hot-encoded 3D vectors."
   ]
  },
  {
   "cell_type": "code",
   "execution_count": 41,
   "metadata": {},
   "outputs": [],
   "source": [
    "X_train, Y_train = create_sequences(titles_train), encode_labels(sources_train)\n",
    "X_valid, Y_valid = create_sequences(titles_valid), encode_labels(sources_valid)"
   ]
  },
  {
   "cell_type": "code",
   "execution_count": 42,
   "metadata": {},
   "outputs": [
    {
     "data": {
      "text/plain": [
       "array([[23705,     2,    49,    59,    22,    29,  1941,   162,     3,\n",
       "            2,   776,   118,   330,   739,     0,     0,     0,     0,\n",
       "            0,     0,     0,     0,     0,     0,     0,     0],\n",
       "       [ 4248,   857,   140,     5, 11900,     1,    95,     0,     0,\n",
       "            0,     0,     0,     0,     0,     0,     0,     0,     0,\n",
       "            0,     0,     0,     0,     0,     0,     0,     0],\n",
       "       [  657,    11,    12,  7337,   828,  3605,  6447,   215,   260,\n",
       "        17274,     0,     0,     0,     0,     0,     0,     0,     0,\n",
       "            0,     0,     0,     0,     0,     0,     0,     0]],\n",
       "      dtype=int32)"
      ]
     },
     "execution_count": 42,
     "metadata": {},
     "output_type": "execute_result"
    }
   ],
   "source": [
    "X_train[:3]"
   ]
  },
  {
   "cell_type": "code",
   "execution_count": 43,
   "metadata": {},
   "outputs": [
    {
     "data": {
      "text/plain": [
       "array([[1., 0., 0.],\n",
       "       [0., 0., 1.],\n",
       "       [1., 0., 0.]], dtype=float32)"
      ]
     },
     "execution_count": 43,
     "metadata": {},
     "output_type": "execute_result"
    }
   ],
   "source": [
    "Y_train[:3]"
   ]
  },
  {
   "cell_type": "markdown",
   "metadata": {},
   "source": [
    "## Building a DNN model"
   ]
  },
  {
   "cell_type": "markdown",
   "metadata": {},
   "source": [
    "The build_dnn_model function below returns a compiled Keras model that implements a simple embedding layer transforming the word integers into dense vectors, followed by a Dense softmax layer that returns the probabilities for each class.\n",
    "\n",
    "\n",
    "Note that we need to put a custom Keras Lambda layer in between the Embedding layer and the Dense softmax layer to do an average of the word vectors returned by the embedding layer. This is the average that's fed to the dense softmax layer. By doing so, we create a model that is simple but that loses information about the word order, creating a model that sees sentences as \"bag-of-words\"."
   ]
  },
  {
   "cell_type": "markdown",
   "metadata": {},
   "source": [
    "### Lab Tasks #4, #5, and #6:\n",
    "Create a Keras Sequential model with three layers:\n",
    "* The first layer should be an embedding layer with output dimension equal to `embed_dim`.\n",
    "* The second layer should use a Lambda layer to create a bag-of-words representation of the sentences by computing the mean.\n",
    "* The last layer should use a Dense layer to predict which class the example belongs to."
   ]
  },
  {
   "cell_type": "code",
   "execution_count": 45,
   "metadata": {},
   "outputs": [],
   "source": [
    "# TODOs 4-6\n",
    "def build_dnn_model(embed_dim):\n",
    "\n",
    "    model = Sequential(\n",
    "        [\n",
    "            # TODO: Your code goes here.\n",
    "            Embedding(\n",
    "                input_dim=VOCAB_SIZE + 1,\n",
    "                output_dim=embed_dim,\n",
    "                input_shape=[MAX_LEN],\n",
    "            ),\n",
    "            # TODO: Your code goes here.\n",
    "            Lambda(lambda x: tf.reduce_mean(x, axis=1)),\n",
    "            # TODO: Your code goes here.\n",
    "            Dense(N_CLASSES, activation=\"softmax\"),\n",
    "        ]\n",
    "    )\n",
    "\n",
    "    model.compile(\n",
    "        optimizer=\"adam\", loss=\"categorical_crossentropy\", metrics=[\"accuracy\"]\n",
    "    )\n",
    "    return model"
   ]
  },
  {
   "cell_type": "markdown",
   "metadata": {},
   "source": [
    "Below we train the model on 100 epochs but adding an `EarlyStopping` callback that will stop the training as soon as the validation loss has not improved after a number of steps specified by `PATIENCE` . Note that we also give the `model.fit` method a Tensorboard callback so that we can later compare all the models using TensorBoard."
   ]
  },
  {
   "cell_type": "code",
   "execution_count": 46,
   "metadata": {},
   "outputs": [
    {
     "name": "stderr",
     "output_type": "stream",
     "text": [
      "2022-07-21 18:55:57.272602: W tensorflow/stream_executor/platform/default/dso_loader.cc:64] Could not load dynamic library 'libcuda.so.1'; dlerror: libcuda.so.1: cannot open shared object file: No such file or directory; LD_LIBRARY_PATH: /usr/local/cuda/lib64:/usr/local/nccl2/lib:/usr/local/cuda/extras/CUPTI/lib64\n",
      "2022-07-21 18:55:57.272682: W tensorflow/stream_executor/cuda/cuda_driver.cc:269] failed call to cuInit: UNKNOWN ERROR (303)\n",
      "2022-07-21 18:55:57.272723: I tensorflow/stream_executor/cuda/cuda_diagnostics.cc:156] kernel driver does not appear to be running on this host (hurb-asl): /proc/driver/nvidia/version does not exist\n",
      "2022-07-21 18:55:57.273302: I tensorflow/core/platform/cpu_feature_guard.cc:151] This TensorFlow binary is optimized with oneAPI Deep Neural Network Library (oneDNN) to use the following CPU instructions in performance-critical operations:  AVX2 FMA\n",
      "To enable them in other operations, rebuild TensorFlow with the appropriate compiler flags.\n"
     ]
    },
    {
     "name": "stdout",
     "output_type": "stream",
     "text": [
      "Epoch 1/100\n",
      "257/257 [==============================] - 3s 9ms/step - loss: 1.0477 - accuracy: 0.4290 - val_loss: 0.9801 - val_accuracy: 0.5354\n",
      "Epoch 2/100\n",
      "257/257 [==============================] - 2s 8ms/step - loss: 0.8881 - accuracy: 0.6853 - val_loss: 0.8068 - val_accuracy: 0.7262\n",
      "Epoch 3/100\n",
      "257/257 [==============================] - 2s 8ms/step - loss: 0.7335 - accuracy: 0.7836 - val_loss: 0.6831 - val_accuracy: 0.7864\n",
      "Epoch 4/100\n",
      "257/257 [==============================] - 2s 8ms/step - loss: 0.6231 - accuracy: 0.8158 - val_loss: 0.5967 - val_accuracy: 0.8027\n",
      "Epoch 5/100\n",
      "257/257 [==============================] - 2s 8ms/step - loss: 0.5423 - accuracy: 0.8332 - val_loss: 0.5364 - val_accuracy: 0.8098\n",
      "Epoch 6/100\n",
      "257/257 [==============================] - 2s 8ms/step - loss: 0.4834 - accuracy: 0.8441 - val_loss: 0.4934 - val_accuracy: 0.8198\n",
      "Epoch 7/100\n",
      "257/257 [==============================] - 2s 9ms/step - loss: 0.4397 - accuracy: 0.8542 - val_loss: 0.4628 - val_accuracy: 0.8288\n",
      "Epoch 8/100\n",
      "257/257 [==============================] - 2s 8ms/step - loss: 0.4060 - accuracy: 0.8620 - val_loss: 0.4403 - val_accuracy: 0.8348\n",
      "Epoch 9/100\n",
      "257/257 [==============================] - 2s 8ms/step - loss: 0.3793 - accuracy: 0.8685 - val_loss: 0.4228 - val_accuracy: 0.8396\n",
      "Epoch 10/100\n",
      "257/257 [==============================] - 2s 8ms/step - loss: 0.3573 - accuracy: 0.8754 - val_loss: 0.4094 - val_accuracy: 0.8423\n",
      "Epoch 11/100\n",
      "257/257 [==============================] - 2s 8ms/step - loss: 0.3388 - accuracy: 0.8804 - val_loss: 0.3988 - val_accuracy: 0.8447\n",
      "Epoch 12/100\n",
      "257/257 [==============================] - 2s 8ms/step - loss: 0.3229 - accuracy: 0.8857 - val_loss: 0.3904 - val_accuracy: 0.8459\n",
      "Epoch 13/100\n",
      "257/257 [==============================] - 2s 8ms/step - loss: 0.3087 - accuracy: 0.8904 - val_loss: 0.3839 - val_accuracy: 0.8478\n",
      "Epoch 14/100\n",
      "257/257 [==============================] - 2s 8ms/step - loss: 0.2961 - accuracy: 0.8944 - val_loss: 0.3782 - val_accuracy: 0.8507\n",
      "Epoch 15/100\n",
      "257/257 [==============================] - 2s 8ms/step - loss: 0.2848 - accuracy: 0.8983 - val_loss: 0.3746 - val_accuracy: 0.8512\n",
      "Epoch 16/100\n",
      "257/257 [==============================] - 2s 8ms/step - loss: 0.2743 - accuracy: 0.9017 - val_loss: 0.3708 - val_accuracy: 0.8516\n",
      "Epoch 17/100\n",
      "257/257 [==============================] - 2s 8ms/step - loss: 0.2647 - accuracy: 0.9049 - val_loss: 0.3679 - val_accuracy: 0.8530\n",
      "Epoch 18/100\n",
      "257/257 [==============================] - 2s 8ms/step - loss: 0.2558 - accuracy: 0.9082 - val_loss: 0.3666 - val_accuracy: 0.8522\n",
      "Epoch 19/100\n",
      "257/257 [==============================] - 2s 8ms/step - loss: 0.2474 - accuracy: 0.9112 - val_loss: 0.3647 - val_accuracy: 0.8532\n",
      "Epoch 20/100\n",
      "257/257 [==============================] - 2s 8ms/step - loss: 0.2396 - accuracy: 0.9140 - val_loss: 0.3637 - val_accuracy: 0.8536\n",
      "Epoch 21/100\n",
      "257/257 [==============================] - 2s 8ms/step - loss: 0.2322 - accuracy: 0.9162 - val_loss: 0.3637 - val_accuracy: 0.8528\n",
      "Epoch 22/100\n",
      "257/257 [==============================] - 2s 8ms/step - loss: 0.2253 - accuracy: 0.9190 - val_loss: 0.3632 - val_accuracy: 0.8534\n",
      "Epoch 23/100\n",
      "257/257 [==============================] - 2s 8ms/step - loss: 0.2186 - accuracy: 0.9217 - val_loss: 0.3638 - val_accuracy: 0.8528\n",
      "Epoch 24/100\n",
      "257/257 [==============================] - 2s 8ms/step - loss: 0.2125 - accuracy: 0.9235 - val_loss: 0.3645 - val_accuracy: 0.8525\n",
      "Epoch 25/100\n",
      "257/257 [==============================] - 2s 8ms/step - loss: 0.2063 - accuracy: 0.9265 - val_loss: 0.3664 - val_accuracy: 0.8523\n",
      "Epoch 26/100\n",
      "257/257 [==============================] - 2s 8ms/step - loss: 0.2008 - accuracy: 0.9287 - val_loss: 0.3670 - val_accuracy: 0.8515\n",
      "Epoch 27/100\n",
      "257/257 [==============================] - 2s 8ms/step - loss: 0.1952 - accuracy: 0.9303 - val_loss: 0.3688 - val_accuracy: 0.8519\n",
      "Model: \"sequential\"\n",
      "_________________________________________________________________\n",
      " Layer (type)                Output Shape              Param #   \n",
      "=================================================================\n",
      " embedding (Embedding)       (None, 26, 10)            472720    \n",
      "                                                                 \n",
      " lambda (Lambda)             (None, 10)                0         \n",
      "                                                                 \n",
      " dense (Dense)               (None, 3)                 33        \n",
      "                                                                 \n",
      "=================================================================\n",
      "Total params: 472,753\n",
      "Trainable params: 472,753\n",
      "Non-trainable params: 0\n",
      "_________________________________________________________________\n",
      "CPU times: user 1min 50s, sys: 18.7 s, total: 2min 8s\n",
      "Wall time: 56.8 s\n"
     ]
    },
    {
     "data": {
      "image/png": "[encoded data removed]",
      "text/plain": [
       "<Figure size 432x288 with 1 Axes>"
      ]
     },
     "metadata": {
      "needs_background": "light"
     },
     "output_type": "display_data"
    },
    {
     "data": {
      "image/png": "[encoded data removed]",
      "text/plain": [
       "<Figure size 432x288 with 1 Axes>"
      ]
     },
     "metadata": {
      "needs_background": "light"
     },
     "output_type": "display_data"
    }
   ],
   "source": [
    "%%time\n",
    "\n",
    "tf.random.set_seed(33)\n",
    "\n",
    "MODEL_DIR = os.path.join(LOGDIR, \"dnn\")\n",
    "shutil.rmtree(MODEL_DIR, ignore_errors=True)\n",
    "\n",
    "BATCH_SIZE = 300\n",
    "EPOCHS = 100\n",
    "EMBED_DIM = 10\n",
    "PATIENCE = 5\n",
    "\n",
    "dnn_model = build_dnn_model(embed_dim=EMBED_DIM)\n",
    "\n",
    "dnn_history = dnn_model.fit(\n",
    "    X_train,\n",
    "    Y_train,\n",
    "    epochs=EPOCHS,\n",
    "    batch_size=BATCH_SIZE,\n",
    "    validation_data=(X_valid, Y_valid),\n",
    "    callbacks=[EarlyStopping(patience=PATIENCE), TensorBoard(MODEL_DIR)],\n",
    ")\n",
    "\n",
    "pd.DataFrame(dnn_history.history)[[\"loss\", \"val_loss\"]].plot()\n",
    "pd.DataFrame(dnn_history.history)[[\"accuracy\", \"val_accuracy\"]].plot()\n",
    "\n",
    "dnn_model.summary()"
   ]
  },
  {
   "cell_type": "markdown",
   "metadata": {},
   "source": [
    "## Building a RNN model"
   ]
  },
  {
   "cell_type": "markdown",
   "metadata": {},
   "source": [
    "The `build_dnn_model` function below returns a compiled Keras model that implements a simple RNN model with a single `GRU` layer, which now takes into account the word order in the sentence.\n",
    "\n",
    "The first and last layers are the same as for the simple DNN model.\n",
    "\n",
    "Note that we set `mask_zero=True` in the `Embedding` layer so that the padded words (represented by a zero) are ignored by this and the subsequent layers.\n"
   ]
  },
  {
   "cell_type": "markdown",
   "metadata": {},
   "source": [
    "### Lab Task #4 and #6:\n",
    "Complete the code below to build an RNN model which predicts the article class. The code below is similar to the DNN you created above; however, here we do not need to use a bag-of-words representation of the sentence. Instead, you can pass the embedding layer directly to an RNN/LSTM/GRU layer."
   ]
  },
  {
   "cell_type": "code",
   "execution_count": 49,
   "metadata": {},
   "outputs": [],
   "source": [
    "def build_rnn_model(embed_dim, units):\n",
    "\n",
    "    model = Sequential(\n",
    "        [\n",
    "            # TODO: Your code goes here.\n",
    "            Embedding(\n",
    "                input_dim=VOCAB_SIZE + 1,\n",
    "                output_dim=embed_dim,\n",
    "                input_shape=[MAX_LEN],\n",
    "                mask_zero=True,\n",
    "            ),\n",
    "            # TODO: Your code goes here.\n",
    "            GRU(units),\n",
    "            Dense(N_CLASSES, activation=\"softmax\"),\n",
    "        ]\n",
    "    )\n",
    "\n",
    "    model.compile(\n",
    "        optimizer=tf.keras.optimizers.Adam(learning_rate=0.0001),\n",
    "        loss=\"categorical_crossentropy\",\n",
    "        metrics=[\"accuracy\"],\n",
    "    )\n",
    "    return model"
   ]
  },
  {
   "cell_type": "markdown",
   "metadata": {},
   "source": [
    "Let's train the model with early stoping as above. \n",
    "\n",
    "Observe that we obtain the same type of accuracy as with the DNN model, but in less epochs (~3 v.s. ~20 epochs):"
   ]
  },
  {
   "cell_type": "code",
   "execution_count": 50,
   "metadata": {},
   "outputs": [
    {
     "name": "stdout",
     "output_type": "stream",
     "text": [
      "Epoch 1/100\n",
      "257/257 [==============================] - 16s 42ms/step - loss: 1.0914 - accuracy: 0.3793 - val_loss: 1.0832 - val_accuracy: 0.3775\n",
      "Epoch 2/100\n",
      "257/257 [==============================] - 10s 37ms/step - loss: 1.0567 - accuracy: 0.4070 - val_loss: 1.0090 - val_accuracy: 0.5075\n",
      "Epoch 3/100\n",
      "257/257 [==============================] - 9s 37ms/step - loss: 0.8638 - accuracy: 0.5976 - val_loss: 0.7368 - val_accuracy: 0.6318\n",
      "Epoch 4/100\n",
      "257/257 [==============================] - 9s 37ms/step - loss: 0.6816 - accuracy: 0.6490 - val_loss: 0.6557 - val_accuracy: 0.6481\n",
      "Epoch 5/100\n",
      "257/257 [==============================] - 10s 37ms/step - loss: 0.6177 - accuracy: 0.6724 - val_loss: 0.6174 - val_accuracy: 0.6701\n",
      "Epoch 6/100\n",
      "257/257 [==============================] - 10s 37ms/step - loss: 0.5817 - accuracy: 0.7065 - val_loss: 0.5956 - val_accuracy: 0.6956\n",
      "Epoch 7/100\n",
      "257/257 [==============================] - 9s 37ms/step - loss: 0.5571 - accuracy: 0.7200 - val_loss: 0.5807 - val_accuracy: 0.7011\n",
      "Epoch 8/100\n",
      "257/257 [==============================] - 10s 37ms/step - loss: 0.5375 - accuracy: 0.7334 - val_loss: 0.5693 - val_accuracy: 0.7145\n",
      "Epoch 9/100\n",
      "257/257 [==============================] - 9s 37ms/step - loss: 0.5202 - accuracy: 0.7515 - val_loss: 0.5594 - val_accuracy: 0.7260\n",
      "Epoch 10/100\n",
      "257/257 [==============================] - 9s 37ms/step - loss: 0.5038 - accuracy: 0.7650 - val_loss: 0.5512 - val_accuracy: 0.7351\n",
      "Epoch 11/100\n",
      "257/257 [==============================] - 10s 37ms/step - loss: 0.4873 - accuracy: 0.7751 - val_loss: 0.5428 - val_accuracy: 0.7430\n",
      "Epoch 12/100\n",
      "257/257 [==============================] - 9s 37ms/step - loss: 0.4695 - accuracy: 0.7850 - val_loss: 0.5332 - val_accuracy: 0.7481\n",
      "Epoch 13/100\n",
      "257/257 [==============================] - 9s 37ms/step - loss: 0.4491 - accuracy: 0.7965 - val_loss: 0.5226 - val_accuracy: 0.7563\n",
      "Epoch 14/100\n",
      "257/257 [==============================] - 9s 37ms/step - loss: 0.4244 - accuracy: 0.8114 - val_loss: 0.5056 - val_accuracy: 0.7678\n",
      "Epoch 15/100\n",
      "257/257 [==============================] - 9s 37ms/step - loss: 0.3910 - accuracy: 0.8318 - val_loss: 0.4788 - val_accuracy: 0.7897\n",
      "Epoch 16/100\n",
      "257/257 [==============================] - 10s 37ms/step - loss: 0.3490 - accuracy: 0.8584 - val_loss: 0.4499 - val_accuracy: 0.8109\n",
      "Epoch 17/100\n",
      "257/257 [==============================] - 9s 37ms/step - loss: 0.3145 - accuracy: 0.8770 - val_loss: 0.4334 - val_accuracy: 0.8238\n",
      "Epoch 18/100\n",
      "257/257 [==============================] - 9s 37ms/step - loss: 0.2903 - accuracy: 0.8891 - val_loss: 0.4253 - val_accuracy: 0.8298\n",
      "Epoch 19/100\n",
      "257/257 [==============================] - 10s 37ms/step - loss: 0.2715 - accuracy: 0.8974 - val_loss: 0.4201 - val_accuracy: 0.8325\n",
      "Epoch 20/100\n",
      "257/257 [==============================] - 10s 37ms/step - loss: 0.2556 - accuracy: 0.9051 - val_loss: 0.4168 - val_accuracy: 0.8345\n",
      "Epoch 21/100\n",
      "257/257 [==============================] - 10s 37ms/step - loss: 0.2417 - accuracy: 0.9109 - val_loss: 0.4159 - val_accuracy: 0.8361\n",
      "Epoch 22/100\n",
      "257/257 [==============================] - 9s 37ms/step - loss: 0.2294 - accuracy: 0.9165 - val_loss: 0.4149 - val_accuracy: 0.8378\n",
      "Epoch 23/100\n",
      "257/257 [==============================] - 9s 37ms/step - loss: 0.2182 - accuracy: 0.9215 - val_loss: 0.4158 - val_accuracy: 0.8387\n",
      "Epoch 24/100\n",
      "257/257 [==============================] - 9s 37ms/step - loss: 0.2081 - accuracy: 0.9257 - val_loss: 0.4187 - val_accuracy: 0.8390\n",
      "Model: \"sequential_2\"\n",
      "_________________________________________________________________\n",
      " Layer (type)                Output Shape              Param #   \n",
      "=================================================================\n",
      " embedding_2 (Embedding)     (None, 26, 10)            472720    \n",
      "                                                                 \n",
      " gru_1 (GRU)                 (None, 16)                1344      \n",
      "                                                                 \n",
      " dense_2 (Dense)             (None, 3)                 51        \n",
      "                                                                 \n",
      "=================================================================\n",
      "Total params: 474,115\n",
      "Trainable params: 474,115\n",
      "Non-trainable params: 0\n",
      "_________________________________________________________________\n",
      "CPU times: user 9min 40s, sys: 1min 23s, total: 11min 4s\n",
      "Wall time: 3min 54s\n"
     ]
    },
    {
     "data": {
      "image/png": "[encoded data removed]",
      "text/plain": [
       "<Figure size 432x288 with 1 Axes>"
      ]
     },
     "metadata": {
      "needs_background": "light"
     },
     "output_type": "display_data"
    },
    {
     "data": {
      "image/png": "[encoded data removed]",
      "text/plain": [
       "<Figure size 432x288 with 1 Axes>"
      ]
     },
     "metadata": {
      "needs_background": "light"
     },
     "output_type": "display_data"
    }
   ],
   "source": [
    "%%time\n",
    "\n",
    "tf.random.set_seed(33)\n",
    "\n",
    "MODEL_DIR = os.path.join(LOGDIR, \"rnn\")\n",
    "shutil.rmtree(MODEL_DIR, ignore_errors=True)\n",
    "\n",
    "EPOCHS = 100\n",
    "BATCH_SIZE = 300\n",
    "EMBED_DIM = 10\n",
    "UNITS = 16\n",
    "PATIENCE = 2\n",
    "\n",
    "rnn_model = build_rnn_model(embed_dim=EMBED_DIM, units=UNITS)\n",
    "\n",
    "history = rnn_model.fit(\n",
    "    X_train,\n",
    "    Y_train,\n",
    "    epochs=EPOCHS,\n",
    "    batch_size=BATCH_SIZE,\n",
    "    validation_data=(X_valid, Y_valid),\n",
    "    callbacks=[EarlyStopping(patience=PATIENCE), TensorBoard(MODEL_DIR)],\n",
    ")\n",
    "\n",
    "pd.DataFrame(history.history)[[\"loss\", \"val_loss\"]].plot()\n",
    "pd.DataFrame(history.history)[[\"accuracy\", \"val_accuracy\"]].plot()\n",
    "\n",
    "rnn_model.summary()"
   ]
  },
  {
   "cell_type": "markdown",
   "metadata": {},
   "source": [
    "## Build a CNN model"
   ]
  },
  {
   "cell_type": "markdown",
   "metadata": {},
   "source": [
    "The `build_dnn_model` function below returns a compiled Keras model that implements a simple CNN model with a single `Conv1D` layer, which now takes into account the word order in the sentence.\n",
    "\n",
    "The first and last layers are the same as for the simple DNN model, but we need to add a `Flatten` layer betwen the convolution and the softmax layer.\n",
    "\n",
    "Note that we set `mask_zero=True` in the `Embedding` layer so that the padded words (represented by a zero) are ignored by this and the subsequent layers.\n"
   ]
  },
  {
   "cell_type": "markdown",
   "metadata": {},
   "source": [
    "### Lab Task #4 and #6\n",
    "Complete the code below to create a CNN model for text classification. This model is similar to the previous models in that you should start with an embedding layer. However, the embedding next layers should pass through a 1-dimensional convolution and ultimately the final fully connected, dense layer. Use the arguments of the `build_cnn_model` function to set up the 1D convolution layer. "
   ]
  },
  {
   "cell_type": "code",
   "execution_count": 53,
   "metadata": {},
   "outputs": [],
   "source": [
    "def build_cnn_model(embed_dim, filters, ksize, strides):\n",
    "\n",
    "    model = Sequential(\n",
    "        [\n",
    "            # TODO: Your code goes here.\n",
    "            Embedding(\n",
    "                input_dim=VOCAB_SIZE + 1,\n",
    "                output_dim=embed_dim,\n",
    "                input_shape=[MAX_LEN],\n",
    "                mask_zero=True,\n",
    "            ),\n",
    "            # TODO: Your code goes here.\n",
    "            Conv1D(filters, ksize, strides, activation=\"relu\"),\n",
    "            # TODO: Your code goes here.\n",
    "            Flatten(),\n",
    "            Dense(N_CLASSES, activation=\"softmax\"),\n",
    "        ]\n",
    "    )\n",
    "\n",
    "    model.compile(\n",
    "        optimizer=tf.keras.optimizers.Adam(learning_rate=0.0001),\n",
    "        loss=\"categorical_crossentropy\",\n",
    "        metrics=[\"accuracy\"],\n",
    "    )\n",
    "    return model"
   ]
  },
  {
   "cell_type": "markdown",
   "metadata": {},
   "source": [
    "Let's train the model. \n",
    "\n",
    "Again we observe that we get the same kind of accuracy as with the DNN model but in many fewer steps.\n",
    "\n"
   ]
  },
  {
   "cell_type": "code",
   "execution_count": 54,
   "metadata": {},
   "outputs": [
    {
     "name": "stdout",
     "output_type": "stream",
     "text": [
      "Epoch 1/100\n",
      "257/257 [==============================] - 4s 14ms/step - loss: 1.0792 - accuracy: 0.4029 - val_loss: 1.0400 - val_accuracy: 0.4802\n",
      "Epoch 2/100\n",
      "257/257 [==============================] - 3s 13ms/step - loss: 0.9165 - accuracy: 0.5873 - val_loss: 0.7850 - val_accuracy: 0.6460\n",
      "Epoch 3/100\n",
      "257/257 [==============================] - 3s 13ms/step - loss: 0.6868 - accuracy: 0.6836 - val_loss: 0.6316 - val_accuracy: 0.6977\n",
      "Epoch 4/100\n",
      "257/257 [==============================] - 3s 13ms/step - loss: 0.5819 - accuracy: 0.7314 - val_loss: 0.5716 - val_accuracy: 0.7362\n",
      "Epoch 5/100\n",
      "257/257 [==============================] - 3s 13ms/step - loss: 0.5229 - accuracy: 0.7732 - val_loss: 0.5307 - val_accuracy: 0.7634\n",
      "Epoch 6/100\n",
      "257/257 [==============================] - 3s 13ms/step - loss: 0.4728 - accuracy: 0.8051 - val_loss: 0.4944 - val_accuracy: 0.7882\n",
      "Epoch 7/100\n",
      "257/257 [==============================] - 3s 13ms/step - loss: 0.4278 - accuracy: 0.8300 - val_loss: 0.4639 - val_accuracy: 0.8066\n",
      "Epoch 8/100\n",
      "257/257 [==============================] - 3s 13ms/step - loss: 0.3898 - accuracy: 0.8470 - val_loss: 0.4418 - val_accuracy: 0.8168\n",
      "Epoch 9/100\n",
      "257/257 [==============================] - 3s 13ms/step - loss: 0.3587 - accuracy: 0.8601 - val_loss: 0.4247 - val_accuracy: 0.8239\n",
      "Epoch 10/100\n",
      "257/257 [==============================] - 3s 13ms/step - loss: 0.3327 - accuracy: 0.8712 - val_loss: 0.4126 - val_accuracy: 0.8313\n",
      "Epoch 11/100\n",
      "257/257 [==============================] - 3s 13ms/step - loss: 0.3107 - accuracy: 0.8809 - val_loss: 0.4044 - val_accuracy: 0.8361\n",
      "Epoch 12/100\n",
      "257/257 [==============================] - 3s 13ms/step - loss: 0.2919 - accuracy: 0.8887 - val_loss: 0.3976 - val_accuracy: 0.8389\n",
      "Epoch 13/100\n",
      "257/257 [==============================] - 3s 13ms/step - loss: 0.2751 - accuracy: 0.8957 - val_loss: 0.3937 - val_accuracy: 0.8415\n",
      "Epoch 14/100\n",
      "257/257 [==============================] - 3s 13ms/step - loss: 0.2602 - accuracy: 0.9018 - val_loss: 0.3911 - val_accuracy: 0.8424\n",
      "Epoch 15/100\n",
      "257/257 [==============================] - 3s 13ms/step - loss: 0.2470 - accuracy: 0.9071 - val_loss: 0.3903 - val_accuracy: 0.8438\n",
      "Epoch 16/100\n",
      "257/257 [==============================] - 3s 13ms/step - loss: 0.2348 - accuracy: 0.9125 - val_loss: 0.3902 - val_accuracy: 0.8457\n",
      "Epoch 17/100\n",
      "257/257 [==============================] - 3s 13ms/step - loss: 0.2237 - accuracy: 0.9168 - val_loss: 0.3909 - val_accuracy: 0.8465\n",
      "Epoch 18/100\n",
      "257/257 [==============================] - 3s 13ms/step - loss: 0.2133 - accuracy: 0.9207 - val_loss: 0.3938 - val_accuracy: 0.8448\n",
      "Model: \"sequential_3\"\n",
      "_________________________________________________________________\n",
      " Layer (type)                Output Shape              Param #   \n",
      "=================================================================\n",
      " embedding_4 (Embedding)     (None, 26, 5)             236360    \n",
      "                                                                 \n",
      " conv1d (Conv1D)             (None, 12, 200)           3200      \n",
      "                                                                 \n",
      " flatten (Flatten)           (None, 2400)              0         \n",
      "                                                                 \n",
      " dense_3 (Dense)             (None, 3)                 7203      \n",
      "                                                                 \n",
      "=================================================================\n",
      "Total params: 246,763\n",
      "Trainable params: 246,763\n",
      "Non-trainable params: 0\n",
      "_________________________________________________________________\n",
      "CPU times: user 2min 31s, sys: 8.9 s, total: 2min 40s\n",
      "Wall time: 1min\n"
     ]
    },
    {
     "data": {
      "image/png": "[encoded data removed]",
      "text/plain": [
       "<Figure size 432x288 with 1 Axes>"
      ]
     },
     "metadata": {
      "needs_background": "light"
     },
     "output_type": "display_data"
    },
    {
     "data": {
      "image/png": "[encoded data removed]",
      "text/plain": [
       "<Figure size 432x288 with 1 Axes>"
      ]
     },
     "metadata": {
      "needs_background": "light"
     },
     "output_type": "display_data"
    }
   ],
   "source": [
    "%%time\n",
    "\n",
    "tf.random.set_seed(33)\n",
    "\n",
    "MODEL_DIR = os.path.join(LOGDIR, \"cnn\")\n",
    "shutil.rmtree(MODEL_DIR, ignore_errors=True)\n",
    "\n",
    "EPOCHS = 100\n",
    "BATCH_SIZE = 300\n",
    "EMBED_DIM = 5\n",
    "FILTERS = 200\n",
    "STRIDES = 2\n",
    "KSIZE = 3\n",
    "PATIENCE = 2\n",
    "\n",
    "\n",
    "cnn_model = build_cnn_model(\n",
    "    embed_dim=EMBED_DIM,\n",
    "    filters=FILTERS,\n",
    "    strides=STRIDES,\n",
    "    ksize=KSIZE,\n",
    ")\n",
    "\n",
    "cnn_history = cnn_model.fit(\n",
    "    X_train,\n",
    "    Y_train,\n",
    "    epochs=EPOCHS,\n",
    "    batch_size=BATCH_SIZE,\n",
    "    validation_data=(X_valid, Y_valid),\n",
    "    callbacks=[EarlyStopping(patience=PATIENCE), TensorBoard(MODEL_DIR)],\n",
    ")\n",
    "\n",
    "pd.DataFrame(cnn_history.history)[[\"loss\", \"val_loss\"]].plot()\n",
    "pd.DataFrame(cnn_history.history)[[\"accuracy\", \"val_accuracy\"]].plot()\n",
    "\n",
    "cnn_model.summary()"
   ]
  },
  {
   "cell_type": "markdown",
   "metadata": {},
   "source": [
    "## (Optional) Using the Keras Text Preprocessing Layer"
   ]
  },
  {
   "cell_type": "markdown",
   "metadata": {},
   "source": [
    "Thanks to the new Keras preprocessing layer, we can also include the preprocessing of the text (i.e., the tokenization followed by the integer representation of the tokens) within the model itself as a standard Keras layer. Let us first import this text preprocessing layer:"
   ]
  },
  {
   "cell_type": "code",
   "execution_count": 55,
   "metadata": {},
   "outputs": [],
   "source": [
    "from keras.layers import TextVectorization"
   ]
  },
  {
   "cell_type": "markdown",
   "metadata": {},
   "source": [
    "At instanciation, we can specify the maximum length of the sequence output as well as the maximum number of tokens to be considered:"
   ]
  },
  {
   "cell_type": "code",
   "execution_count": 56,
   "metadata": {},
   "outputs": [],
   "source": [
    "MAX_LEN = 26\n",
    "MAX_TOKENS = 20000\n",
    "preprocessing_layer = TextVectorization(\n",
    "    output_sequence_length=MAX_LEN, max_tokens=MAX_TOKENS\n",
    ")"
   ]
  },
  {
   "cell_type": "markdown",
   "metadata": {},
   "source": [
    "Before using this layer in our model, we need to adapt it to our data so that it generates a token-to-integer mapping. Remeber our dataset looks like the following:"
   ]
  },
  {
   "cell_type": "code",
   "execution_count": 57,
   "metadata": {},
   "outputs": [
    {
     "data": {
      "text/html": [
       "<div>\n",
       "<style scoped>\n",
       "    .dataframe tbody tr th:only-of-type {\n",
       "        vertical-align: middle;\n",
       "    }\n",
       "\n",
       "    .dataframe tbody tr th {\n",
       "        vertical-align: top;\n",
       "    }\n",
       "\n",
       "    .dataframe thead th {\n",
       "        text-align: right;\n",
       "    }\n",
       "</style>\n",
       "<table border=\"1\" class=\"dataframe\">\n",
       "  <thead>\n",
       "    <tr style=\"text-align: right;\">\n",
       "      <th></th>\n",
       "      <th>title</th>\n",
       "      <th>source</th>\n",
       "    </tr>\n",
       "  </thead>\n",
       "  <tbody>\n",
       "    <tr>\n",
       "      <th>0</th>\n",
       "      <td>sshbeam  a simple android app that sends files...</td>\n",
       "      <td>github</td>\n",
       "    </tr>\n",
       "    <tr>\n",
       "      <th>1</th>\n",
       "      <td>australia joins china in censoring the internet</td>\n",
       "      <td>techcrunch</td>\n",
       "    </tr>\n",
       "    <tr>\n",
       "      <th>2</th>\n",
       "      <td>ask show hn  upgrading password-hashing scheme...</td>\n",
       "      <td>github</td>\n",
       "    </tr>\n",
       "    <tr>\n",
       "      <th>3</th>\n",
       "      <td>cannon.js - a lightweight and simple 3d physic...</td>\n",
       "      <td>github</td>\n",
       "    </tr>\n",
       "    <tr>\n",
       "      <th>4</th>\n",
       "      <td>the chains of mental illness in west africa</td>\n",
       "      <td>nytimes</td>\n",
       "    </tr>\n",
       "  </tbody>\n",
       "</table>\n",
       "</div>"
      ],
      "text/plain": [
       "                                               title      source\n",
       "0  sshbeam  a simple android app that sends files...      github\n",
       "1    australia joins china in censoring the internet  techcrunch\n",
       "2  ask show hn  upgrading password-hashing scheme...      github\n",
       "3  cannon.js - a lightweight and simple 3d physic...      github\n",
       "4        the chains of mental illness in west africa     nytimes"
      ]
     },
     "execution_count": 57,
     "metadata": {},
     "output_type": "execute_result"
    }
   ],
   "source": [
    "titles_df.head()"
   ]
  },
  {
   "cell_type": "markdown",
   "metadata": {},
   "source": [
    "We can directly use the Pandas Series corresponding to the titles in our dataset to adapt the data using the `adapt` method:"
   ]
  },
  {
   "cell_type": "code",
   "execution_count": 58,
   "metadata": {},
   "outputs": [],
   "source": [
    "preprocessing_layer.adapt(titles_df.title)"
   ]
  },
  {
   "cell_type": "markdown",
   "metadata": {},
   "source": [
    "At this point, the preprocessing layer can create the integer representation of our input text if we simply apply the layer to it:"
   ]
  },
  {
   "cell_type": "code",
   "execution_count": 59,
   "metadata": {},
   "outputs": [
    {
     "data": {
      "text/plain": [
       "0    sshbeam  a simple android app that sends files...\n",
       "1      australia joins china in censoring the internet\n",
       "2    ask show hn  upgrading password-hashing scheme...\n",
       "3    cannon.js - a lightweight and simple 3d physic...\n",
       "4          the chains of mental illness in west africa\n",
       "Name: title, dtype: object"
      ]
     },
     "execution_count": 59,
     "metadata": {},
     "output_type": "execute_result"
    }
   ],
   "source": [
    "X_train, X_valid = titles_train, titles_valid\n",
    "X_train[:5]"
   ]
  },
  {
   "cell_type": "code",
   "execution_count": 60,
   "metadata": {},
   "outputs": [
    {
     "data": {
      "text/plain": [
       "<tf.Tensor: shape=(5, 26), dtype=int64, numpy=\n",
       "array([[    1,     4,    47,    58,    22,    27,  1888,   151,     3,\n",
       "            4,   761,   115,   310,   719,     0,     0,     0,     0,\n",
       "            0,     0,     0,     0,     0,     0,     0,     0],\n",
       "       [ 4325,   799,   125,     6, 13759,     2,    89,     0,     0,\n",
       "            0,     0,     0,     0,     0,     0,     0,     0,     0,\n",
       "            0,     0,     0,     0,     0,     0,     0,     0],\n",
       "       [  642,    12,    13,  7315,     1,  6478,   200,   277,     1,\n",
       "            0,     0,     0,     0,     0,     0,     0,     0,     0,\n",
       "            0,     0,     0,     0,     0,     0,     0,     0],\n",
       "       [    1,     4,   330,     8,    47,   306,  1744,   120,     5,\n",
       "            2,    25,     0,     0,     0,     0,     0,     0,     0,\n",
       "            0,     0,     0,     0,     0,     0,     0,     0],\n",
       "       [    2,  5344,     7,  3115,  5041,     6,  2121,  2205,     0,\n",
       "            0,     0,     0,     0,     0,     0,     0,     0,     0,\n",
       "            0,     0,     0,     0,     0,     0,     0,     0]])>"
      ]
     },
     "execution_count": 60,
     "metadata": {},
     "output_type": "execute_result"
    }
   ],
   "source": [
    "integers = preprocessing_layer(X_train[:5])\n",
    "integers"
   ]
  },
  {
   "cell_type": "markdown",
   "metadata": {},
   "source": [
    "**Exercise:** In the following cell, implement a function\n",
    "`build_model_with_text_preprocessing(embed_dim, units)` that returns a text model with the following sequential structure:\n",
    "\n",
    "1. the `preprocessing_layer` we defined above folowed by\n",
    "1. an embedding layer with `embed_dim` dimension for the output vectors followed by\n",
    "1. a GRU layer with `units` number of neurons followed by\n",
    "1. a final dense layer for classification"
   ]
  },
  {
   "cell_type": "code",
   "execution_count": 76,
   "metadata": {},
   "outputs": [],
   "source": [
    "def build_model_with_text_preprocessing(embed_dim, units):\n",
    "\n",
    "    # TODO\n",
    "    model = Sequential(\n",
    "        [\n",
    "            tf.keras.layers.Input(shape=(1,), dtype=tf.string),\n",
    "            preprocessing_layer,\n",
    "            Embedding(\n",
    "                VOCAB_SIZE + 1, embed_dim, input_shape=[MAX_LEN], mask_zero=True\n",
    "            ),\n",
    "            GRU(units),\n",
    "            Dense(N_CLASSES, activation=\"softmax\"),\n",
    "        ]\n",
    "    )\n",
    "\n",
    "    model.compile(\n",
    "        optimizer=tf.keras.optimizers.Adam(learning_rate=0.01),\n",
    "        loss=\"categorical_crossentropy\",\n",
    "        metrics=[\"accuracy\"],\n",
    "    )\n",
    "\n",
    "    return model"
   ]
  },
  {
   "cell_type": "markdown",
   "metadata": {},
   "source": [
    "Our model is now able to cosume text directly as input! Again, consider the following text sample:"
   ]
  },
  {
   "cell_type": "code",
   "execution_count": 62,
   "metadata": {},
   "outputs": [
    {
     "data": {
      "text/plain": [
       "0    sshbeam  a simple android app that sends files...\n",
       "1      australia joins china in censoring the internet\n",
       "2    ask show hn  upgrading password-hashing scheme...\n",
       "3    cannon.js - a lightweight and simple 3d physic...\n",
       "4          the chains of mental illness in west africa\n",
       "Name: title, dtype: object"
      ]
     },
     "execution_count": 62,
     "metadata": {},
     "output_type": "execute_result"
    }
   ],
   "source": [
    "X_train[:5]"
   ]
  },
  {
   "cell_type": "markdown",
   "metadata": {},
   "source": [
    "Then we can have our model directly predict on this input:\n",
    "\n",
    "\n",
    "\n"
   ]
  },
  {
   "cell_type": "code",
   "execution_count": 68,
   "metadata": {},
   "outputs": [
    {
     "name": "stdout",
     "output_type": "stream",
     "text": [
      "16\n"
     ]
    }
   ],
   "source": [
    "print(UNITS)"
   ]
  },
  {
   "cell_type": "code",
   "execution_count": 77,
   "metadata": {},
   "outputs": [
    {
     "data": {
      "text/plain": [
       "array([[0.33454305, 0.33374736, 0.33170956],\n",
       "       [0.3312122 , 0.33293074, 0.33585706],\n",
       "       [0.33616787, 0.33384115, 0.329991  ],\n",
       "       [0.33166906, 0.33292583, 0.33540505],\n",
       "       [0.33268794, 0.3377822 , 0.32952988]], dtype=float32)"
      ]
     },
     "execution_count": 77,
     "metadata": {},
     "output_type": "execute_result"
    }
   ],
   "source": [
    "model = build_model_with_text_preprocessing(embed_dim=EMBED_DIM, units=UNITS)\n",
    "model.predict(X_train[:5])"
   ]
  },
  {
   "cell_type": "markdown",
   "metadata": {},
   "source": [
    "Of course the model above has not yet been trained, so its prediction are meaningless so far. Let us train it now on our dataset as before:"
   ]
  },
  {
   "cell_type": "code",
   "execution_count": 78,
   "metadata": {},
   "outputs": [
    {
     "name": "stdout",
     "output_type": "stream",
     "text": [
      "Epoch 1/100\n",
      "257/257 [==============================] - 17s 45ms/step - loss: 0.4789 - accuracy: 0.7863 - val_loss: 0.3767 - val_accuracy: 0.8461\n",
      "Epoch 2/100\n",
      "257/257 [==============================] - 10s 39ms/step - loss: 0.2836 - accuracy: 0.8877 - val_loss: 0.3758 - val_accuracy: 0.8495\n",
      "Epoch 3/100\n",
      "257/257 [==============================] - 10s 39ms/step - loss: 0.2195 - accuracy: 0.9157 - val_loss: 0.4195 - val_accuracy: 0.8434\n",
      "Epoch 4/100\n",
      "257/257 [==============================] - 10s 39ms/step - loss: 0.1767 - accuracy: 0.9327 - val_loss: 0.4399 - val_accuracy: 0.8430\n",
      "Model: \"sequential_10\"\n",
      "_________________________________________________________________\n",
      " Layer (type)                Output Shape              Param #   \n",
      "=================================================================\n",
      " text_vectorization (TextVec  (None, 26)               0         \n",
      " torization)                                                     \n",
      "                                                                 \n",
      " embedding_11 (Embedding)    (None, 26, 10)            472720    \n",
      "                                                                 \n",
      " gru_8 (GRU)                 (None, 16)                1344      \n",
      "                                                                 \n",
      " dense_10 (Dense)            (None, 3)                 51        \n",
      "                                                                 \n",
      "=================================================================\n",
      "Total params: 474,115\n",
      "Trainable params: 474,115\n",
      "Non-trainable params: 0\n",
      "_________________________________________________________________\n",
      "CPU times: user 1min 49s, sys: 14.9 s, total: 2min 3s\n",
      "Wall time: 48.1 s\n"
     ]
    },
    {
     "data": {
      "image/png": "[encoded data removed]",
      "text/plain": [
       "<Figure size 432x288 with 1 Axes>"
      ]
     },
     "metadata": {
      "needs_background": "light"
     },
     "output_type": "display_data"
    },
    {
     "data": {
      "image/png": "[encoded data removed]",
      "text/plain": [
       "<Figure size 432x288 with 1 Axes>"
      ]
     },
     "metadata": {
      "needs_background": "light"
     },
     "output_type": "display_data"
    }
   ],
   "source": [
    "%%time\n",
    "\n",
    "tf.random.set_seed(33)\n",
    "\n",
    "MODEL_DIR = os.path.join(LOGDIR, \"rnn\")\n",
    "shutil.rmtree(MODEL_DIR, ignore_errors=True)\n",
    "\n",
    "EPOCHS = 100\n",
    "BATCH_SIZE = 300\n",
    "EMBED_DIM = 10\n",
    "UNITS = 16\n",
    "PATIENCE = 2\n",
    "\n",
    "model = build_model_with_text_preprocessing(embed_dim=EMBED_DIM, units=UNITS)\n",
    "\n",
    "history = model.fit(\n",
    "    X_train,\n",
    "    Y_train,\n",
    "    epochs=EPOCHS,\n",
    "    batch_size=BATCH_SIZE,\n",
    "    validation_data=(X_valid, Y_valid),\n",
    "    callbacks=[EarlyStopping(patience=PATIENCE), TensorBoard(MODEL_DIR)],\n",
    ")\n",
    "\n",
    "pd.DataFrame(history.history)[[\"loss\", \"val_loss\"]].plot()\n",
    "pd.DataFrame(history.history)[[\"accuracy\", \"val_accuracy\"]].plot()\n",
    "\n",
    "model.summary()"
   ]
  },
  {
   "cell_type": "markdown",
   "metadata": {},
   "source": [
    "Copyright 2022 Google Inc. Licensed under the Apache License, Version 2.0 (the \"License\"); you may not use this file except in compliance with the License. You may obtain a copy of the License at http://www.apache.org/licenses/LICENSE-2.0 Unless required by applicable law or agreed to in writing, software distributed under the License is distributed on an \"AS IS\" BASIS, WITHOUT WARRANTIES OR CONDITIONS OF ANY KIND, either express or implied. See the License for the specific language governing permissions and limitations under the License"
   ]
  }
 ],
 "metadata": {
  "environment": {
   "kernel": "python3",
   "name": "tf2-gpu.2-6.m94",
   "type": "gcloud",
   "uri": "gcr.io/deeplearning-platform-release/tf2-gpu.2-6:m94"
  },
  "kernelspec": {
   "display_name": "Python 3",
   "language": "python",
   "name": "python3"
  },
  "language_info": {
   "codemirror_mode": {
    "name": "ipython",
    "version": 3
   },
   "file_extension": ".py",
   "mimetype": "text/x-python",
   "name": "python",
   "nbconvert_exporter": "python",
   "pygments_lexer": "ipython3",
   "version": "3.7.12"
  }
 },
 "nbformat": 4,
 "nbformat_minor": 4
}
