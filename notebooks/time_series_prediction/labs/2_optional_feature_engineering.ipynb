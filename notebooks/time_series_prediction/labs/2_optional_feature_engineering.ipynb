{
 "cells": [
  {
   "cell_type": "markdown",
   "metadata": {
    "colab_type": "text",
    "id": "V8k9buNKTfud"
   },
   "source": [
    "# Label and feature engineering\n",
    "\n",
    "This lab is *optional*. It demonstrates advanced SQL queries for time-series engineering. For real-world problems, this type of feature engineering code is essential. If you are pursuing a time-series project for open project week, feel free to use this code as a template. \n",
    "\n",
    "---\n",
    "\n",
    "Learning objectives:\n",
    "\n",
    "1. Learn how to use BigQuery to build time-series features and labels for forecasting\n",
    "2. Learn how to visualize and explore features.\n",
    "3. Learn effective scaling and normalizing techniques to improve our modeling results\n",
    "\n",
    "Now that we have explored the data, let's start building our features, so we can build a model.\n",
    "\n",
    "<h3><font color=\"#4885ed\">Feature Engineering</font> </h3>\n",
    "\n",
    "Use the `price_history` table, we can look at past performance of a given stock, to try to predict it's future stock price. In this notebook we will be focused on cleaning and creating features from this table. \n",
    "\n",
    "There are typically two different approaches to creating features with time-series data. \n",
    "\n",
    "**One approach** is aggregate the time-series into \"static\" features, such as \"min_price_over_past_month\" or \"exp_moving_avg_past_30_days\". Using this approach, we can use a deep neural network or a more \"traditional\" ML model to train. Notice we have essentially removed all sequention information after aggregating. This assumption can work well in practice. \n",
    "\n",
    "A **second approach** is to preserve the ordered nature of the data and use a sequential model, such as a recurrent neural network. This approach has a nice benefit that is typically requires less feature engineering. Although, training sequentially models typically takes longer.\n",
    "\n",
    "In this notebook, we will build features and also create rolling windows of the ordered time-series data.\n",
    "\n",
    "<h3><font color=\"#4885ed\">Label Engineering</font> </h3>\n",
    "\n",
    "We are trying to predict if the stock will go up or down. In order to do this we will need to \"engineer\" our label by looking into the future and using that as the label. We will be using the [`LAG`](https://cloud.google.com/bigquery/docs/reference/standard-sql/functions-and-operators#lag) function in BigQuery to do this. Visually this looks like:\n",
    "\n",
    "![](https://github.com/GoogleCloudPlatform/training-data-analyst/blob/master/blogs/gcp_forecasting/rolling_window.gif?raw=true)"
   ]
  },
  {
   "cell_type": "markdown",
   "metadata": {
    "colab_type": "text",
    "id": "WBBSZf_uTdGy"
   },
   "source": [
    "## Import libraries; setup"
   ]
  },
  {
   "cell_type": "code",
   "execution_count": 1,
   "metadata": {
    "colab": {},
    "colab_type": "code",
    "id": "kC9RZRlqTfuj",
    "tags": []
   },
   "outputs": [],
   "source": [
    "PROJECT = !(gcloud config get-value core/project)\n",
    "PROJECT = PROJECT[0]"
   ]
  },
  {
   "cell_type": "code",
   "execution_count": 2,
   "metadata": {
    "colab": {},
    "colab_type": "code",
    "id": "IjsuN9heTfue",
    "tags": []
   },
   "outputs": [],
   "source": [
    "import pandas as pd\n",
    "from google.cloud import bigquery\n",
    "from IPython import get_ipython\n",
    "from IPython.core.magic import register_cell_magic\n",
    "\n",
    "bq = bigquery.Client(project=PROJECT)"
   ]
  },
  {
   "cell_type": "code",
   "execution_count": 3,
   "metadata": {
    "colab": {},
    "colab_type": "code",
    "id": "xyaeBdzMTdG2",
    "tags": []
   },
   "outputs": [],
   "source": [
    "# Allow you to easily have Python variables in SQL query.\n",
    "@register_cell_magic(\"with_globals\")\n",
    "def with_globals(line, cell):\n",
    "    contents = cell.format(**globals())\n",
    "    if \"print\" in line:\n",
    "        print(contents)\n",
    "    get_ipython().run_cell(contents)"
   ]
  },
  {
   "cell_type": "code",
   "execution_count": 4,
   "metadata": {
    "colab": {
     "base_uri": "https://localhost:8080/",
     "height": 34
    },
    "colab_type": "code",
    "id": "VHEy7L2EW-ug",
    "outputId": "b8a94157-c6d9-425d-b124-cead5d7d9d3f",
    "tags": []
   },
   "outputs": [
    {
     "name": "stdout",
     "output_type": "stream",
     "text": [
      "Dataset created\n"
     ]
    }
   ],
   "source": [
    "def create_dataset():\n",
    "    dataset = bigquery.Dataset(bq.dataset(\"stock_market\"))\n",
    "    try:\n",
    "        bq.create_dataset(dataset)  # Will fail if dataset already exists.\n",
    "        print(\"Dataset created\")\n",
    "    except:\n",
    "        print(\"Dataset already exists\")\n",
    "\n",
    "\n",
    "create_dataset()"
   ]
  },
  {
   "cell_type": "markdown",
   "metadata": {
    "colab_type": "text",
    "id": "Ip9SZU7CTful"
   },
   "source": [
    "## Create time-series features and determine label based on market movement"
   ]
  },
  {
   "cell_type": "markdown",
   "metadata": {
    "colab_type": "text",
    "id": "WduqaabdTfum"
   },
   "source": [
    "### Summary of base tables"
   ]
  },
  {
   "cell_type": "markdown",
   "metadata": {},
   "source": [
    "**TODO**: How many rows are in our base tables `price_history` and `snp500`?"
   ]
  },
  {
   "cell_type": "code",
   "execution_count": 5,
   "metadata": {
    "colab": {
     "base_uri": "https://localhost:8080/",
     "height": 77
    },
    "colab_type": "code",
    "id": "GEmgSKBNTdG_",
    "outputId": "845d17a4-83a0-4314-d888-8cc29ee90c2b",
    "tags": []
   },
   "outputs": [
    {
     "name": "stderr",
     "output_type": "stream",
     "text": [
      "Query complete after 0.01s: 100%|██████████| 2/2 [00:00<00:00, 755.39query/s]                         \n",
      "Downloading: 100%|██████████| 1/1 [00:01<00:00,  1.99s/rows]\n"
     ]
    },
    {
     "data": {
      "text/html": [
       "<div>\n",
       "<style scoped>\n",
       "    .dataframe tbody tr th:only-of-type {\n",
       "        vertical-align: middle;\n",
       "    }\n",
       "\n",
       "    .dataframe tbody tr th {\n",
       "        vertical-align: top;\n",
       "    }\n",
       "\n",
       "    .dataframe thead th {\n",
       "        text-align: right;\n",
       "    }\n",
       "</style>\n",
       "<table border=\"1\" class=\"dataframe\">\n",
       "  <thead>\n",
       "    <tr style=\"text-align: right;\">\n",
       "      <th></th>\n",
       "      <th>cnt</th>\n",
       "    </tr>\n",
       "  </thead>\n",
       "  <tbody>\n",
       "    <tr>\n",
       "      <th>0</th>\n",
       "      <td>14765848</td>\n",
       "    </tr>\n",
       "  </tbody>\n",
       "</table>\n",
       "</div>"
      ],
      "text/plain": [
       "        cnt\n",
       "0  14765848"
      ]
     },
     "execution_count": 5,
     "metadata": {},
     "output_type": "execute_result"
    }
   ],
   "source": [
    "%%with_globals\n",
    "%%bigquery --project {PROJECT}\n",
    "--# TODO\n",
    "SELECT COUNT(*) as cnt\n",
    "FROM `stock_src.price_history`"
   ]
  },
  {
   "cell_type": "code",
   "execution_count": 7,
   "metadata": {
    "colab": {
     "base_uri": "https://localhost:8080/",
     "height": 77
    },
    "colab_type": "code",
    "id": "Utn87x_ATdHC",
    "outputId": "9d4a74d7-1ad0-4510-adf0-91c7ee7e87b5",
    "tags": []
   },
   "outputs": [
    {
     "name": "stderr",
     "output_type": "stream",
     "text": [
      "Query complete after 0.00s: 100%|██████████| 2/2 [00:00<00:00, 785.89query/s]                         \n",
      "Downloading: 100%|██████████| 1/1 [00:01<00:00,  1.30s/rows]\n"
     ]
    },
    {
     "data": {
      "text/html": [
       "<div>\n",
       "<style scoped>\n",
       "    .dataframe tbody tr th:only-of-type {\n",
       "        vertical-align: middle;\n",
       "    }\n",
       "\n",
       "    .dataframe tbody tr th {\n",
       "        vertical-align: top;\n",
       "    }\n",
       "\n",
       "    .dataframe thead th {\n",
       "        text-align: right;\n",
       "    }\n",
       "</style>\n",
       "<table border=\"1\" class=\"dataframe\">\n",
       "  <thead>\n",
       "    <tr style=\"text-align: right;\">\n",
       "      <th></th>\n",
       "      <th>cnt</th>\n",
       "    </tr>\n",
       "  </thead>\n",
       "  <tbody>\n",
       "    <tr>\n",
       "      <th>0</th>\n",
       "      <td>1000</td>\n",
       "    </tr>\n",
       "  </tbody>\n",
       "</table>\n",
       "</div>"
      ],
      "text/plain": [
       "    cnt\n",
       "0  1000"
      ]
     },
     "execution_count": 7,
     "metadata": {},
     "output_type": "execute_result"
    }
   ],
   "source": [
    "%%with_globals\n",
    "%%bigquery --project {PROJECT}\n",
    "--# TODO\n",
    "SELECT COUNT(*) as cnt\n",
    "FROM `stock_src.snp500`"
   ]
  },
  {
   "cell_type": "markdown",
   "metadata": {
    "colab_type": "text",
    "id": "at7EL7pITfuq"
   },
   "source": [
    "### Label engineering"
   ]
  },
  {
   "cell_type": "markdown",
   "metadata": {
    "colab_type": "text",
    "id": "pQ7R1VcWeJq9"
   },
   "source": [
    "Ultimately, we need to end up with a single label for each day. The label takes on 3 values: {`down`, `stay`, `up`}, where `down` and `up` indicates the normalized price (more on this below) went down 1% or more and up 1% or more, respectively. `stay` indicates the stock remained within 1%.\n",
    "\n",
    "The steps are:\n",
    "\n",
    "1. Compare close price and open price\n",
    "2. Compute price features using analytics functions\n",
    "3. Compute normalized price change (%)\n",
    "4. Join with S&P 500 table\n",
    "5. Create labels (`up`, `down`, `stay`)\n"
   ]
  },
  {
   "cell_type": "markdown",
   "metadata": {
    "colab_type": "text",
    "id": "1FvPgI6UOoQO"
   },
   "source": [
    "<h3><font color=\"#4885ed\">Compare close price and open price</font> </h3>\n",
    "\n",
    "For each row, get the close price of yesterday and the open price of tomorrow using the [`LAG`](https://cloud.google.com/bigquery/docs/reference/legacy-sql#lag) function. We will determine tomorrow's close - today's close."
   ]
  },
  {
   "cell_type": "markdown",
   "metadata": {
    "colab_type": "text",
    "id": "vBJzyVtCTfur"
   },
   "source": [
    "#### Shift to get tomorrow's close price."
   ]
  },
  {
   "cell_type": "markdown",
   "metadata": {},
   "source": [
    "**Learning objective 1**"
   ]
  },
  {
   "cell_type": "code",
   "execution_count": 8,
   "metadata": {
    "colab": {},
    "colab_type": "code",
    "id": "IreuNo_pTfus",
    "tags": []
   },
   "outputs": [
    {
     "name": "stderr",
     "output_type": "stream",
     "text": [
      "Query complete after 0.00s: 100%|██████████| 6/6 [00:00<00:00, 2455.68query/s]                        \n"
     ]
    }
   ],
   "source": [
    "%%with_globals print\n",
    "%%bigquery df --project {PROJECT}\n",
    "CREATE OR REPLACE TABLE `stock_market.price_history_delta`\n",
    "AS\n",
    "(\n",
    "WITH shifted_price AS\n",
    "  (\n",
    "  SELECT *,\n",
    "  (LAG(close, 1) OVER (PARTITION BY symbol order by Date DESC)) AS tomorrow_close\n",
    "  FROM `stock_src.price_history`\n",
    "  WHERE Close > 0\n",
    "  )\n",
    "SELECT a.*,\n",
    "(tomorrow_close - Close) AS tomo_close_m_close\n",
    "FROM shifted_price a\n",
    ")"
   ]
  },
  {
   "cell_type": "code",
   "execution_count": 9,
   "metadata": {
    "colab": {
     "base_uri": "https://localhost:8080/",
     "height": 1000
    },
    "colab_type": "code",
    "id": "adrk4vc1TdHM",
    "outputId": "6d6fbba1-9b94-4b96-fd49-6ceb39fa4ccb",
    "tags": []
   },
   "outputs": [
    {
     "name": "stderr",
     "output_type": "stream",
     "text": [
      "Query complete after 0.00s: 100%|██████████| 2/2 [00:00<00:00, 763.92query/s]                         \n",
      "Downloading: 100%|██████████| 100/100 [00:01<00:00, 73.96rows/s] \n"
     ]
    },
    {
     "data": {
      "text/html": [
       "<div>\n",
       "<style scoped>\n",
       "    .dataframe tbody tr th:only-of-type {\n",
       "        vertical-align: middle;\n",
       "    }\n",
       "\n",
       "    .dataframe tbody tr th {\n",
       "        vertical-align: top;\n",
       "    }\n",
       "\n",
       "    .dataframe thead th {\n",
       "        text-align: right;\n",
       "    }\n",
       "</style>\n",
       "<table border=\"1\" class=\"dataframe\">\n",
       "  <thead>\n",
       "    <tr style=\"text-align: right;\">\n",
       "      <th></th>\n",
       "      <th>symbol</th>\n",
       "      <th>Date</th>\n",
       "      <th>Open</th>\n",
       "      <th>Close</th>\n",
       "      <th>tomorrow_close</th>\n",
       "      <th>tomo_close_m_close</th>\n",
       "    </tr>\n",
       "  </thead>\n",
       "  <tbody>\n",
       "    <tr>\n",
       "      <th>0</th>\n",
       "      <td>djia</td>\n",
       "      <td>1928-10-01</td>\n",
       "      <td>239.43</td>\n",
       "      <td>240.01</td>\n",
       "      <td>238.14</td>\n",
       "      <td>-1.87</td>\n",
       "    </tr>\n",
       "    <tr>\n",
       "      <th>1</th>\n",
       "      <td>djia</td>\n",
       "      <td>1928-10-01</td>\n",
       "      <td>239.43</td>\n",
       "      <td>240.01</td>\n",
       "      <td>240.01</td>\n",
       "      <td>0.00</td>\n",
       "    </tr>\n",
       "    <tr>\n",
       "      <th>2</th>\n",
       "      <td>djia</td>\n",
       "      <td>1928-10-02</td>\n",
       "      <td>240.01</td>\n",
       "      <td>238.14</td>\n",
       "      <td>238.14</td>\n",
       "      <td>0.00</td>\n",
       "    </tr>\n",
       "    <tr>\n",
       "      <th>3</th>\n",
       "      <td>djia</td>\n",
       "      <td>1928-10-02</td>\n",
       "      <td>240.01</td>\n",
       "      <td>238.14</td>\n",
       "      <td>237.75</td>\n",
       "      <td>-0.39</td>\n",
       "    </tr>\n",
       "    <tr>\n",
       "      <th>4</th>\n",
       "      <td>djia</td>\n",
       "      <td>1928-10-03</td>\n",
       "      <td>238.14</td>\n",
       "      <td>237.75</td>\n",
       "      <td>240.00</td>\n",
       "      <td>2.25</td>\n",
       "    </tr>\n",
       "    <tr>\n",
       "      <th>...</th>\n",
       "      <td>...</td>\n",
       "      <td>...</td>\n",
       "      <td>...</td>\n",
       "      <td>...</td>\n",
       "      <td>...</td>\n",
       "      <td>...</td>\n",
       "    </tr>\n",
       "    <tr>\n",
       "      <th>95</th>\n",
       "      <td>djia</td>\n",
       "      <td>1928-12-10</td>\n",
       "      <td>257.33</td>\n",
       "      <td>263.95</td>\n",
       "      <td>269.34</td>\n",
       "      <td>5.39</td>\n",
       "    </tr>\n",
       "    <tr>\n",
       "      <th>96</th>\n",
       "      <td>djia</td>\n",
       "      <td>1928-12-11</td>\n",
       "      <td>263.95</td>\n",
       "      <td>269.34</td>\n",
       "      <td>269.34</td>\n",
       "      <td>0.00</td>\n",
       "    </tr>\n",
       "    <tr>\n",
       "      <th>97</th>\n",
       "      <td>djia</td>\n",
       "      <td>1928-12-11</td>\n",
       "      <td>263.95</td>\n",
       "      <td>269.34</td>\n",
       "      <td>266.82</td>\n",
       "      <td>-2.52</td>\n",
       "    </tr>\n",
       "    <tr>\n",
       "      <th>98</th>\n",
       "      <td>djia</td>\n",
       "      <td>1928-12-12</td>\n",
       "      <td>269.34</td>\n",
       "      <td>266.82</td>\n",
       "      <td>266.82</td>\n",
       "      <td>0.00</td>\n",
       "    </tr>\n",
       "    <tr>\n",
       "      <th>99</th>\n",
       "      <td>djia</td>\n",
       "      <td>1928-12-12</td>\n",
       "      <td>269.34</td>\n",
       "      <td>266.82</td>\n",
       "      <td>266.88</td>\n",
       "      <td>0.06</td>\n",
       "    </tr>\n",
       "  </tbody>\n",
       "</table>\n",
       "<p>100 rows × 6 columns</p>\n",
       "</div>"
      ],
      "text/plain": [
       "   symbol        Date    Open   Close  tomorrow_close  tomo_close_m_close\n",
       "0    djia  1928-10-01  239.43  240.01          238.14               -1.87\n",
       "1    djia  1928-10-01  239.43  240.01          240.01                0.00\n",
       "2    djia  1928-10-02  240.01  238.14          238.14                0.00\n",
       "3    djia  1928-10-02  240.01  238.14          237.75               -0.39\n",
       "4    djia  1928-10-03  238.14  237.75          240.00                2.25\n",
       "..    ...         ...     ...     ...             ...                 ...\n",
       "95   djia  1928-12-10  257.33  263.95          269.34                5.39\n",
       "96   djia  1928-12-11  263.95  269.34          269.34                0.00\n",
       "97   djia  1928-12-11  263.95  269.34          266.82               -2.52\n",
       "98   djia  1928-12-12  269.34  266.82          266.82                0.00\n",
       "99   djia  1928-12-12  269.34  266.82          266.88                0.06\n",
       "\n",
       "[100 rows x 6 columns]"
      ]
     },
     "execution_count": 9,
     "metadata": {},
     "output_type": "execute_result"
    }
   ],
   "source": [
    "%%with_globals\n",
    "%%bigquery --project {PROJECT}\n",
    "SELECT *\n",
    "FROM stock_market.price_history_delta\n",
    "ORDER by Date\n",
    "LIMIT 100"
   ]
  },
  {
   "cell_type": "markdown",
   "metadata": {
    "colab_type": "text",
    "id": "8UnOKtvdTdHO"
   },
   "source": [
    "**TODO**: Historically, we know that the stock market has been going up. Can you think of a way to verify this using our newly created table `price_history_delta`?"
   ]
  },
  {
   "cell_type": "markdown",
   "metadata": {},
   "source": [
    "**Learning objective 2**"
   ]
  },
  {
   "cell_type": "code",
   "execution_count": 10,
   "metadata": {
    "colab": {
     "base_uri": "https://localhost:8080/",
     "height": 77
    },
    "colab_type": "code",
    "id": "XY2MetOeTfux",
    "outputId": "9310bac5-2d0e-468b-fa8e-a981f09b4b1c",
    "tags": []
   },
   "outputs": [
    {
     "name": "stderr",
     "output_type": "stream",
     "text": [
      "Query complete after 0.00s: 100%|██████████| 2/2 [00:00<00:00, 973.38query/s]                         \n",
      "Downloading: 100%|██████████| 1/1 [00:01<00:00,  1.95s/rows]\n"
     ]
    },
    {
     "data": {
      "text/html": [
       "<div>\n",
       "<style scoped>\n",
       "    .dataframe tbody tr th:only-of-type {\n",
       "        vertical-align: middle;\n",
       "    }\n",
       "\n",
       "    .dataframe tbody tr th {\n",
       "        vertical-align: top;\n",
       "    }\n",
       "\n",
       "    .dataframe thead th {\n",
       "        text-align: right;\n",
       "    }\n",
       "</style>\n",
       "<table border=\"1\" class=\"dataframe\">\n",
       "  <thead>\n",
       "    <tr style=\"text-align: right;\">\n",
       "      <th></th>\n",
       "      <th>avg_close</th>\n",
       "      <th>avg_tomo_close</th>\n",
       "      <th>avg_change</th>\n",
       "      <th>cnt</th>\n",
       "    </tr>\n",
       "  </thead>\n",
       "  <tbody>\n",
       "    <tr>\n",
       "      <th>0</th>\n",
       "      <td>44.74092</td>\n",
       "      <td>44.743202</td>\n",
       "      <td>0.002282</td>\n",
       "      <td>14765840</td>\n",
       "    </tr>\n",
       "  </tbody>\n",
       "</table>\n",
       "</div>"
      ],
      "text/plain": [
       "   avg_close  avg_tomo_close  avg_change       cnt\n",
       "0   44.74092       44.743202    0.002282  14765840"
      ]
     },
     "execution_count": 10,
     "metadata": {},
     "output_type": "execute_result"
    }
   ],
   "source": [
    "%%with_globals print\n",
    "%%bigquery --project {PROJECT}\n",
    "SELECT\n",
    "--# TODO: verify the stock market is going up -- on average.\n",
    "AVG(close) AS avg_close,\n",
    "AVG(tomorrow_close) AS avg_tomo_close,\n",
    "AVG(tomorrow_close) - AVG(close) AS avg_change,\n",
    "COUNT(*) cnt\n",
    "FROM\n",
    "stock_market.price_history_delta"
   ]
  },
  {
   "cell_type": "markdown",
   "metadata": {
    "colab_type": "text",
    "id": "efb9PCBdTfu0"
   },
   "source": [
    "### Add time series features"
   ]
  },
  {
   "cell_type": "markdown",
   "metadata": {
    "colab_type": "text",
    "id": "S_vRjdyhOqZi"
   },
   "source": [
    "<h3><font color=\"#4885ed\">Compute price features using analytics functions</font> </h3>\n",
    "\n",
    "In addition, we will also build time-series features using the min, max, mean, and std (can you think of any over functions to use?). To do this, let's use [analytic functions]() in BigQuery (also known as window functions). \n",
    "```\n",
    "An analytic function is a function that computes aggregate values over a group of rows. Unlike aggregate functions, which return a single aggregate value for a group of rows, analytic functions return a single value for each row by computing the function over a group of input rows.\n",
    "```\n",
    " Using the `AVG` analytic function, we can compute the average close price of a given symbol over the past week (5 business days):\n",
    "```python\n",
    " (AVG(close) OVER (PARTITION BY symbol\n",
    "  ORDER BY Date\n",
    "  ROWS BETWEEN 5 PRECEDING AND 1 PRECEDING)) / close\n",
    "  AS close_avg_prior_5_days\n",
    "```"
   ]
  },
  {
   "cell_type": "markdown",
   "metadata": {},
   "source": [
    "**Learning objective 1**\n",
    "\n",
    "**TODO**: Please fill in the `# TODO`s in the below query"
   ]
  },
  {
   "cell_type": "code",
   "execution_count": 13,
   "metadata": {
    "colab": {
     "base_uri": "https://localhost:8080/",
     "height": 840
    },
    "colab_type": "code",
    "id": "pBi_CruzTfu0",
    "outputId": "7a7c57f8-cb57-4c81-9786-c785c9c4c518",
    "tags": []
   },
   "outputs": [
    {
     "name": "stdout",
     "output_type": "stream",
     "text": [
      "\n",
      "    (MIN(close) OVER (PARTITION BY symbol\n",
      "                      ORDER BY Date\n",
      "                      ROWS BETWEEN 5 PRECEDING AND 1 PRECEDING))/close\n",
      "                      AS close_MIN_prior_5_days,\n",
      "    (MIN(close) OVER (PARTITION BY symbol\n",
      "                      ORDER BY Date\n",
      "                      ROWS BETWEEN 20 PRECEDING AND 1 PRECEDING))/close\n",
      "                      AS close_MIN_prior_20_days,\n",
      "    (MIN(close) OVER (PARTITION BY symbol\n",
      "                      ORDER BY Date\n",
      "                      ROWS BETWEEN 260 PRECEDING AND 1 PRECEDING))/close\n",
      "                      AS close_MIN_prior_260_days,\n",
      "    (MAX(close) OVER (PARTITION BY symbol\n",
      "                      ORDER BY Date\n",
      "                      ROWS BETWEEN 5 PRECEDING AND 1 PRECEDING))/close\n",
      "                      AS close_MAX_prior_5_days,\n",
      "    (MAX(close) OVER (PARTITION BY symbol\n",
      "                      ORDER BY Date\n",
      "                      ROWS BETWEEN 20 PRECEDING AND 1 PRECEDING))/close\n",
      "                      AS close_MAX_prior_20_days,\n",
      " \n"
     ]
    }
   ],
   "source": [
    "def get_window_fxn(agg_fxn, n_days):\n",
    "    \"\"\"Generate a time-series feature.\n",
    "\n",
    "    E.g., Compute the average of the price over the past 5 days.\"\"\"\n",
    "    SCALE_VALUE = \"close\"\n",
    "    sql = \"\"\"\n",
    "    ({agg_fxn}(close) OVER (PARTITION BY symbol\n",
    "                      ORDER BY Date\n",
    "                      ROWS BETWEEN {n_days} PRECEDING AND 1 PRECEDING))/{scale}\n",
    "                      AS close_{agg_fxn}_prior_{n_days}_days\"\"\".format(\n",
    "        agg_fxn=agg_fxn, n_days=n_days, scale=SCALE_VALUE\n",
    "    )\n",
    "    return sql\n",
    "\n",
    "\n",
    "WEEK = 5\n",
    "MONTH = 20\n",
    "YEAR = 52 * 5\n",
    "\n",
    "agg_funcs = (\"MIN\", \"MAX\", \"AVG\", \"STDDEV\")\n",
    "lookbacks = (WEEK, MONTH, YEAR)\n",
    "sqls = []\n",
    "\n",
    "for fxn in agg_funcs:\n",
    "    for lookback in lookbacks:\n",
    "        sqls.append(get_window_fxn(fxn, lookback))\n",
    "time_series_features_sql = \",\".join(sqls)  # SQL string.\n",
    "\n",
    "\n",
    "def preview_query():\n",
    "    print(time_series_features_sql[0:1000])\n",
    "\n",
    "\n",
    "preview_query()"
   ]
  },
  {
   "cell_type": "code",
   "execution_count": 14,
   "metadata": {
    "colab": {
     "base_uri": "https://localhost:8080/",
     "height": 31
    },
    "colab_type": "code",
    "id": "4WX4VFSvTfu2",
    "outputId": "41cdcb4d-ccbd-4e12-9c6c-88de2d4538f5",
    "tags": []
   },
   "outputs": [
    {
     "name": "stderr",
     "output_type": "stream",
     "text": [
      "Query complete after 0.00s: 100%|██████████| 7/7 [00:00<00:00, 2378.49query/s]                        \n"
     ]
    },
    {
     "data": {
      "text/html": [
       "<div>\n",
       "<style scoped>\n",
       "    .dataframe tbody tr th:only-of-type {\n",
       "        vertical-align: middle;\n",
       "    }\n",
       "\n",
       "    .dataframe tbody tr th {\n",
       "        vertical-align: top;\n",
       "    }\n",
       "\n",
       "    .dataframe thead th {\n",
       "        text-align: right;\n",
       "    }\n",
       "</style>\n",
       "<table border=\"1\" class=\"dataframe\">\n",
       "  <thead>\n",
       "    <tr style=\"text-align: right;\">\n",
       "      <th></th>\n",
       "    </tr>\n",
       "  </thead>\n",
       "  <tbody>\n",
       "  </tbody>\n",
       "</table>\n",
       "</div>"
      ],
      "text/plain": [
       "Empty DataFrame\n",
       "Columns: []\n",
       "Index: []"
      ]
     },
     "execution_count": 14,
     "metadata": {},
     "output_type": "execute_result"
    }
   ],
   "source": [
    "%%with_globals print\n",
    "%%bigquery --project {PROJECT}\n",
    "CREATE OR REPLACE TABLE stock_market.price_features_delta\n",
    "AS\n",
    "SELECT * \n",
    "FROM \n",
    "    (SELECT *,\n",
    "    {time_series_features_sql},\n",
    "    -- Also get the raw time-series values; will be useful for the RNN model.\n",
    "    (ARRAY_AGG(close) OVER (PARTITION BY symbol\n",
    "                    ORDER BY Date\n",
    "                    ROWS BETWEEN 260 PRECEDING AND 1 PRECEDING))\n",
    "                    AS close_values_prior_260,\n",
    "    ROW_NUMBER() OVER (PARTITION BY symbol ORDER BY Date) AS days_on_market\n",
    "    FROM stock_market.price_history_delta)\n",
    "WHERE days_on_market > {YEAR}"
   ]
  },
  {
   "cell_type": "code",
   "execution_count": 15,
   "metadata": {
    "tags": []
   },
   "outputs": [
    {
     "name": "stderr",
     "output_type": "stream",
     "text": [
      "Query complete after 0.00s: 100%|██████████| 2/2 [00:00<00:00, 968.10query/s]                         \n",
      "Downloading: 100%|██████████| 10/10 [00:01<00:00,  7.02rows/s]\n"
     ]
    },
    {
     "data": {
      "text/html": [
       "<div>\n",
       "<style scoped>\n",
       "    .dataframe tbody tr th:only-of-type {\n",
       "        vertical-align: middle;\n",
       "    }\n",
       "\n",
       "    .dataframe tbody tr th {\n",
       "        vertical-align: top;\n",
       "    }\n",
       "\n",
       "    .dataframe thead th {\n",
       "        text-align: right;\n",
       "    }\n",
       "</style>\n",
       "<table border=\"1\" class=\"dataframe\">\n",
       "  <thead>\n",
       "    <tr style=\"text-align: right;\">\n",
       "      <th></th>\n",
       "      <th>symbol</th>\n",
       "      <th>Date</th>\n",
       "      <th>Open</th>\n",
       "      <th>Close</th>\n",
       "      <th>tomorrow_close</th>\n",
       "      <th>tomo_close_m_close</th>\n",
       "      <th>close_MIN_prior_5_days</th>\n",
       "      <th>close_MIN_prior_20_days</th>\n",
       "      <th>close_MIN_prior_260_days</th>\n",
       "      <th>close_MAX_prior_5_days</th>\n",
       "      <th>close_MAX_prior_20_days</th>\n",
       "      <th>close_MAX_prior_260_days</th>\n",
       "      <th>close_AVG_prior_5_days</th>\n",
       "      <th>close_AVG_prior_20_days</th>\n",
       "      <th>close_AVG_prior_260_days</th>\n",
       "      <th>close_STDDEV_prior_5_days</th>\n",
       "      <th>close_STDDEV_prior_20_days</th>\n",
       "      <th>close_STDDEV_prior_260_days</th>\n",
       "      <th>close_values_prior_260</th>\n",
       "      <th>days_on_market</th>\n",
       "    </tr>\n",
       "  </thead>\n",
       "  <tbody>\n",
       "    <tr>\n",
       "      <th>0</th>\n",
       "      <td>A</td>\n",
       "      <td>2000-05-25</td>\n",
       "      <td>59.25</td>\n",
       "      <td>68.75</td>\n",
       "      <td>68.75</td>\n",
       "      <td>0.00</td>\n",
       "      <td>0.843636</td>\n",
       "      <td>0.843636</td>\n",
       "      <td>0.581818</td>\n",
       "      <td>0.907345</td>\n",
       "      <td>1.317236</td>\n",
       "      <td>2.312727</td>\n",
       "      <td>0.862196</td>\n",
       "      <td>1.074633</td>\n",
       "      <td>1.183438</td>\n",
       "      <td>0.026266</td>\n",
       "      <td>0.175800</td>\n",
       "      <td>0.394621</td>\n",
       "      <td>[44.0, 44.0, 40.38, 40.38, 44.0, 44.0, 40.0, 4...</td>\n",
       "      <td>261</td>\n",
       "    </tr>\n",
       "    <tr>\n",
       "      <th>1</th>\n",
       "      <td>A</td>\n",
       "      <td>2000-05-25</td>\n",
       "      <td>59.25</td>\n",
       "      <td>68.75</td>\n",
       "      <td>65.00</td>\n",
       "      <td>-3.75</td>\n",
       "      <td>0.843636</td>\n",
       "      <td>0.843636</td>\n",
       "      <td>0.581818</td>\n",
       "      <td>1.000000</td>\n",
       "      <td>1.317236</td>\n",
       "      <td>2.312727</td>\n",
       "      <td>0.880727</td>\n",
       "      <td>1.068953</td>\n",
       "      <td>1.184823</td>\n",
       "      <td>0.067071</td>\n",
       "      <td>0.176309</td>\n",
       "      <td>0.393336</td>\n",
       "      <td>[44.0, 40.38, 40.38, 44.0, 44.0, 40.0, 40.0, 4...</td>\n",
       "      <td>262</td>\n",
       "    </tr>\n",
       "    <tr>\n",
       "      <th>2</th>\n",
       "      <td>A</td>\n",
       "      <td>2000-05-26</td>\n",
       "      <td>67.00</td>\n",
       "      <td>65.00</td>\n",
       "      <td>65.00</td>\n",
       "      <td>0.00</td>\n",
       "      <td>0.907692</td>\n",
       "      <td>0.892308</td>\n",
       "      <td>0.615385</td>\n",
       "      <td>1.057692</td>\n",
       "      <td>1.393231</td>\n",
       "      <td>2.446154</td>\n",
       "      <td>0.986154</td>\n",
       "      <td>1.104954</td>\n",
       "      <td>1.256099</td>\n",
       "      <td>0.075398</td>\n",
       "      <td>0.177518</td>\n",
       "      <td>0.413088</td>\n",
       "      <td>[40.38, 44.0, 44.0, 40.0, 40.0, 41.06, 41.06, ...</td>\n",
       "      <td>264</td>\n",
       "    </tr>\n",
       "    <tr>\n",
       "      <th>3</th>\n",
       "      <td>A</td>\n",
       "      <td>2000-05-26</td>\n",
       "      <td>67.00</td>\n",
       "      <td>65.00</td>\n",
       "      <td>75.37</td>\n",
       "      <td>10.37</td>\n",
       "      <td>0.892308</td>\n",
       "      <td>0.892308</td>\n",
       "      <td>0.615385</td>\n",
       "      <td>1.057692</td>\n",
       "      <td>1.393231</td>\n",
       "      <td>2.446154</td>\n",
       "      <td>0.964615</td>\n",
       "      <td>1.124615</td>\n",
       "      <td>1.254643</td>\n",
       "      <td>0.085199</td>\n",
       "      <td>0.186815</td>\n",
       "      <td>0.414660</td>\n",
       "      <td>[40.38, 40.38, 44.0, 44.0, 40.0, 40.0, 41.06, ...</td>\n",
       "      <td>263</td>\n",
       "    </tr>\n",
       "    <tr>\n",
       "      <th>4</th>\n",
       "      <td>A</td>\n",
       "      <td>2000-05-30</td>\n",
       "      <td>66.19</td>\n",
       "      <td>75.37</td>\n",
       "      <td>75.37</td>\n",
       "      <td>0.00</td>\n",
       "      <td>0.782805</td>\n",
       "      <td>0.769537</td>\n",
       "      <td>0.530715</td>\n",
       "      <td>0.912167</td>\n",
       "      <td>1.174207</td>\n",
       "      <td>2.109593</td>\n",
       "      <td>0.866392</td>\n",
       "      <td>0.935969</td>\n",
       "      <td>1.084532</td>\n",
       "      <td>0.052937</td>\n",
       "      <td>0.142524</td>\n",
       "      <td>0.354887</td>\n",
       "      <td>[44.0, 44.0, 40.0, 40.0, 41.06, 41.06, 41.19, ...</td>\n",
       "      <td>265</td>\n",
       "    </tr>\n",
       "    <tr>\n",
       "      <th>5</th>\n",
       "      <td>A</td>\n",
       "      <td>2000-05-30</td>\n",
       "      <td>66.19</td>\n",
       "      <td>75.37</td>\n",
       "      <td>73.62</td>\n",
       "      <td>-1.75</td>\n",
       "      <td>0.862412</td>\n",
       "      <td>0.769537</td>\n",
       "      <td>0.530715</td>\n",
       "      <td>1.000000</td>\n",
       "      <td>1.174207</td>\n",
       "      <td>2.109593</td>\n",
       "      <td>0.909831</td>\n",
       "      <td>0.927465</td>\n",
       "      <td>1.086133</td>\n",
       "      <td>0.056210</td>\n",
       "      <td>0.132544</td>\n",
       "      <td>0.353556</td>\n",
       "      <td>[44.0, 40.0, 40.0, 41.06, 41.06, 41.19, 41.19,...</td>\n",
       "      <td>266</td>\n",
       "    </tr>\n",
       "    <tr>\n",
       "      <th>6</th>\n",
       "      <td>A</td>\n",
       "      <td>2000-05-31</td>\n",
       "      <td>74.00</td>\n",
       "      <td>73.62</td>\n",
       "      <td>73.00</td>\n",
       "      <td>-0.62</td>\n",
       "      <td>0.882912</td>\n",
       "      <td>0.787829</td>\n",
       "      <td>0.543331</td>\n",
       "      <td>1.023771</td>\n",
       "      <td>1.202119</td>\n",
       "      <td>2.159739</td>\n",
       "      <td>0.949443</td>\n",
       "      <td>0.940804</td>\n",
       "      <td>1.113590</td>\n",
       "      <td>0.070967</td>\n",
       "      <td>0.124000</td>\n",
       "      <td>0.360585</td>\n",
       "      <td>[40.0, 40.0, 41.06, 41.06, 41.19, 41.19, 42.13...</td>\n",
       "      <td>267</td>\n",
       "    </tr>\n",
       "    <tr>\n",
       "      <th>7</th>\n",
       "      <td>A</td>\n",
       "      <td>2000-05-31</td>\n",
       "      <td>74.00</td>\n",
       "      <td>73.62</td>\n",
       "      <td>73.62</td>\n",
       "      <td>0.00</td>\n",
       "      <td>0.882912</td>\n",
       "      <td>0.787829</td>\n",
       "      <td>0.543331</td>\n",
       "      <td>1.023771</td>\n",
       "      <td>1.202119</td>\n",
       "      <td>2.159739</td>\n",
       "      <td>0.962673</td>\n",
       "      <td>0.930698</td>\n",
       "      <td>1.115346</td>\n",
       "      <td>0.073455</td>\n",
       "      <td>0.108898</td>\n",
       "      <td>0.358905</td>\n",
       "      <td>[40.0, 41.06, 41.06, 41.19, 41.19, 42.13, 42.1...</td>\n",
       "      <td>268</td>\n",
       "    </tr>\n",
       "    <tr>\n",
       "      <th>8</th>\n",
       "      <td>A</td>\n",
       "      <td>2000-06-01</td>\n",
       "      <td>74.44</td>\n",
       "      <td>73.00</td>\n",
       "      <td>73.00</td>\n",
       "      <td>0.00</td>\n",
       "      <td>1.000000</td>\n",
       "      <td>0.794521</td>\n",
       "      <td>0.562466</td>\n",
       "      <td>1.032466</td>\n",
       "      <td>1.068493</td>\n",
       "      <td>2.178082</td>\n",
       "      <td>1.016384</td>\n",
       "      <td>0.924986</td>\n",
       "      <td>1.128273</td>\n",
       "      <td>0.015085</td>\n",
       "      <td>0.086545</td>\n",
       "      <td>0.358615</td>\n",
       "      <td>[41.06, 41.19, 41.19, 42.13, 42.13, 42.19, 42....</td>\n",
       "      <td>270</td>\n",
       "    </tr>\n",
       "    <tr>\n",
       "      <th>9</th>\n",
       "      <td>A</td>\n",
       "      <td>2000-06-01</td>\n",
       "      <td>74.44</td>\n",
       "      <td>73.00</td>\n",
       "      <td>81.75</td>\n",
       "      <td>8.75</td>\n",
       "      <td>0.890411</td>\n",
       "      <td>0.794521</td>\n",
       "      <td>0.562466</td>\n",
       "      <td>1.032466</td>\n",
       "      <td>1.068493</td>\n",
       "      <td>2.178082</td>\n",
       "      <td>0.994466</td>\n",
       "      <td>0.928411</td>\n",
       "      <td>1.126590</td>\n",
       "      <td>0.059391</td>\n",
       "      <td>0.090914</td>\n",
       "      <td>0.360242</td>\n",
       "      <td>[41.06, 41.06, 41.19, 41.19, 42.13, 42.13, 42....</td>\n",
       "      <td>269</td>\n",
       "    </tr>\n",
       "  </tbody>\n",
       "</table>\n",
       "</div>"
      ],
      "text/plain": [
       "  symbol        Date   Open  Close  tomorrow_close  tomo_close_m_close  \\\n",
       "0      A  2000-05-25  59.25  68.75           68.75                0.00   \n",
       "1      A  2000-05-25  59.25  68.75           65.00               -3.75   \n",
       "2      A  2000-05-26  67.00  65.00           65.00                0.00   \n",
       "3      A  2000-05-26  67.00  65.00           75.37               10.37   \n",
       "4      A  2000-05-30  66.19  75.37           75.37                0.00   \n",
       "5      A  2000-05-30  66.19  75.37           73.62               -1.75   \n",
       "6      A  2000-05-31  74.00  73.62           73.00               -0.62   \n",
       "7      A  2000-05-31  74.00  73.62           73.62                0.00   \n",
       "8      A  2000-06-01  74.44  73.00           73.00                0.00   \n",
       "9      A  2000-06-01  74.44  73.00           81.75                8.75   \n",
       "\n",
       "   close_MIN_prior_5_days  close_MIN_prior_20_days  close_MIN_prior_260_days  \\\n",
       "0                0.843636                 0.843636                  0.581818   \n",
       "1                0.843636                 0.843636                  0.581818   \n",
       "2                0.907692                 0.892308                  0.615385   \n",
       "3                0.892308                 0.892308                  0.615385   \n",
       "4                0.782805                 0.769537                  0.530715   \n",
       "5                0.862412                 0.769537                  0.530715   \n",
       "6                0.882912                 0.787829                  0.543331   \n",
       "7                0.882912                 0.787829                  0.543331   \n",
       "8                1.000000                 0.794521                  0.562466   \n",
       "9                0.890411                 0.794521                  0.562466   \n",
       "\n",
       "   close_MAX_prior_5_days  close_MAX_prior_20_days  close_MAX_prior_260_days  \\\n",
       "0                0.907345                 1.317236                  2.312727   \n",
       "1                1.000000                 1.317236                  2.312727   \n",
       "2                1.057692                 1.393231                  2.446154   \n",
       "3                1.057692                 1.393231                  2.446154   \n",
       "4                0.912167                 1.174207                  2.109593   \n",
       "5                1.000000                 1.174207                  2.109593   \n",
       "6                1.023771                 1.202119                  2.159739   \n",
       "7                1.023771                 1.202119                  2.159739   \n",
       "8                1.032466                 1.068493                  2.178082   \n",
       "9                1.032466                 1.068493                  2.178082   \n",
       "\n",
       "   close_AVG_prior_5_days  close_AVG_prior_20_days  close_AVG_prior_260_days  \\\n",
       "0                0.862196                 1.074633                  1.183438   \n",
       "1                0.880727                 1.068953                  1.184823   \n",
       "2                0.986154                 1.104954                  1.256099   \n",
       "3                0.964615                 1.124615                  1.254643   \n",
       "4                0.866392                 0.935969                  1.084532   \n",
       "5                0.909831                 0.927465                  1.086133   \n",
       "6                0.949443                 0.940804                  1.113590   \n",
       "7                0.962673                 0.930698                  1.115346   \n",
       "8                1.016384                 0.924986                  1.128273   \n",
       "9                0.994466                 0.928411                  1.126590   \n",
       "\n",
       "   close_STDDEV_prior_5_days  close_STDDEV_prior_20_days  \\\n",
       "0                   0.026266                    0.175800   \n",
       "1                   0.067071                    0.176309   \n",
       "2                   0.075398                    0.177518   \n",
       "3                   0.085199                    0.186815   \n",
       "4                   0.052937                    0.142524   \n",
       "5                   0.056210                    0.132544   \n",
       "6                   0.070967                    0.124000   \n",
       "7                   0.073455                    0.108898   \n",
       "8                   0.015085                    0.086545   \n",
       "9                   0.059391                    0.090914   \n",
       "\n",
       "   close_STDDEV_prior_260_days  \\\n",
       "0                     0.394621   \n",
       "1                     0.393336   \n",
       "2                     0.413088   \n",
       "3                     0.414660   \n",
       "4                     0.354887   \n",
       "5                     0.353556   \n",
       "6                     0.360585   \n",
       "7                     0.358905   \n",
       "8                     0.358615   \n",
       "9                     0.360242   \n",
       "\n",
       "                              close_values_prior_260  days_on_market  \n",
       "0  [44.0, 44.0, 40.38, 40.38, 44.0, 44.0, 40.0, 4...             261  \n",
       "1  [44.0, 40.38, 40.38, 44.0, 44.0, 40.0, 40.0, 4...             262  \n",
       "2  [40.38, 44.0, 44.0, 40.0, 40.0, 41.06, 41.06, ...             264  \n",
       "3  [40.38, 40.38, 44.0, 44.0, 40.0, 40.0, 41.06, ...             263  \n",
       "4  [44.0, 44.0, 40.0, 40.0, 41.06, 41.06, 41.19, ...             265  \n",
       "5  [44.0, 40.0, 40.0, 41.06, 41.06, 41.19, 41.19,...             266  \n",
       "6  [40.0, 40.0, 41.06, 41.06, 41.19, 41.19, 42.13...             267  \n",
       "7  [40.0, 41.06, 41.06, 41.19, 41.19, 42.13, 42.1...             268  \n",
       "8  [41.06, 41.19, 41.19, 42.13, 42.13, 42.19, 42....             270  \n",
       "9  [41.06, 41.06, 41.19, 41.19, 42.13, 42.13, 42....             269  "
      ]
     },
     "execution_count": 15,
     "metadata": {},
     "output_type": "execute_result"
    }
   ],
   "source": [
    "%%bigquery --project {PROJECT}\n",
    "SELECT *\n",
    "FROM stock_market.price_features_delta \n",
    "ORDER BY symbol, Date\n",
    "LIMIT 10"
   ]
  },
  {
   "cell_type": "markdown",
   "metadata": {
    "colab_type": "text",
    "id": "EjGaQYuRTfu6"
   },
   "source": [
    "#### Compute percentage change, then self join with prices from S&P index. \n",
    "\n",
    "We will also compute price change of S&P index, GSPC. We do this so we can compute the normalized percentage change."
   ]
  },
  {
   "cell_type": "markdown",
   "metadata": {
    "colab_type": "text",
    "id": "zL55y-YnOvOu"
   },
   "source": [
    "<h3><font color=\"#4885ed\">Compute normalized price change (%)</font> </h3>\n",
    "\n",
    "Before we can create our labels we need to normalize the price change using the S&P 500 index. The normalization using the S&P index fund helps ensure that the future price of a stock is not due to larger market effects. Normalization helps us isolate the factors contributing to the performance of a stock_market.\n",
    "\n",
    " Let's use the normalization scheme from by subtracting the scaled difference in the S&P 500 index during the same time period.\n",
    " \n",
    " In Python: \n",
    "```python\n",
    "# Example calculation.\n",
    "scaled_change = (50.59 - 50.69) / 50.69\n",
    "scaled_s_p = (939.38 - 930.09) / 930.09\n",
    "normalized_change = scaled_change - scaled_s_p\n",
    "assert normalized_change == ~1.2%\n",
    "```"
   ]
  },
  {
   "cell_type": "code",
   "execution_count": 16,
   "metadata": {
    "colab": {
     "base_uri": "https://localhost:8080/",
     "height": 34
    },
    "colab_type": "code",
    "id": "0uz1Qo0STfu7",
    "outputId": "67e1be37-8729-47d5-fde9-9c4f87da82b5",
    "tags": []
   },
   "outputs": [
    {
     "name": "stdout",
     "output_type": "stream",
     "text": [
      "\n",
      "scaled change: -0.002\n",
      "scaled_s_p: 0.010\n",
      "normalized_change: -0.012\n",
      "\n"
     ]
    }
   ],
   "source": [
    "scaled_change = (50.59 - 50.69) / 50.69\n",
    "scaled_s_p = (939.38 - 930.09) / 930.09\n",
    "normalized_change = scaled_change - scaled_s_p\n",
    "print(\n",
    "    \"\"\"\n",
    "scaled change: {:2.3f}\n",
    "scaled_s_p: {:2.3f}\n",
    "normalized_change: {:2.3f}\n",
    "\"\"\".format(\n",
    "        scaled_change, scaled_s_p, normalized_change\n",
    "    )\n",
    ")"
   ]
  },
  {
   "cell_type": "markdown",
   "metadata": {
    "colab_type": "text",
    "id": "HY9AJAN3Tfu-"
   },
   "source": [
    "### Compute normalized price change (shown above)."
   ]
  },
  {
   "cell_type": "markdown",
   "metadata": {
    "colab_type": "text",
    "id": "m6OhYVoITdHd"
   },
   "source": [
    "Let's join scaled price change (tomorrow_close / close) with the [gspc](https://en.wikipedia.org/wiki/S%26P_500_Index) symbol (symbol for the S&P index). Then we can normalize using the scheme described above."
   ]
  },
  {
   "cell_type": "markdown",
   "metadata": {},
   "source": [
    "**Learning objective 3**\n",
    "\n",
    "**TODO**: Please fill in the `# TODO` in the code below."
   ]
  },
  {
   "cell_type": "code",
   "execution_count": 17,
   "metadata": {
    "colab": {},
    "colab_type": "code",
    "id": "_W71_cb4TdHe",
    "tags": []
   },
   "outputs": [],
   "source": [
    "snp500_index = \"gspc\""
   ]
  },
  {
   "cell_type": "code",
   "execution_count": 18,
   "metadata": {
    "colab": {
     "base_uri": "https://localhost:8080/",
     "height": 31
    },
    "colab_type": "code",
    "id": "b1PNvxhuTfu_",
    "outputId": "c9b87b11-cff2-452f-8c29-147290f95e1f",
    "tags": []
   },
   "outputs": [
    {
     "name": "stderr",
     "output_type": "stream",
     "text": [
      "Query complete after 0.00s: 100%|██████████| 4/4 [00:00<00:00, 1647.25query/s]                        \n"
     ]
    },
    {
     "data": {
      "text/html": [
       "<div>\n",
       "<style scoped>\n",
       "    .dataframe tbody tr th:only-of-type {\n",
       "        vertical-align: middle;\n",
       "    }\n",
       "\n",
       "    .dataframe tbody tr th {\n",
       "        vertical-align: top;\n",
       "    }\n",
       "\n",
       "    .dataframe thead th {\n",
       "        text-align: right;\n",
       "    }\n",
       "</style>\n",
       "<table border=\"1\" class=\"dataframe\">\n",
       "  <thead>\n",
       "    <tr style=\"text-align: right;\">\n",
       "      <th></th>\n",
       "    </tr>\n",
       "  </thead>\n",
       "  <tbody>\n",
       "  </tbody>\n",
       "</table>\n",
       "</div>"
      ],
      "text/plain": [
       "Empty DataFrame\n",
       "Columns: []\n",
       "Index: []"
      ]
     },
     "execution_count": 18,
     "metadata": {},
     "output_type": "execute_result"
    }
   ],
   "source": [
    "%%with_globals print\n",
    "%%bigquery --project {PROJECT}\n",
    "CREATE OR REPLACE TABLE stock_market.price_features_norm_per_change\n",
    "AS\n",
    "WITH \n",
    "all_percent_changes AS\n",
    "    (\n",
    "    SELECT *, (tomo_close_m_close / Close) AS scaled_change\n",
    "    FROM `stock_market.price_features_delta`\n",
    "    ),\n",
    "s_p_changes AS\n",
    "    (SELECT\n",
    "     scaled_change AS s_p_scaled_change,\n",
    "     date\n",
    "     FROM all_percent_changes\n",
    "     WHERE symbol=\"{snp500_index}\")\n",
    "\n",
    "SELECT all_percent_changes.*,\n",
    "       s_p_scaled_change,\n",
    "       (\n",
    "           # TODO\n",
    "           scaled_change - s_p_scaled_change\n",
    "       ) AS normalized_change          \n",
    "FROM \n",
    "    all_percent_changes LEFT JOIN s_p_changes\n",
    "    --# Add S&P change to all rows\n",
    "    ON all_percent_changes.date = s_p_changes.date"
   ]
  },
  {
   "cell_type": "markdown",
   "metadata": {
    "colab_type": "text",
    "id": "5lcs6_BtTfvB"
   },
   "source": [
    "#### Verify results"
   ]
  },
  {
   "cell_type": "code",
   "execution_count": 19,
   "metadata": {
    "colab": {},
    "colab_type": "code",
    "id": "0G1SbI8kTdHl",
    "tags": []
   },
   "outputs": [
    {
     "name": "stderr",
     "output_type": "stream",
     "text": [
      "Query complete after 0.00s: 100%|██████████| 2/2 [00:00<00:00, 653.32query/s]                         \n",
      "Downloading: 100%|██████████| 10/10 [00:01<00:00,  7.54rows/s]\n"
     ]
    }
   ],
   "source": [
    "%%with_globals print\n",
    "%%bigquery df --project {PROJECT}\n",
    "SELECT *\n",
    "FROM stock_market.price_features_norm_per_change\n",
    "LIMIT 10"
   ]
  },
  {
   "cell_type": "code",
   "execution_count": 20,
   "metadata": {
    "colab": {
     "base_uri": "https://localhost:8080/",
     "height": 299
    },
    "colab_type": "code",
    "id": "BeNiVymgTdHn",
    "outputId": "f7534321-713c-483d-ba4f-d096c59296fa",
    "tags": []
   },
   "outputs": [
    {
     "data": {
      "text/html": [
       "<div>\n",
       "<style scoped>\n",
       "    .dataframe tbody tr th:only-of-type {\n",
       "        vertical-align: middle;\n",
       "    }\n",
       "\n",
       "    .dataframe tbody tr th {\n",
       "        vertical-align: top;\n",
       "    }\n",
       "\n",
       "    .dataframe thead th {\n",
       "        text-align: right;\n",
       "    }\n",
       "</style>\n",
       "<table border=\"1\" class=\"dataframe\">\n",
       "  <thead>\n",
       "    <tr style=\"text-align: right;\">\n",
       "      <th></th>\n",
       "      <th>symbol</th>\n",
       "      <th>Date</th>\n",
       "      <th>Open</th>\n",
       "      <th>Close</th>\n",
       "      <th>tomorrow_close</th>\n",
       "      <th>tomo_close_m_close</th>\n",
       "      <th>close_MIN_prior_5_days</th>\n",
       "      <th>close_MIN_prior_20_days</th>\n",
       "      <th>close_MIN_prior_260_days</th>\n",
       "      <th>close_MAX_prior_5_days</th>\n",
       "      <th>...</th>\n",
       "      <th>close_AVG_prior_20_days</th>\n",
       "      <th>close_AVG_prior_260_days</th>\n",
       "      <th>close_STDDEV_prior_5_days</th>\n",
       "      <th>close_STDDEV_prior_20_days</th>\n",
       "      <th>close_STDDEV_prior_260_days</th>\n",
       "      <th>close_values_prior_260</th>\n",
       "      <th>days_on_market</th>\n",
       "      <th>scaled_change</th>\n",
       "      <th>s_p_scaled_change</th>\n",
       "      <th>normalized_change</th>\n",
       "    </tr>\n",
       "  </thead>\n",
       "  <tbody>\n",
       "    <tr>\n",
       "      <th>0</th>\n",
       "      <td>BMS</td>\n",
       "      <td>2013-02-01</td>\n",
       "      <td>36.29</td>\n",
       "      <td>36.34</td>\n",
       "      <td>NaN</td>\n",
       "      <td>NaN</td>\n",
       "      <td>0.981838</td>\n",
       "      <td>0.977711</td>\n",
       "      <td>0.824436</td>\n",
       "      <td>0.988442</td>\n",
       "      <td>...</td>\n",
       "      <td>0.984260</td>\n",
       "      <td>0.892941</td>\n",
       "      <td>0.002696</td>\n",
       "      <td>0.002939</td>\n",
       "      <td>0.045424</td>\n",
       "      <td>[30.54, 30.54, 30.75, 30.75, 30.9, 30.9, 30.8,...</td>\n",
       "      <td>14277</td>\n",
       "      <td>NaN</td>\n",
       "      <td>0.000000</td>\n",
       "      <td>NaN</td>\n",
       "    </tr>\n",
       "    <tr>\n",
       "      <th>1</th>\n",
       "      <td>BFS</td>\n",
       "      <td>2013-02-01</td>\n",
       "      <td>42.74</td>\n",
       "      <td>43.37</td>\n",
       "      <td>NaN</td>\n",
       "      <td>NaN</td>\n",
       "      <td>0.985704</td>\n",
       "      <td>0.985704</td>\n",
       "      <td>0.935900</td>\n",
       "      <td>1.014987</td>\n",
       "      <td>...</td>\n",
       "      <td>1.000323</td>\n",
       "      <td>0.994443</td>\n",
       "      <td>0.012045</td>\n",
       "      <td>0.008814</td>\n",
       "      <td>0.030202</td>\n",
       "      <td>[41.12, 41.12, 41.03, 41.03, 42.11, 42.11, 42....</td>\n",
       "      <td>671</td>\n",
       "      <td>NaN</td>\n",
       "      <td>-0.011539</td>\n",
       "      <td>NaN</td>\n",
       "    </tr>\n",
       "    <tr>\n",
       "      <th>2</th>\n",
       "      <td>HBAN</td>\n",
       "      <td>2013-02-01</td>\n",
       "      <td>7.02</td>\n",
       "      <td>7.08</td>\n",
       "      <td>NaN</td>\n",
       "      <td>NaN</td>\n",
       "      <td>0.973164</td>\n",
       "      <td>0.973164</td>\n",
       "      <td>0.833333</td>\n",
       "      <td>0.984463</td>\n",
       "      <td>...</td>\n",
       "      <td>0.985734</td>\n",
       "      <td>0.924815</td>\n",
       "      <td>0.004790</td>\n",
       "      <td>0.007402</td>\n",
       "      <td>0.046781</td>\n",
       "      <td>[6.28, 6.28, 6.41, 6.41, 6.4, 6.4, 6.31, 6.31,...</td>\n",
       "      <td>11509</td>\n",
       "      <td>NaN</td>\n",
       "      <td>-0.011539</td>\n",
       "      <td>NaN</td>\n",
       "    </tr>\n",
       "    <tr>\n",
       "      <th>3</th>\n",
       "      <td>CA</td>\n",
       "      <td>2013-02-01</td>\n",
       "      <td>24.94</td>\n",
       "      <td>25.03</td>\n",
       "      <td>NaN</td>\n",
       "      <td>NaN</td>\n",
       "      <td>0.991610</td>\n",
       "      <td>0.967639</td>\n",
       "      <td>0.869756</td>\n",
       "      <td>1.000000</td>\n",
       "      <td>...</td>\n",
       "      <td>0.993028</td>\n",
       "      <td>0.968318</td>\n",
       "      <td>0.003488</td>\n",
       "      <td>0.009700</td>\n",
       "      <td>0.068597</td>\n",
       "      <td>[25.67, 26.31, 26.31, 24.43, 24.43, 24.25, 24....</td>\n",
       "      <td>14314</td>\n",
       "      <td>NaN</td>\n",
       "      <td>0.000000</td>\n",
       "      <td>NaN</td>\n",
       "    </tr>\n",
       "    <tr>\n",
       "      <th>4</th>\n",
       "      <td>EXC</td>\n",
       "      <td>2013-02-01</td>\n",
       "      <td>31.49</td>\n",
       "      <td>31.03</td>\n",
       "      <td>NaN</td>\n",
       "      <td>NaN</td>\n",
       "      <td>1.007090</td>\n",
       "      <td>0.966484</td>\n",
       "      <td>0.920722</td>\n",
       "      <td>1.013213</td>\n",
       "      <td>...</td>\n",
       "      <td>0.990880</td>\n",
       "      <td>1.081665</td>\n",
       "      <td>0.003069</td>\n",
       "      <td>0.017284</td>\n",
       "      <td>0.112686</td>\n",
       "      <td>[38.5, 38.5, 38.98, 38.98, 39.37, 39.37, 39.49...</td>\n",
       "      <td>16693</td>\n",
       "      <td>NaN</td>\n",
       "      <td>-0.011539</td>\n",
       "      <td>NaN</td>\n",
       "    </tr>\n",
       "  </tbody>\n",
       "</table>\n",
       "<p>5 rows × 23 columns</p>\n",
       "</div>"
      ],
      "text/plain": [
       "  symbol        Date   Open  Close  tomorrow_close  tomo_close_m_close  \\\n",
       "0    BMS  2013-02-01  36.29  36.34             NaN                 NaN   \n",
       "1    BFS  2013-02-01  42.74  43.37             NaN                 NaN   \n",
       "2   HBAN  2013-02-01   7.02   7.08             NaN                 NaN   \n",
       "3     CA  2013-02-01  24.94  25.03             NaN                 NaN   \n",
       "4    EXC  2013-02-01  31.49  31.03             NaN                 NaN   \n",
       "\n",
       "   close_MIN_prior_5_days  close_MIN_prior_20_days  close_MIN_prior_260_days  \\\n",
       "0                0.981838                 0.977711                  0.824436   \n",
       "1                0.985704                 0.985704                  0.935900   \n",
       "2                0.973164                 0.973164                  0.833333   \n",
       "3                0.991610                 0.967639                  0.869756   \n",
       "4                1.007090                 0.966484                  0.920722   \n",
       "\n",
       "   close_MAX_prior_5_days  ...  close_AVG_prior_20_days  \\\n",
       "0                0.988442  ...                 0.984260   \n",
       "1                1.014987  ...                 1.000323   \n",
       "2                0.984463  ...                 0.985734   \n",
       "3                1.000000  ...                 0.993028   \n",
       "4                1.013213  ...                 0.990880   \n",
       "\n",
       "   close_AVG_prior_260_days  close_STDDEV_prior_5_days  \\\n",
       "0                  0.892941                   0.002696   \n",
       "1                  0.994443                   0.012045   \n",
       "2                  0.924815                   0.004790   \n",
       "3                  0.968318                   0.003488   \n",
       "4                  1.081665                   0.003069   \n",
       "\n",
       "   close_STDDEV_prior_20_days  close_STDDEV_prior_260_days  \\\n",
       "0                    0.002939                     0.045424   \n",
       "1                    0.008814                     0.030202   \n",
       "2                    0.007402                     0.046781   \n",
       "3                    0.009700                     0.068597   \n",
       "4                    0.017284                     0.112686   \n",
       "\n",
       "                              close_values_prior_260  days_on_market  \\\n",
       "0  [30.54, 30.54, 30.75, 30.75, 30.9, 30.9, 30.8,...           14277   \n",
       "1  [41.12, 41.12, 41.03, 41.03, 42.11, 42.11, 42....             671   \n",
       "2  [6.28, 6.28, 6.41, 6.41, 6.4, 6.4, 6.31, 6.31,...           11509   \n",
       "3  [25.67, 26.31, 26.31, 24.43, 24.43, 24.25, 24....           14314   \n",
       "4  [38.5, 38.5, 38.98, 38.98, 39.37, 39.37, 39.49...           16693   \n",
       "\n",
       "   scaled_change s_p_scaled_change  normalized_change  \n",
       "0            NaN          0.000000                NaN  \n",
       "1            NaN         -0.011539                NaN  \n",
       "2            NaN         -0.011539                NaN  \n",
       "3            NaN          0.000000                NaN  \n",
       "4            NaN         -0.011539                NaN  \n",
       "\n",
       "[5 rows x 23 columns]"
      ]
     },
     "execution_count": 20,
     "metadata": {},
     "output_type": "execute_result"
    }
   ],
   "source": [
    "df.head()"
   ]
  },
  {
   "cell_type": "markdown",
   "metadata": {
    "colab_type": "text",
    "id": "8TFFeA5sOm2Y"
   },
   "source": [
    "<h3><font color=\"#4885ed\">Join with S&P 500 table and Create labels: {`up`, `down`, `stay`}</font> </h3>\n",
    "\n",
    "Join the table with the list of S&P 500. This will allow us to limit our analysis to S&P 500 companies only.\n",
    "\n",
    "Finally we can create labels. The following SQL statement should do:\n",
    "\n",
    "```sql\n",
    "  CASE WHEN normalized_change < -0.01 THEN 'DOWN'\n",
    "       WHEN normalized_change > 0.01 THEN 'UP'\n",
    "       ELSE 'STAY'\n",
    "  END\n",
    " ```"
   ]
  },
  {
   "cell_type": "markdown",
   "metadata": {},
   "source": [
    "**Learning objective 1**"
   ]
  },
  {
   "cell_type": "code",
   "execution_count": 21,
   "metadata": {
    "colab": {},
    "colab_type": "code",
    "id": "iv8i3e8GTdHq",
    "tags": []
   },
   "outputs": [],
   "source": [
    "down_thresh = -0.01\n",
    "up_thresh = 0.01"
   ]
  },
  {
   "cell_type": "markdown",
   "metadata": {},
   "source": [
    "**TODO**: Please fill in the `CASE` function below."
   ]
  },
  {
   "cell_type": "code",
   "execution_count": 22,
   "metadata": {
    "colab": {},
    "colab_type": "code",
    "id": "-Kf5POU6TfvM",
    "tags": []
   },
   "outputs": [
    {
     "name": "stderr",
     "output_type": "stream",
     "text": [
      "Query complete after 0.00s: 100%|██████████| 3/3 [00:00<00:00, 1131.66query/s]                        \n"
     ]
    }
   ],
   "source": [
    "%%with_globals print\n",
    "%%bigquery df --project {PROJECT}\n",
    "CREATE OR REPLACE TABLE stock_market.percent_change_sp500\n",
    "AS\n",
    "SELECT *,\n",
    "    CASE  WHEN normalized_change < {down_thresh} THEN 'DOWN'\n",
    "       WHEN normalized_change > {up_thresh} THEN 'UP'\n",
    "       ELSE 'STAY'\n",
    "    --# TODO\n",
    "    END AS direction\n",
    "FROM stock_market.price_features_norm_per_change features\n",
    "INNER JOIN `stock_src.snp500`\n",
    "USING (symbol)"
   ]
  },
  {
   "cell_type": "code",
   "execution_count": 23,
   "metadata": {
    "colab": {
     "base_uri": "https://localhost:8080/",
     "height": 136
    },
    "colab_type": "code",
    "id": "jQzSbN2yTdH0",
    "outputId": "7a58fcb5-9a31-4c1b-fddb-ef3a5b379f2e",
    "tags": []
   },
   "outputs": [
    {
     "name": "stderr",
     "output_type": "stream",
     "text": [
      "Query complete after 0.00s: 100%|██████████| 2/2 [00:00<00:00, 742.75query/s]                         \n",
      "Downloading: 100%|██████████| 3/3 [00:01<00:00,  2.25rows/s]\n"
     ]
    },
    {
     "data": {
      "text/html": [
       "<div>\n",
       "<style scoped>\n",
       "    .dataframe tbody tr th:only-of-type {\n",
       "        vertical-align: middle;\n",
       "    }\n",
       "\n",
       "    .dataframe tbody tr th {\n",
       "        vertical-align: top;\n",
       "    }\n",
       "\n",
       "    .dataframe thead th {\n",
       "        text-align: right;\n",
       "    }\n",
       "</style>\n",
       "<table border=\"1\" class=\"dataframe\">\n",
       "  <thead>\n",
       "    <tr style=\"text-align: right;\">\n",
       "      <th></th>\n",
       "      <th>direction</th>\n",
       "      <th>cnt</th>\n",
       "    </tr>\n",
       "  </thead>\n",
       "  <tbody>\n",
       "    <tr>\n",
       "      <th>0</th>\n",
       "      <td>UP</td>\n",
       "      <td>3563854</td>\n",
       "    </tr>\n",
       "    <tr>\n",
       "      <th>1</th>\n",
       "      <td>STAY</td>\n",
       "      <td>15533336</td>\n",
       "    </tr>\n",
       "    <tr>\n",
       "      <th>2</th>\n",
       "      <td>DOWN</td>\n",
       "      <td>3523770</td>\n",
       "    </tr>\n",
       "  </tbody>\n",
       "</table>\n",
       "</div>"
      ],
      "text/plain": [
       "  direction       cnt\n",
       "0        UP   3563854\n",
       "1      STAY  15533336\n",
       "2      DOWN   3523770"
      ]
     },
     "execution_count": 23,
     "metadata": {},
     "output_type": "execute_result"
    }
   ],
   "source": [
    "%%with_globals print\n",
    "%%bigquery --project {PROJECT}\n",
    "SELECT direction, COUNT(*) as cnt\n",
    "FROM stock_market.percent_change_sp500\n",
    "GROUP BY direction"
   ]
  },
  {
   "cell_type": "code",
   "execution_count": 24,
   "metadata": {
    "colab": {},
    "colab_type": "code",
    "id": "OLYTEUstTfva",
    "tags": []
   },
   "outputs": [
    {
     "name": "stderr",
     "output_type": "stream",
     "text": [
      "Query complete after 0.00s: 100%|██████████| 2/2 [00:00<00:00, 704.10query/s]                         \n",
      "Downloading: 100%|██████████| 20/20 [00:01<00:00, 14.98rows/s]\n"
     ]
    }
   ],
   "source": [
    "%%with_globals print\n",
    "%%bigquery df --project {PROJECT}\n",
    "SELECT *\n",
    "FROM stock_market.percent_change_sp500\n",
    "LIMIT 20"
   ]
  },
  {
   "cell_type": "code",
   "execution_count": 25,
   "metadata": {
    "colab": {
     "base_uri": "https://localhost:8080/",
     "height": 202
    },
    "colab_type": "code",
    "id": "iiARkRzPTdH5",
    "outputId": "2ed8fc43-f8c7-4827-9033-12b142917c9a",
    "tags": []
   },
   "outputs": [
    {
     "data": {
      "text/plain": [
       "Index(['symbol', 'Date', 'Open', 'Close', 'tomorrow_close',\n",
       "       'tomo_close_m_close', 'close_MIN_prior_5_days',\n",
       "       'close_MIN_prior_20_days', 'close_MIN_prior_260_days',\n",
       "       'close_MAX_prior_5_days', 'close_MAX_prior_20_days',\n",
       "       'close_MAX_prior_260_days', 'close_AVG_prior_5_days',\n",
       "       'close_AVG_prior_20_days', 'close_AVG_prior_260_days',\n",
       "       'close_STDDEV_prior_5_days', 'close_STDDEV_prior_20_days',\n",
       "       'close_STDDEV_prior_260_days', 'close_values_prior_260',\n",
       "       'days_on_market', 'scaled_change', 's_p_scaled_change',\n",
       "       'normalized_change', 'company', 'industry', 'direction'],\n",
       "      dtype='object')"
      ]
     },
     "execution_count": 25,
     "metadata": {},
     "output_type": "execute_result"
    }
   ],
   "source": [
    "df.columns"
   ]
  },
  {
   "cell_type": "markdown",
   "metadata": {},
   "source": [
    "The dataset is still quite large and the majority of the days the market `STAY`s. Let's focus our analysis on dates where [earnings per share](https://en.wikipedia.org/wiki/Earnings_per_share) (EPS) information is released by the companies. The EPS data has 3 key columns surprise, reported_EPS, and consensus_EPS: "
   ]
  },
  {
   "cell_type": "code",
   "execution_count": 26,
   "metadata": {
    "tags": []
   },
   "outputs": [
    {
     "name": "stderr",
     "output_type": "stream",
     "text": [
      "Query complete after 0.00s: 100%|██████████| 2/2 [00:00<00:00, 1000.19query/s]                        \n",
      "Downloading: 100%|██████████| 10/10 [00:01<00:00,  8.16rows/s]\n"
     ]
    },
    {
     "data": {
      "text/html": [
       "<div>\n",
       "<style scoped>\n",
       "    .dataframe tbody tr th:only-of-type {\n",
       "        vertical-align: middle;\n",
       "    }\n",
       "\n",
       "    .dataframe tbody tr th {\n",
       "        vertical-align: top;\n",
       "    }\n",
       "\n",
       "    .dataframe thead th {\n",
       "        text-align: right;\n",
       "    }\n",
       "</style>\n",
       "<table border=\"1\" class=\"dataframe\">\n",
       "  <thead>\n",
       "    <tr style=\"text-align: right;\">\n",
       "      <th></th>\n",
       "      <th>date</th>\n",
       "      <th>company</th>\n",
       "      <th>symbol</th>\n",
       "      <th>surprise</th>\n",
       "      <th>reported_EPS</th>\n",
       "      <th>consensus_EPS</th>\n",
       "    </tr>\n",
       "  </thead>\n",
       "  <tbody>\n",
       "    <tr>\n",
       "      <th>0</th>\n",
       "      <td>2005-08-15</td>\n",
       "      <td>AGILENT TECH INC</td>\n",
       "      <td>A</td>\n",
       "      <td>7.69</td>\n",
       "      <td>0.28</td>\n",
       "      <td>0.26</td>\n",
       "    </tr>\n",
       "    <tr>\n",
       "      <th>1</th>\n",
       "      <td>2007-05-14</td>\n",
       "      <td>AGILENT TECH INC</td>\n",
       "      <td>A</td>\n",
       "      <td>-2.27</td>\n",
       "      <td>0.43</td>\n",
       "      <td>0.44</td>\n",
       "    </tr>\n",
       "    <tr>\n",
       "      <th>2</th>\n",
       "      <td>2008-02-13</td>\n",
       "      <td>AGILENT TECH INC</td>\n",
       "      <td>A</td>\n",
       "      <td>2.44</td>\n",
       "      <td>0.42</td>\n",
       "      <td>0.41</td>\n",
       "    </tr>\n",
       "    <tr>\n",
       "      <th>3</th>\n",
       "      <td>2009-08-17</td>\n",
       "      <td>AGILENT TECH INC</td>\n",
       "      <td>A</td>\n",
       "      <td>36.36</td>\n",
       "      <td>0.15</td>\n",
       "      <td>0.11</td>\n",
       "    </tr>\n",
       "    <tr>\n",
       "      <th>4</th>\n",
       "      <td>2008-07-01</td>\n",
       "      <td>AGILENT TECH INC</td>\n",
       "      <td>A</td>\n",
       "      <td>-17.95</td>\n",
       "      <td>0.32</td>\n",
       "      <td>0.39</td>\n",
       "    </tr>\n",
       "    <tr>\n",
       "      <th>5</th>\n",
       "      <td>2004-11-11</td>\n",
       "      <td>AGILENT TECH INC</td>\n",
       "      <td>A</td>\n",
       "      <td>-3.23</td>\n",
       "      <td>0.30</td>\n",
       "      <td>0.31</td>\n",
       "    </tr>\n",
       "    <tr>\n",
       "      <th>6</th>\n",
       "      <td>2005-02-14</td>\n",
       "      <td>AGILENT TECH INC</td>\n",
       "      <td>A</td>\n",
       "      <td>5.26</td>\n",
       "      <td>0.20</td>\n",
       "      <td>0.19</td>\n",
       "    </tr>\n",
       "    <tr>\n",
       "      <th>7</th>\n",
       "      <td>2004-08-12</td>\n",
       "      <td>AGILENT TECH INC</td>\n",
       "      <td>A</td>\n",
       "      <td>7.14</td>\n",
       "      <td>0.30</td>\n",
       "      <td>0.28</td>\n",
       "    </tr>\n",
       "    <tr>\n",
       "      <th>8</th>\n",
       "      <td>2009-02-17</td>\n",
       "      <td>AGILENT TECH INC</td>\n",
       "      <td>A</td>\n",
       "      <td>-28.57</td>\n",
       "      <td>0.20</td>\n",
       "      <td>0.28</td>\n",
       "    </tr>\n",
       "    <tr>\n",
       "      <th>9</th>\n",
       "      <td>2007-02-15</td>\n",
       "      <td>AGILENT TECH INC</td>\n",
       "      <td>A</td>\n",
       "      <td>0.00</td>\n",
       "      <td>0.39</td>\n",
       "      <td>0.39</td>\n",
       "    </tr>\n",
       "  </tbody>\n",
       "</table>\n",
       "</div>"
      ],
      "text/plain": [
       "         date           company symbol surprise  reported_EPS  consensus_EPS\n",
       "0  2005-08-15  AGILENT TECH INC      A     7.69          0.28           0.26\n",
       "1  2007-05-14  AGILENT TECH INC      A    -2.27          0.43           0.44\n",
       "2  2008-02-13  AGILENT TECH INC      A     2.44          0.42           0.41\n",
       "3  2009-08-17  AGILENT TECH INC      A    36.36          0.15           0.11\n",
       "4  2008-07-01  AGILENT TECH INC      A   -17.95          0.32           0.39\n",
       "5  2004-11-11  AGILENT TECH INC      A    -3.23          0.30           0.31\n",
       "6  2005-02-14  AGILENT TECH INC      A     5.26          0.20           0.19\n",
       "7  2004-08-12  AGILENT TECH INC      A     7.14          0.30           0.28\n",
       "8  2009-02-17  AGILENT TECH INC      A   -28.57          0.20           0.28\n",
       "9  2007-02-15  AGILENT TECH INC      A     0.00          0.39           0.39"
      ]
     },
     "execution_count": 26,
     "metadata": {},
     "output_type": "execute_result"
    }
   ],
   "source": [
    "%%with_globals print\n",
    "%%bigquery --project {PROJECT}\n",
    "SELECT *\n",
    "FROM `stock_src.eps`\n",
    "LIMIT 10"
   ]
  },
  {
   "cell_type": "markdown",
   "metadata": {},
   "source": [
    "The surprise column indicates the difference between the expected (consensus expected eps by analysts) and the reported eps. We can join this table with our derived table to focus our analysis during earnings periods:"
   ]
  },
  {
   "cell_type": "code",
   "execution_count": 27,
   "metadata": {
    "tags": []
   },
   "outputs": [
    {
     "name": "stderr",
     "output_type": "stream",
     "text": [
      "Query complete after 0.00s: 100%|██████████| 4/4 [00:00<00:00, 1752.19query/s]                        \n"
     ]
    },
    {
     "data": {
      "text/html": [
       "<div>\n",
       "<style scoped>\n",
       "    .dataframe tbody tr th:only-of-type {\n",
       "        vertical-align: middle;\n",
       "    }\n",
       "\n",
       "    .dataframe tbody tr th {\n",
       "        vertical-align: top;\n",
       "    }\n",
       "\n",
       "    .dataframe thead th {\n",
       "        text-align: right;\n",
       "    }\n",
       "</style>\n",
       "<table border=\"1\" class=\"dataframe\">\n",
       "  <thead>\n",
       "    <tr style=\"text-align: right;\">\n",
       "      <th></th>\n",
       "    </tr>\n",
       "  </thead>\n",
       "  <tbody>\n",
       "  </tbody>\n",
       "</table>\n",
       "</div>"
      ],
      "text/plain": [
       "Empty DataFrame\n",
       "Columns: []\n",
       "Index: []"
      ]
     },
     "execution_count": 27,
     "metadata": {},
     "output_type": "execute_result"
    }
   ],
   "source": [
    "%%with_globals print\n",
    "%%bigquery --project {PROJECT}\n",
    "CREATE OR REPLACE TABLE stock_market.eps_percent_change_sp500\n",
    "AS\n",
    "SELECT a.*, b.consensus_EPS, b.reported_EPS, b.surprise\n",
    "FROM stock_market.percent_change_sp500 a\n",
    "INNER JOIN `stock_src.eps` b\n",
    "ON a.Date = b.date\n",
    "AND a.symbol = b.symbol"
   ]
  },
  {
   "cell_type": "code",
   "execution_count": 28,
   "metadata": {
    "colab": {},
    "colab_type": "code",
    "id": "OLYTEUstTfva",
    "tags": []
   },
   "outputs": [
    {
     "name": "stderr",
     "output_type": "stream",
     "text": [
      "Query complete after 0.00s: 100%|██████████| 2/2 [00:00<00:00, 932.69query/s]                         \n",
      "Downloading: 100%|██████████| 20/20 [00:01<00:00, 14.59rows/s]\n"
     ]
    },
    {
     "data": {
      "text/html": [
       "<div>\n",
       "<style scoped>\n",
       "    .dataframe tbody tr th:only-of-type {\n",
       "        vertical-align: middle;\n",
       "    }\n",
       "\n",
       "    .dataframe tbody tr th {\n",
       "        vertical-align: top;\n",
       "    }\n",
       "\n",
       "    .dataframe thead th {\n",
       "        text-align: right;\n",
       "    }\n",
       "</style>\n",
       "<table border=\"1\" class=\"dataframe\">\n",
       "  <thead>\n",
       "    <tr style=\"text-align: right;\">\n",
       "      <th></th>\n",
       "      <th>symbol</th>\n",
       "      <th>Date</th>\n",
       "      <th>Open</th>\n",
       "      <th>Close</th>\n",
       "      <th>tomorrow_close</th>\n",
       "      <th>tomo_close_m_close</th>\n",
       "      <th>close_MIN_prior_5_days</th>\n",
       "      <th>close_MIN_prior_20_days</th>\n",
       "      <th>close_MIN_prior_260_days</th>\n",
       "      <th>close_MAX_prior_5_days</th>\n",
       "      <th>...</th>\n",
       "      <th>days_on_market</th>\n",
       "      <th>scaled_change</th>\n",
       "      <th>s_p_scaled_change</th>\n",
       "      <th>normalized_change</th>\n",
       "      <th>company</th>\n",
       "      <th>industry</th>\n",
       "      <th>direction</th>\n",
       "      <th>consensus_EPS</th>\n",
       "      <th>reported_EPS</th>\n",
       "      <th>surprise</th>\n",
       "    </tr>\n",
       "  </thead>\n",
       "  <tbody>\n",
       "    <tr>\n",
       "      <th>0</th>\n",
       "      <td>MMM</td>\n",
       "      <td>2007-07-26</td>\n",
       "      <td>89.62</td>\n",
       "      <td>90.05</td>\n",
       "      <td>90.05</td>\n",
       "      <td>0.00</td>\n",
       "      <td>0.995225</td>\n",
       "      <td>0.995225</td>\n",
       "      <td>0.810772</td>\n",
       "      <td>1.009106</td>\n",
       "      <td>...</td>\n",
       "      <td>18965</td>\n",
       "      <td>0.000000</td>\n",
       "      <td>0.000000</td>\n",
       "      <td>0.000000</td>\n",
       "      <td>3M Co</td>\n",
       "      <td>Industrials</td>\n",
       "      <td>STAY</td>\n",
       "      <td>1.18</td>\n",
       "      <td>1.23</td>\n",
       "      <td>4.24</td>\n",
       "    </tr>\n",
       "    <tr>\n",
       "      <th>1</th>\n",
       "      <td>MMM</td>\n",
       "      <td>2007-07-26</td>\n",
       "      <td>89.62</td>\n",
       "      <td>90.05</td>\n",
       "      <td>90.05</td>\n",
       "      <td>0.00</td>\n",
       "      <td>0.995225</td>\n",
       "      <td>0.995225</td>\n",
       "      <td>0.810772</td>\n",
       "      <td>1.009106</td>\n",
       "      <td>...</td>\n",
       "      <td>18965</td>\n",
       "      <td>0.000000</td>\n",
       "      <td>-0.015992</td>\n",
       "      <td>0.015992</td>\n",
       "      <td>3M Co</td>\n",
       "      <td>Industrials</td>\n",
       "      <td>UP</td>\n",
       "      <td>1.18</td>\n",
       "      <td>1.23</td>\n",
       "      <td>4.24</td>\n",
       "    </tr>\n",
       "    <tr>\n",
       "      <th>2</th>\n",
       "      <td>MMM</td>\n",
       "      <td>2007-07-26</td>\n",
       "      <td>89.62</td>\n",
       "      <td>90.05</td>\n",
       "      <td>90.05</td>\n",
       "      <td>0.00</td>\n",
       "      <td>0.995225</td>\n",
       "      <td>0.995225</td>\n",
       "      <td>0.810772</td>\n",
       "      <td>1.000000</td>\n",
       "      <td>...</td>\n",
       "      <td>18966</td>\n",
       "      <td>0.000000</td>\n",
       "      <td>-0.015992</td>\n",
       "      <td>0.015992</td>\n",
       "      <td>3M Co</td>\n",
       "      <td>Industrials</td>\n",
       "      <td>UP</td>\n",
       "      <td>1.18</td>\n",
       "      <td>1.23</td>\n",
       "      <td>4.24</td>\n",
       "    </tr>\n",
       "    <tr>\n",
       "      <th>3</th>\n",
       "      <td>MMM</td>\n",
       "      <td>2007-07-26</td>\n",
       "      <td>89.62</td>\n",
       "      <td>90.05</td>\n",
       "      <td>90.05</td>\n",
       "      <td>0.00</td>\n",
       "      <td>0.995225</td>\n",
       "      <td>0.995225</td>\n",
       "      <td>0.810772</td>\n",
       "      <td>1.000000</td>\n",
       "      <td>...</td>\n",
       "      <td>18966</td>\n",
       "      <td>0.000000</td>\n",
       "      <td>0.000000</td>\n",
       "      <td>0.000000</td>\n",
       "      <td>3M Co</td>\n",
       "      <td>Industrials</td>\n",
       "      <td>STAY</td>\n",
       "      <td>1.18</td>\n",
       "      <td>1.23</td>\n",
       "      <td>4.24</td>\n",
       "    </tr>\n",
       "    <tr>\n",
       "      <th>4</th>\n",
       "      <td>MMM</td>\n",
       "      <td>2007-07-26</td>\n",
       "      <td>89.62</td>\n",
       "      <td>90.05</td>\n",
       "      <td>90.05</td>\n",
       "      <td>0.00</td>\n",
       "      <td>0.995225</td>\n",
       "      <td>0.995225</td>\n",
       "      <td>0.810772</td>\n",
       "      <td>1.000000</td>\n",
       "      <td>...</td>\n",
       "      <td>18966</td>\n",
       "      <td>0.000000</td>\n",
       "      <td>0.000000</td>\n",
       "      <td>0.000000</td>\n",
       "      <td>3M Co</td>\n",
       "      <td>Industrials</td>\n",
       "      <td>STAY</td>\n",
       "      <td>1.18</td>\n",
       "      <td>1.23</td>\n",
       "      <td>4.24</td>\n",
       "    </tr>\n",
       "    <tr>\n",
       "      <th>5</th>\n",
       "      <td>MMM</td>\n",
       "      <td>2007-07-26</td>\n",
       "      <td>89.62</td>\n",
       "      <td>90.05</td>\n",
       "      <td>90.05</td>\n",
       "      <td>0.00</td>\n",
       "      <td>0.995225</td>\n",
       "      <td>0.995225</td>\n",
       "      <td>0.810772</td>\n",
       "      <td>1.000000</td>\n",
       "      <td>...</td>\n",
       "      <td>18966</td>\n",
       "      <td>0.000000</td>\n",
       "      <td>-0.015992</td>\n",
       "      <td>0.015992</td>\n",
       "      <td>3M Co</td>\n",
       "      <td>Industrials</td>\n",
       "      <td>UP</td>\n",
       "      <td>1.18</td>\n",
       "      <td>1.23</td>\n",
       "      <td>4.24</td>\n",
       "    </tr>\n",
       "    <tr>\n",
       "      <th>6</th>\n",
       "      <td>MMM</td>\n",
       "      <td>2010-07-22</td>\n",
       "      <td>84.73</td>\n",
       "      <td>84.75</td>\n",
       "      <td>86.17</td>\n",
       "      <td>1.42</td>\n",
       "      <td>0.958348</td>\n",
       "      <td>0.955162</td>\n",
       "      <td>0.881888</td>\n",
       "      <td>0.971091</td>\n",
       "      <td>...</td>\n",
       "      <td>20471</td>\n",
       "      <td>0.016755</td>\n",
       "      <td>0.008220</td>\n",
       "      <td>0.008535</td>\n",
       "      <td>3M Co</td>\n",
       "      <td>Industrials</td>\n",
       "      <td>STAY</td>\n",
       "      <td>1.48</td>\n",
       "      <td>1.54</td>\n",
       "      <td>4.05</td>\n",
       "    </tr>\n",
       "    <tr>\n",
       "      <th>7</th>\n",
       "      <td>MMM</td>\n",
       "      <td>2010-07-22</td>\n",
       "      <td>84.73</td>\n",
       "      <td>84.75</td>\n",
       "      <td>84.75</td>\n",
       "      <td>0.00</td>\n",
       "      <td>0.969794</td>\n",
       "      <td>0.955162</td>\n",
       "      <td>0.881888</td>\n",
       "      <td>1.000000</td>\n",
       "      <td>...</td>\n",
       "      <td>20472</td>\n",
       "      <td>0.000000</td>\n",
       "      <td>0.000000</td>\n",
       "      <td>0.000000</td>\n",
       "      <td>3M Co</td>\n",
       "      <td>Industrials</td>\n",
       "      <td>STAY</td>\n",
       "      <td>1.48</td>\n",
       "      <td>1.54</td>\n",
       "      <td>4.05</td>\n",
       "    </tr>\n",
       "    <tr>\n",
       "      <th>8</th>\n",
       "      <td>MMM</td>\n",
       "      <td>2010-07-22</td>\n",
       "      <td>84.73</td>\n",
       "      <td>84.75</td>\n",
       "      <td>84.75</td>\n",
       "      <td>0.00</td>\n",
       "      <td>0.969794</td>\n",
       "      <td>0.955162</td>\n",
       "      <td>0.881888</td>\n",
       "      <td>1.000000</td>\n",
       "      <td>...</td>\n",
       "      <td>20472</td>\n",
       "      <td>0.000000</td>\n",
       "      <td>0.008220</td>\n",
       "      <td>-0.008220</td>\n",
       "      <td>3M Co</td>\n",
       "      <td>Industrials</td>\n",
       "      <td>STAY</td>\n",
       "      <td>1.48</td>\n",
       "      <td>1.54</td>\n",
       "      <td>4.05</td>\n",
       "    </tr>\n",
       "    <tr>\n",
       "      <th>9</th>\n",
       "      <td>MMM</td>\n",
       "      <td>2010-07-22</td>\n",
       "      <td>84.73</td>\n",
       "      <td>84.75</td>\n",
       "      <td>84.75</td>\n",
       "      <td>0.00</td>\n",
       "      <td>0.969794</td>\n",
       "      <td>0.955162</td>\n",
       "      <td>0.881888</td>\n",
       "      <td>1.000000</td>\n",
       "      <td>...</td>\n",
       "      <td>20472</td>\n",
       "      <td>0.000000</td>\n",
       "      <td>0.008220</td>\n",
       "      <td>-0.008220</td>\n",
       "      <td>3M Co</td>\n",
       "      <td>Industrials</td>\n",
       "      <td>STAY</td>\n",
       "      <td>1.48</td>\n",
       "      <td>1.54</td>\n",
       "      <td>4.05</td>\n",
       "    </tr>\n",
       "    <tr>\n",
       "      <th>10</th>\n",
       "      <td>MMM</td>\n",
       "      <td>2010-04-27</td>\n",
       "      <td>89.92</td>\n",
       "      <td>87.97</td>\n",
       "      <td>88.24</td>\n",
       "      <td>0.27</td>\n",
       "      <td>0.978174</td>\n",
       "      <td>0.952143</td>\n",
       "      <td>0.836308</td>\n",
       "      <td>0.993975</td>\n",
       "      <td>...</td>\n",
       "      <td>20351</td>\n",
       "      <td>0.003069</td>\n",
       "      <td>0.006463</td>\n",
       "      <td>-0.003394</td>\n",
       "      <td>3M Co</td>\n",
       "      <td>Industrials</td>\n",
       "      <td>STAY</td>\n",
       "      <td>1.21</td>\n",
       "      <td>1.40</td>\n",
       "      <td>15.70</td>\n",
       "    </tr>\n",
       "    <tr>\n",
       "      <th>11</th>\n",
       "      <td>MMM</td>\n",
       "      <td>2010-04-27</td>\n",
       "      <td>89.92</td>\n",
       "      <td>87.97</td>\n",
       "      <td>88.24</td>\n",
       "      <td>0.27</td>\n",
       "      <td>0.978174</td>\n",
       "      <td>0.952143</td>\n",
       "      <td>0.836308</td>\n",
       "      <td>0.993975</td>\n",
       "      <td>...</td>\n",
       "      <td>20351</td>\n",
       "      <td>0.003069</td>\n",
       "      <td>0.000000</td>\n",
       "      <td>0.003069</td>\n",
       "      <td>3M Co</td>\n",
       "      <td>Industrials</td>\n",
       "      <td>STAY</td>\n",
       "      <td>1.21</td>\n",
       "      <td>1.40</td>\n",
       "      <td>15.70</td>\n",
       "    </tr>\n",
       "    <tr>\n",
       "      <th>12</th>\n",
       "      <td>MMM</td>\n",
       "      <td>2010-04-27</td>\n",
       "      <td>89.92</td>\n",
       "      <td>87.97</td>\n",
       "      <td>88.24</td>\n",
       "      <td>0.27</td>\n",
       "      <td>0.978174</td>\n",
       "      <td>0.952143</td>\n",
       "      <td>0.836308</td>\n",
       "      <td>0.993975</td>\n",
       "      <td>...</td>\n",
       "      <td>20351</td>\n",
       "      <td>0.003069</td>\n",
       "      <td>0.006463</td>\n",
       "      <td>-0.003394</td>\n",
       "      <td>3M Co</td>\n",
       "      <td>Industrials</td>\n",
       "      <td>STAY</td>\n",
       "      <td>1.21</td>\n",
       "      <td>1.40</td>\n",
       "      <td>15.70</td>\n",
       "    </tr>\n",
       "    <tr>\n",
       "      <th>13</th>\n",
       "      <td>MMM</td>\n",
       "      <td>2010-04-27</td>\n",
       "      <td>89.92</td>\n",
       "      <td>87.97</td>\n",
       "      <td>88.24</td>\n",
       "      <td>0.27</td>\n",
       "      <td>0.978174</td>\n",
       "      <td>0.952143</td>\n",
       "      <td>0.836308</td>\n",
       "      <td>0.993975</td>\n",
       "      <td>...</td>\n",
       "      <td>20351</td>\n",
       "      <td>0.003069</td>\n",
       "      <td>0.000000</td>\n",
       "      <td>0.003069</td>\n",
       "      <td>3M Co</td>\n",
       "      <td>Industrials</td>\n",
       "      <td>STAY</td>\n",
       "      <td>1.21</td>\n",
       "      <td>1.40</td>\n",
       "      <td>15.70</td>\n",
       "    </tr>\n",
       "    <tr>\n",
       "      <th>14</th>\n",
       "      <td>MMM</td>\n",
       "      <td>2010-04-27</td>\n",
       "      <td>89.92</td>\n",
       "      <td>87.97</td>\n",
       "      <td>88.24</td>\n",
       "      <td>0.27</td>\n",
       "      <td>0.978174</td>\n",
       "      <td>0.952143</td>\n",
       "      <td>0.836308</td>\n",
       "      <td>0.993975</td>\n",
       "      <td>...</td>\n",
       "      <td>20351</td>\n",
       "      <td>0.003069</td>\n",
       "      <td>0.000000</td>\n",
       "      <td>0.003069</td>\n",
       "      <td>3M Co</td>\n",
       "      <td>Industrials</td>\n",
       "      <td>STAY</td>\n",
       "      <td>1.21</td>\n",
       "      <td>1.40</td>\n",
       "      <td>15.70</td>\n",
       "    </tr>\n",
       "    <tr>\n",
       "      <th>15</th>\n",
       "      <td>MMM</td>\n",
       "      <td>2010-04-27</td>\n",
       "      <td>89.92</td>\n",
       "      <td>87.97</td>\n",
       "      <td>87.97</td>\n",
       "      <td>0.00</td>\n",
       "      <td>0.984199</td>\n",
       "      <td>0.952143</td>\n",
       "      <td>0.836308</td>\n",
       "      <td>1.000000</td>\n",
       "      <td>...</td>\n",
       "      <td>20352</td>\n",
       "      <td>0.000000</td>\n",
       "      <td>0.000000</td>\n",
       "      <td>0.000000</td>\n",
       "      <td>3M Co</td>\n",
       "      <td>Industrials</td>\n",
       "      <td>STAY</td>\n",
       "      <td>1.21</td>\n",
       "      <td>1.40</td>\n",
       "      <td>15.70</td>\n",
       "    </tr>\n",
       "    <tr>\n",
       "      <th>16</th>\n",
       "      <td>MMM</td>\n",
       "      <td>2010-04-27</td>\n",
       "      <td>89.92</td>\n",
       "      <td>87.97</td>\n",
       "      <td>87.97</td>\n",
       "      <td>0.00</td>\n",
       "      <td>0.984199</td>\n",
       "      <td>0.952143</td>\n",
       "      <td>0.836308</td>\n",
       "      <td>1.000000</td>\n",
       "      <td>...</td>\n",
       "      <td>20352</td>\n",
       "      <td>0.000000</td>\n",
       "      <td>0.006463</td>\n",
       "      <td>-0.006463</td>\n",
       "      <td>3M Co</td>\n",
       "      <td>Industrials</td>\n",
       "      <td>STAY</td>\n",
       "      <td>1.21</td>\n",
       "      <td>1.40</td>\n",
       "      <td>15.70</td>\n",
       "    </tr>\n",
       "    <tr>\n",
       "      <th>17</th>\n",
       "      <td>MMM</td>\n",
       "      <td>2006-04-21</td>\n",
       "      <td>84.00</td>\n",
       "      <td>85.06</td>\n",
       "      <td>85.46</td>\n",
       "      <td>0.40</td>\n",
       "      <td>0.959205</td>\n",
       "      <td>0.943569</td>\n",
       "      <td>0.823771</td>\n",
       "      <td>0.971079</td>\n",
       "      <td>...</td>\n",
       "      <td>18331</td>\n",
       "      <td>0.004703</td>\n",
       "      <td>-0.002417</td>\n",
       "      <td>0.007120</td>\n",
       "      <td>3M Co</td>\n",
       "      <td>Industrials</td>\n",
       "      <td>STAY</td>\n",
       "      <td>1.14</td>\n",
       "      <td>1.17</td>\n",
       "      <td>2.63</td>\n",
       "    </tr>\n",
       "    <tr>\n",
       "      <th>18</th>\n",
       "      <td>MMM</td>\n",
       "      <td>2006-04-21</td>\n",
       "      <td>84.00</td>\n",
       "      <td>85.06</td>\n",
       "      <td>85.46</td>\n",
       "      <td>0.40</td>\n",
       "      <td>0.959205</td>\n",
       "      <td>0.943569</td>\n",
       "      <td>0.823771</td>\n",
       "      <td>0.971079</td>\n",
       "      <td>...</td>\n",
       "      <td>18331</td>\n",
       "      <td>0.004703</td>\n",
       "      <td>0.000000</td>\n",
       "      <td>0.004703</td>\n",
       "      <td>3M Co</td>\n",
       "      <td>Industrials</td>\n",
       "      <td>STAY</td>\n",
       "      <td>1.14</td>\n",
       "      <td>1.17</td>\n",
       "      <td>2.63</td>\n",
       "    </tr>\n",
       "    <tr>\n",
       "      <th>19</th>\n",
       "      <td>MMM</td>\n",
       "      <td>2006-04-21</td>\n",
       "      <td>84.00</td>\n",
       "      <td>85.06</td>\n",
       "      <td>85.06</td>\n",
       "      <td>0.00</td>\n",
       "      <td>0.962615</td>\n",
       "      <td>0.943569</td>\n",
       "      <td>0.823771</td>\n",
       "      <td>1.000000</td>\n",
       "      <td>...</td>\n",
       "      <td>18332</td>\n",
       "      <td>0.000000</td>\n",
       "      <td>0.000000</td>\n",
       "      <td>0.000000</td>\n",
       "      <td>3M Co</td>\n",
       "      <td>Industrials</td>\n",
       "      <td>STAY</td>\n",
       "      <td>1.14</td>\n",
       "      <td>1.17</td>\n",
       "      <td>2.63</td>\n",
       "    </tr>\n",
       "  </tbody>\n",
       "</table>\n",
       "<p>20 rows × 29 columns</p>\n",
       "</div>"
      ],
      "text/plain": [
       "   symbol        Date   Open  Close  tomorrow_close  tomo_close_m_close  \\\n",
       "0     MMM  2007-07-26  89.62  90.05           90.05                0.00   \n",
       "1     MMM  2007-07-26  89.62  90.05           90.05                0.00   \n",
       "2     MMM  2007-07-26  89.62  90.05           90.05                0.00   \n",
       "3     MMM  2007-07-26  89.62  90.05           90.05                0.00   \n",
       "4     MMM  2007-07-26  89.62  90.05           90.05                0.00   \n",
       "5     MMM  2007-07-26  89.62  90.05           90.05                0.00   \n",
       "6     MMM  2010-07-22  84.73  84.75           86.17                1.42   \n",
       "7     MMM  2010-07-22  84.73  84.75           84.75                0.00   \n",
       "8     MMM  2010-07-22  84.73  84.75           84.75                0.00   \n",
       "9     MMM  2010-07-22  84.73  84.75           84.75                0.00   \n",
       "10    MMM  2010-04-27  89.92  87.97           88.24                0.27   \n",
       "11    MMM  2010-04-27  89.92  87.97           88.24                0.27   \n",
       "12    MMM  2010-04-27  89.92  87.97           88.24                0.27   \n",
       "13    MMM  2010-04-27  89.92  87.97           88.24                0.27   \n",
       "14    MMM  2010-04-27  89.92  87.97           88.24                0.27   \n",
       "15    MMM  2010-04-27  89.92  87.97           87.97                0.00   \n",
       "16    MMM  2010-04-27  89.92  87.97           87.97                0.00   \n",
       "17    MMM  2006-04-21  84.00  85.06           85.46                0.40   \n",
       "18    MMM  2006-04-21  84.00  85.06           85.46                0.40   \n",
       "19    MMM  2006-04-21  84.00  85.06           85.06                0.00   \n",
       "\n",
       "    close_MIN_prior_5_days  close_MIN_prior_20_days  close_MIN_prior_260_days  \\\n",
       "0                 0.995225                 0.995225                  0.810772   \n",
       "1                 0.995225                 0.995225                  0.810772   \n",
       "2                 0.995225                 0.995225                  0.810772   \n",
       "3                 0.995225                 0.995225                  0.810772   \n",
       "4                 0.995225                 0.995225                  0.810772   \n",
       "5                 0.995225                 0.995225                  0.810772   \n",
       "6                 0.958348                 0.955162                  0.881888   \n",
       "7                 0.969794                 0.955162                  0.881888   \n",
       "8                 0.969794                 0.955162                  0.881888   \n",
       "9                 0.969794                 0.955162                  0.881888   \n",
       "10                0.978174                 0.952143                  0.836308   \n",
       "11                0.978174                 0.952143                  0.836308   \n",
       "12                0.978174                 0.952143                  0.836308   \n",
       "13                0.978174                 0.952143                  0.836308   \n",
       "14                0.978174                 0.952143                  0.836308   \n",
       "15                0.984199                 0.952143                  0.836308   \n",
       "16                0.984199                 0.952143                  0.836308   \n",
       "17                0.959205                 0.943569                  0.823771   \n",
       "18                0.959205                 0.943569                  0.823771   \n",
       "19                0.962615                 0.943569                  0.823771   \n",
       "\n",
       "    close_MAX_prior_5_days  ...  days_on_market  scaled_change  \\\n",
       "0                 1.009106  ...           18965       0.000000   \n",
       "1                 1.009106  ...           18965       0.000000   \n",
       "2                 1.000000  ...           18966       0.000000   \n",
       "3                 1.000000  ...           18966       0.000000   \n",
       "4                 1.000000  ...           18966       0.000000   \n",
       "5                 1.000000  ...           18966       0.000000   \n",
       "6                 0.971091  ...           20471       0.016755   \n",
       "7                 1.000000  ...           20472       0.000000   \n",
       "8                 1.000000  ...           20472       0.000000   \n",
       "9                 1.000000  ...           20472       0.000000   \n",
       "10                0.993975  ...           20351       0.003069   \n",
       "11                0.993975  ...           20351       0.003069   \n",
       "12                0.993975  ...           20351       0.003069   \n",
       "13                0.993975  ...           20351       0.003069   \n",
       "14                0.993975  ...           20351       0.003069   \n",
       "15                1.000000  ...           20352       0.000000   \n",
       "16                1.000000  ...           20352       0.000000   \n",
       "17                0.971079  ...           18331       0.004703   \n",
       "18                0.971079  ...           18331       0.004703   \n",
       "19                1.000000  ...           18332       0.000000   \n",
       "\n",
       "    s_p_scaled_change  normalized_change  company     industry  direction  \\\n",
       "0            0.000000           0.000000    3M Co  Industrials       STAY   \n",
       "1           -0.015992           0.015992    3M Co  Industrials         UP   \n",
       "2           -0.015992           0.015992    3M Co  Industrials         UP   \n",
       "3            0.000000           0.000000    3M Co  Industrials       STAY   \n",
       "4            0.000000           0.000000    3M Co  Industrials       STAY   \n",
       "5           -0.015992           0.015992    3M Co  Industrials         UP   \n",
       "6            0.008220           0.008535    3M Co  Industrials       STAY   \n",
       "7            0.000000           0.000000    3M Co  Industrials       STAY   \n",
       "8            0.008220          -0.008220    3M Co  Industrials       STAY   \n",
       "9            0.008220          -0.008220    3M Co  Industrials       STAY   \n",
       "10           0.006463          -0.003394    3M Co  Industrials       STAY   \n",
       "11           0.000000           0.003069    3M Co  Industrials       STAY   \n",
       "12           0.006463          -0.003394    3M Co  Industrials       STAY   \n",
       "13           0.000000           0.003069    3M Co  Industrials       STAY   \n",
       "14           0.000000           0.003069    3M Co  Industrials       STAY   \n",
       "15           0.000000           0.000000    3M Co  Industrials       STAY   \n",
       "16           0.006463          -0.006463    3M Co  Industrials       STAY   \n",
       "17          -0.002417           0.007120    3M Co  Industrials       STAY   \n",
       "18           0.000000           0.004703    3M Co  Industrials       STAY   \n",
       "19           0.000000           0.000000    3M Co  Industrials       STAY   \n",
       "\n",
       "    consensus_EPS reported_EPS  surprise  \n",
       "0            1.18         1.23      4.24  \n",
       "1            1.18         1.23      4.24  \n",
       "2            1.18         1.23      4.24  \n",
       "3            1.18         1.23      4.24  \n",
       "4            1.18         1.23      4.24  \n",
       "5            1.18         1.23      4.24  \n",
       "6            1.48         1.54      4.05  \n",
       "7            1.48         1.54      4.05  \n",
       "8            1.48         1.54      4.05  \n",
       "9            1.48         1.54      4.05  \n",
       "10           1.21         1.40     15.70  \n",
       "11           1.21         1.40     15.70  \n",
       "12           1.21         1.40     15.70  \n",
       "13           1.21         1.40     15.70  \n",
       "14           1.21         1.40     15.70  \n",
       "15           1.21         1.40     15.70  \n",
       "16           1.21         1.40     15.70  \n",
       "17           1.14         1.17      2.63  \n",
       "18           1.14         1.17      2.63  \n",
       "19           1.14         1.17      2.63  \n",
       "\n",
       "[20 rows x 29 columns]"
      ]
     },
     "execution_count": 28,
     "metadata": {},
     "output_type": "execute_result"
    }
   ],
   "source": [
    "%%with_globals print\n",
    "%%bigquery --project {PROJECT}\n",
    "SELECT *\n",
    "FROM stock_market.eps_percent_change_sp500\n",
    "LIMIT 20"
   ]
  },
  {
   "cell_type": "code",
   "execution_count": 29,
   "metadata": {
    "tags": []
   },
   "outputs": [
    {
     "name": "stderr",
     "output_type": "stream",
     "text": [
      "Query complete after 0.00s: 100%|██████████| 2/2 [00:00<00:00, 715.57query/s]                         \n",
      "Downloading: 100%|██████████| 3/3 [00:01<00:00,  2.05rows/s]\n"
     ]
    },
    {
     "data": {
      "text/html": [
       "<div>\n",
       "<style scoped>\n",
       "    .dataframe tbody tr th:only-of-type {\n",
       "        vertical-align: middle;\n",
       "    }\n",
       "\n",
       "    .dataframe tbody tr th {\n",
       "        vertical-align: top;\n",
       "    }\n",
       "\n",
       "    .dataframe thead th {\n",
       "        text-align: right;\n",
       "    }\n",
       "</style>\n",
       "<table border=\"1\" class=\"dataframe\">\n",
       "  <thead>\n",
       "    <tr style=\"text-align: right;\">\n",
       "      <th></th>\n",
       "      <th>direction</th>\n",
       "      <th>cnt</th>\n",
       "    </tr>\n",
       "  </thead>\n",
       "  <tbody>\n",
       "    <tr>\n",
       "      <th>0</th>\n",
       "      <td>STAY</td>\n",
       "      <td>150620</td>\n",
       "    </tr>\n",
       "    <tr>\n",
       "      <th>1</th>\n",
       "      <td>UP</td>\n",
       "      <td>53804</td>\n",
       "    </tr>\n",
       "    <tr>\n",
       "      <th>2</th>\n",
       "      <td>DOWN</td>\n",
       "      <td>52952</td>\n",
       "    </tr>\n",
       "  </tbody>\n",
       "</table>\n",
       "</div>"
      ],
      "text/plain": [
       "  direction     cnt\n",
       "0      STAY  150620\n",
       "1        UP   53804\n",
       "2      DOWN   52952"
      ]
     },
     "execution_count": 29,
     "metadata": {},
     "output_type": "execute_result"
    }
   ],
   "source": [
    "%%with_globals print\n",
    "%%bigquery --project {PROJECT}\n",
    "SELECT direction, COUNT(*) as cnt\n",
    "FROM stock_market.eps_percent_change_sp500\n",
    "GROUP BY direction"
   ]
  },
  {
   "cell_type": "markdown",
   "metadata": {
    "colab_type": "text",
    "id": "COPWKR1WTfvd"
   },
   "source": [
    "## Feature exploration"
   ]
  },
  {
   "cell_type": "markdown",
   "metadata": {
    "colab_type": "text",
    "id": "T5HLcwy1Tfve"
   },
   "source": [
    "Now that we have created our recent movements of the company’s stock price, let's visualize our features. This will help us understand the data better and possibly spot errors we may have made during our calculations.\n",
    "\n",
    "As a reminder, we calculated the scaled prices 1 week, 1 month, and 1 year before the date that we are predicting at. "
   ]
  },
  {
   "cell_type": "markdown",
   "metadata": {
    "colab_type": "text",
    "id": "RDROJ7qMh7oz"
   },
   "source": [
    "Let's write a re-usable function for aggregating our features."
   ]
  },
  {
   "cell_type": "markdown",
   "metadata": {},
   "source": [
    "**Learning objective 2**"
   ]
  },
  {
   "cell_type": "code",
   "execution_count": 30,
   "metadata": {
    "colab": {},
    "colab_type": "code",
    "id": "Q7dT9NTSTfvf"
   },
   "outputs": [],
   "source": [
    "def get_aggregate_stats(field, round_digit=2):\n",
    "    \"\"\"Run SELECT ... GROUP BY field, rounding to nearest digit.\"\"\"\n",
    "    df = bq.query(\n",
    "        \"\"\"\n",
    "    SELECT {field}, COUNT(*) as cnt\n",
    "    FROM\n",
    "    (SELECT ROUND({field}, {round_digit}) AS {field}\n",
    "    FROM stock_market.eps_percent_change_sp500) rounded_field\n",
    "    GROUP BY {field}\n",
    "    ORDER BY {field}\"\"\".format(\n",
    "            field=field, round_digit=round_digit, PROJECT=PROJECT\n",
    "        )\n",
    "    ).to_dataframe()\n",
    "    return df.dropna()"
   ]
  },
  {
   "cell_type": "code",
   "execution_count": 31,
   "metadata": {
    "colab": {
     "base_uri": "https://localhost:8080/",
     "height": 338
    },
    "colab_type": "code",
    "id": "xgmCvlMtTfvh",
    "outputId": "5db92f71-8cce-4475-fad8-a991e2fc208f",
    "tags": []
   },
   "outputs": [
    {
     "data": {
      "image/png": "[encoded data removed]",
      "text/plain": [
       "<Figure size 720x360 with 1 Axes>"
      ]
     },
     "metadata": {
      "needs_background": "light"
     },
     "output_type": "display_data"
    }
   ],
   "source": [
    "field = \"close_AVG_prior_260_days\"\n",
    "CLIP_MIN, CLIP_MAX = 0.1, 4.0\n",
    "df = get_aggregate_stats(field)\n",
    "values = df[field].clip(CLIP_MIN, CLIP_MAX)\n",
    "counts = 100 * df[\"cnt\"] / df[\"cnt\"].sum()  # Percentage.\n",
    "ax = values.hist(weights=counts, bins=30, figsize=(10, 5))\n",
    "ax.set(xlabel=field, ylabel=\"%\");"
   ]
  },
  {
   "cell_type": "markdown",
   "metadata": {},
   "source": [
    "**TODO** Use the `get_aggregate_stats` from above to visualize the `normalized_change` column."
   ]
  },
  {
   "cell_type": "code",
   "execution_count": 32,
   "metadata": {
    "colab": {},
    "colab_type": "code",
    "id": "UDcnYJrCTfvj",
    "outputId": "7e949d16-8c9a-416c-de2d-28ba97a2aa65",
    "tags": []
   },
   "outputs": [
    {
     "data": {
      "image/png": "[encoded data removed]",
      "text/plain": [
       "<Figure size 720x360 with 1 Axes>"
      ]
     },
     "metadata": {
      "needs_background": "light"
     },
     "output_type": "display_data"
    }
   ],
   "source": [
    "field = \"normalized_change\"\n",
    "# TODO\n",
    "CLIP_MIN, CLIP_MAX = -0.1, 0.1\n",
    "df = get_aggregate_stats(field, round_digit=3)\n",
    "values = df[field].clip(CLIP_MIN, CLIP_MAX)\n",
    "counts = 100 * df[\"cnt\"] / df[\"cnt\"].sum()  # Percentage.\n",
    "ax = values.hist(weights=counts, bins=50, figsize=(10, 5))\n",
    "ax.set(xlabel=field, ylabel=\"%\");"
   ]
  },
  {
   "cell_type": "markdown",
   "metadata": {
    "colab_type": "text",
    "id": "DuV7glaEh7o_"
   },
   "source": [
    "Let's look at results by day-of-week, month, etc."
   ]
  },
  {
   "cell_type": "code",
   "execution_count": 33,
   "metadata": {
    "colab": {},
    "colab_type": "code",
    "id": "l7egsYhcTfvm",
    "tags": []
   },
   "outputs": [],
   "source": [
    "VALID_GROUPBY_KEYS = (\n",
    "    \"DAYOFWEEK\",\n",
    "    \"DAY\",\n",
    "    \"DAYOFYEAR\",\n",
    "    \"WEEK\",\n",
    "    \"MONTH\",\n",
    "    \"QUARTER\",\n",
    "    \"YEAR\",\n",
    ")\n",
    "DOW_MAPPING = {\n",
    "    1: \"Sun\",\n",
    "    2: \"Mon\",\n",
    "    3: \"Tues\",\n",
    "    4: \"Wed\",\n",
    "    5: \"Thur\",\n",
    "    6: \"Fri\",\n",
    "    7: \"Sun\",\n",
    "}\n",
    "\n",
    "\n",
    "def groupby_datetime(groupby_key, field):\n",
    "    if groupby_key not in VALID_GROUPBY_KEYS:\n",
    "        raise Exception(\"Please use a valid groupby_key.\")\n",
    "    sql = \"\"\"\n",
    "    SELECT {groupby_key}, AVG({field}) as avg_{field}\n",
    "    FROM\n",
    "    (SELECT {field},\n",
    "     EXTRACT({groupby_key} FROM date) AS {groupby_key}\n",
    "    FROM stock_market.eps_percent_change_sp500) foo\n",
    "    GROUP BY {groupby_key}\n",
    "    ORDER BY {groupby_key} DESC\"\"\".format(\n",
    "        groupby_key=groupby_key, field=field, PROJECT=PROJECT\n",
    "    )\n",
    "    print(sql)\n",
    "    df = bq.query(sql).to_dataframe()\n",
    "    if groupby_key == \"DAYOFWEEK\":\n",
    "        df.DAYOFWEEK = df.DAYOFWEEK.map(DOW_MAPPING)\n",
    "    return df.set_index(groupby_key).dropna()"
   ]
  },
  {
   "cell_type": "code",
   "execution_count": 34,
   "metadata": {
    "colab": {
     "base_uri": "https://localhost:8080/",
     "height": 403
    },
    "colab_type": "code",
    "id": "z7mxvIqYTfvp",
    "outputId": "df531585-b724-4907-a84a-03483efc9a7d",
    "tags": []
   },
   "outputs": [
    {
     "name": "stdout",
     "output_type": "stream",
     "text": [
      "\n",
      "    SELECT DAYOFWEEK, AVG(normalized_change) as avg_normalized_change\n",
      "    FROM\n",
      "    (SELECT normalized_change,\n",
      "     EXTRACT(DAYOFWEEK FROM date) AS DAYOFWEEK\n",
      "    FROM stock_market.eps_percent_change_sp500) foo\n",
      "    GROUP BY DAYOFWEEK\n",
      "    ORDER BY DAYOFWEEK DESC\n"
     ]
    },
    {
     "data": {
      "image/png": "[encoded data removed]",
      "text/plain": [
       "<Figure size 432x288 with 1 Axes>"
      ]
     },
     "metadata": {
      "needs_background": "light"
     },
     "output_type": "display_data"
    }
   ],
   "source": [
    "field = \"normalized_change\"\n",
    "\n",
    "df = groupby_datetime(\"DAYOFWEEK\", field)\n",
    "ax = df.plot(kind=\"barh\", color=\"orange\", alpha=0.7)\n",
    "ax.grid(which=\"major\", axis=\"y\", linewidth=0)"
   ]
  },
  {
   "cell_type": "code",
   "execution_count": 35,
   "metadata": {
    "colab": {
     "base_uri": "https://localhost:8080/",
     "height": 403
    },
    "colab_type": "code",
    "id": "BRI70WJpTfvs",
    "outputId": "b7525484-9b43-407b-f180-7de5ab7225a4",
    "tags": []
   },
   "outputs": [
    {
     "name": "stdout",
     "output_type": "stream",
     "text": [
      "\n",
      "    SELECT DAYOFWEEK, AVG(close) as avg_close\n",
      "    FROM\n",
      "    (SELECT close,\n",
      "     EXTRACT(DAYOFWEEK FROM date) AS DAYOFWEEK\n",
      "    FROM stock_market.eps_percent_change_sp500) foo\n",
      "    GROUP BY DAYOFWEEK\n",
      "    ORDER BY DAYOFWEEK DESC\n"
     ]
    },
    {
     "data": {
      "image/png": "[encoded data removed]",
      "text/plain": [
       "<Figure size 432x288 with 1 Axes>"
      ]
     },
     "metadata": {
      "needs_background": "light"
     },
     "output_type": "display_data"
    }
   ],
   "source": [
    "field = \"close\"\n",
    "df = groupby_datetime(\"DAYOFWEEK\", field)\n",
    "ax = df.plot(kind=\"barh\", color=\"orange\", alpha=0.7)\n",
    "ax.grid(which=\"major\", axis=\"y\", linewidth=0)"
   ]
  },
  {
   "cell_type": "code",
   "execution_count": 36,
   "metadata": {
    "colab": {
     "base_uri": "https://localhost:8080/",
     "height": 403
    },
    "colab_type": "code",
    "id": "40m-6nMKTfvw",
    "outputId": "4c4bd05b-2278-4eb7-a741-d39076ec59d3",
    "tags": []
   },
   "outputs": [
    {
     "name": "stdout",
     "output_type": "stream",
     "text": [
      "\n",
      "    SELECT MONTH, AVG(normalized_change) as avg_normalized_change\n",
      "    FROM\n",
      "    (SELECT normalized_change,\n",
      "     EXTRACT(MONTH FROM date) AS MONTH\n",
      "    FROM stock_market.eps_percent_change_sp500) foo\n",
      "    GROUP BY MONTH\n",
      "    ORDER BY MONTH DESC\n"
     ]
    },
    {
     "data": {
      "image/png": "[encoded data removed]",
      "text/plain": [
       "<Figure size 432x288 with 1 Axes>"
      ]
     },
     "metadata": {
      "needs_background": "light"
     },
     "output_type": "display_data"
    }
   ],
   "source": [
    "field = \"normalized_change\"\n",
    "df = groupby_datetime(\"MONTH\", field)\n",
    "ax = df.plot(kind=\"barh\", color=\"blue\", alpha=0.7)\n",
    "ax.grid(which=\"major\", axis=\"y\", linewidth=0)"
   ]
  },
  {
   "cell_type": "code",
   "execution_count": 37,
   "metadata": {
    "colab": {
     "base_uri": "https://localhost:8080/",
     "height": 403
    },
    "colab_type": "code",
    "id": "Zj2pOrAiTfvz",
    "outputId": "4afba896-7e82-458a-86b0-4562dd31b5a4",
    "tags": []
   },
   "outputs": [
    {
     "name": "stdout",
     "output_type": "stream",
     "text": [
      "\n",
      "    SELECT QUARTER, AVG(normalized_change) as avg_normalized_change\n",
      "    FROM\n",
      "    (SELECT normalized_change,\n",
      "     EXTRACT(QUARTER FROM date) AS QUARTER\n",
      "    FROM stock_market.eps_percent_change_sp500) foo\n",
      "    GROUP BY QUARTER\n",
      "    ORDER BY QUARTER DESC\n"
     ]
    },
    {
     "data": {
      "image/png": "[encoded data removed]",
      "text/plain": [
       "<Figure size 432x288 with 1 Axes>"
      ]
     },
     "metadata": {
      "needs_background": "light"
     },
     "output_type": "display_data"
    }
   ],
   "source": [
    "field = \"normalized_change\"\n",
    "df = groupby_datetime(\"QUARTER\", field)\n",
    "ax = df.plot(kind=\"barh\", color=\"green\", alpha=0.7)\n",
    "ax.grid(which=\"major\", axis=\"y\", linewidth=0)"
   ]
  },
  {
   "cell_type": "code",
   "execution_count": 38,
   "metadata": {
    "colab": {
     "base_uri": "https://localhost:8080/",
     "height": 418
    },
    "colab_type": "code",
    "id": "ohYWA_YsTfv4",
    "outputId": "7b597812-82f6-41dd-98c4-f3ed1ec5dc6c",
    "tags": []
   },
   "outputs": [
    {
     "name": "stdout",
     "output_type": "stream",
     "text": [
      "\n",
      "    SELECT YEAR, AVG(close) as avg_close\n",
      "    FROM\n",
      "    (SELECT close,\n",
      "     EXTRACT(YEAR FROM date) AS YEAR\n",
      "    FROM stock_market.eps_percent_change_sp500) foo\n",
      "    GROUP BY YEAR\n",
      "    ORDER BY YEAR DESC\n"
     ]
    },
    {
     "data": {
      "image/png": "[encoded data removed]",
      "text/plain": [
       "<Figure size 432x288 with 1 Axes>"
      ]
     },
     "metadata": {
      "needs_background": "light"
     },
     "output_type": "display_data"
    }
   ],
   "source": [
    "field = \"close\"\n",
    "df = groupby_datetime(\"YEAR\", field)\n",
    "ax = df.plot(kind=\"line\", color=\"purple\", alpha=0.7)\n",
    "ax.grid(which=\"major\", axis=\"y\", linewidth=0)"
   ]
  },
  {
   "cell_type": "code",
   "execution_count": 39,
   "metadata": {
    "colab": {
     "base_uri": "https://localhost:8080/",
     "height": 418
    },
    "colab_type": "code",
    "id": "BBTC2VunTfv2",
    "outputId": "3b21cb7d-4f80-4faf-a2c9-e67191969556",
    "tags": []
   },
   "outputs": [
    {
     "name": "stdout",
     "output_type": "stream",
     "text": [
      "\n",
      "    SELECT YEAR, AVG(normalized_change) as avg_normalized_change\n",
      "    FROM\n",
      "    (SELECT normalized_change,\n",
      "     EXTRACT(YEAR FROM date) AS YEAR\n",
      "    FROM stock_market.eps_percent_change_sp500) foo\n",
      "    GROUP BY YEAR\n",
      "    ORDER BY YEAR DESC\n"
     ]
    },
    {
     "data": {
      "image/png": "[encoded data removed]",
      "text/plain": [
       "<Figure size 432x288 with 1 Axes>"
      ]
     },
     "metadata": {
      "needs_background": "light"
     },
     "output_type": "display_data"
    }
   ],
   "source": [
    "field = \"normalized_change\"\n",
    "df = groupby_datetime(\"YEAR\", field)\n",
    "ax = df.plot(kind=\"line\", color=\"purple\", alpha=0.7)\n",
    "ax.grid(which=\"major\", axis=\"y\", linewidth=0)"
   ]
  },
  {
   "cell_type": "markdown",
   "metadata": {
    "colab_type": "text",
    "id": "P7UJ0W-5WvZC"
   },
   "source": [
    "BONUS: How do our features correlate with the label `direction`? Build some visualizations. What features are most important? You can visualize this and do it statistically using the [`CORR`](https://cloud.google.com/bigquery/docs/reference/standard-sql/statistical_aggregate_functions) function."
   ]
  },
  {
   "cell_type": "markdown",
   "metadata": {
    "colab_type": "text",
    "id": "oRCY1E6CTfxD"
   },
   "source": [
    "Copyright 2019 Google Inc. Licensed under the Apache License, Version 2.0 (the \"License\"); you may not use this file except in compliance with the License. You may obtain a copy of the License at http://www.apache.org/licenses/LICENSE-2.0 Unless required by applicable law or agreed to in writing, software distributed under the License is distributed on an \"AS IS\" BASIS, WITHOUT WARRANTIES OR CONDITIONS OF ANY KIND, either express or implied. See the License for the specific language governing permissions and limitations under the License"
   ]
  }
 ],
 "metadata": {
  "colab": {
   "collapsed_sections": [],
   "name": "2_feature_engineering.ipynb",
   "provenance": [],
   "toc_visible": true
  },
  "environment": {
   "kernel": "python3",
   "name": "tf2-gpu.2-6.m94",
   "type": "gcloud",
   "uri": "gcr.io/deeplearning-platform-release/tf2-gpu.2-6:m94"
  },
  "kernelspec": {
   "display_name": "Python 3",
   "language": "python",
   "name": "python3"
  },
  "language_info": {
   "codemirror_mode": {
    "name": "ipython",
    "version": 3
   },
   "file_extension": ".py",
   "mimetype": "text/x-python",
   "name": "python",
   "nbconvert_exporter": "python",
   "pygments_lexer": "ipython3",
   "version": "3.7.12"
  }
 },
 "nbformat": 4,
 "nbformat_minor": 4
}
