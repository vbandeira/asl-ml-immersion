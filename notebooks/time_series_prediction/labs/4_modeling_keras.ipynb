{
 "cells": [
  {
   "cell_type": "markdown",
   "metadata": {},
   "source": [
    "# Time Series Prediction\n",
    "\n",
    "**Objectives**\n",
    " 1. Build a linear, DNN and CNN model in keras to predict stock market behavior.\n",
    " 2. Build a simple RNN model and a multi-layer RNN model in keras.\n",
    " 3. Combine RNN and CNN architecture to create a keras model to predict stock market behavior.\n",
    " \n",
    "In this lab we will build a custom Keras model to predict stock market behavior using the stock market dataset we created in the previous labs. We'll start with a linear, DNN and CNN model \n",
    "\n",
    "Since the features of our model are sequential in nature, we'll next look at how to build various RNN models in keras. We'll start with a simple RNN model and then see how to create a multi-layer RNN in keras. We'll also see how to combine features of 1-dimensional CNNs with a typical RNN architecture. \n",
    "\n",
    "We will be exploring a lot of different model types in this notebook. To keep track of your results, record the accuracy on the validation set in the table here. In machine learning there are rarely any \"one-size-fits-all\" so feel free to test out different hyperparameters (e.g. train steps, regularization, learning rates, optimizers, batch size) for each of the models. Keep track of your model performance in the chart below.\n",
    "\n",
    "|  Model   | Validation Accuracy  |\n",
    "|----------|:---------------:|\n",
    "| Baseline |    0.295         |\n",
    "| Linear   |    --        |\n",
    "| DNN      |    --         |\n",
    "| 1-d CNN  |    --         |\n",
    "| simple RNN  |    --         |\n",
    "| multi-layer RNN  |    --         |\n",
    "| RNN using CNN features  |    --         |\n",
    "| CNN using RNN features  |    --         |"
   ]
  },
  {
   "cell_type": "markdown",
   "metadata": {},
   "source": [
    "## Load necessary libraries and set up environment variables"
   ]
  },
  {
   "cell_type": "code",
   "execution_count": 1,
   "metadata": {},
   "outputs": [],
   "source": [
    "import os\n",
    "\n",
    "import matplotlib as mpl\n",
    "import matplotlib.pyplot as plt\n",
    "import numpy as np\n",
    "import pandas as pd\n",
    "import tensorflow as tf\n",
    "from google.cloud import bigquery\n",
    "from tensorflow.keras.callbacks import ModelCheckpoint, TensorBoard\n",
    "from tensorflow.keras.layers import (\n",
    "    GRU,\n",
    "    LSTM,\n",
    "    RNN,\n",
    "    Bidirectional,\n",
    "    Conv1D,\n",
    "    Dense,\n",
    "    MaxPool1D,\n",
    "    Reshape,\n",
    ")\n",
    "from tensorflow.keras.models import Sequential\n",
    "from tensorflow.keras.optimizers import Adam\n",
    "from tensorflow.keras.utils import to_categorical\n",
    "\n",
    "# To plot pretty figures\n",
    "%matplotlib inline\n",
    "mpl.rc(\"axes\", labelsize=14)\n",
    "mpl.rc(\"xtick\", labelsize=12)\n",
    "mpl.rc(\"ytick\", labelsize=12)\n",
    "\n",
    "# For reproducible results.\n",
    "from numpy.random import seed\n",
    "\n",
    "seed(1)\n",
    "tf.random.set_seed(2)"
   ]
  },
  {
   "cell_type": "code",
   "execution_count": 2,
   "metadata": {},
   "outputs": [
    {
     "name": "stdout",
     "output_type": "stream",
     "text": [
      "env: PROJECT=qwiklabs-asl-03-5d5c0ba6f6d6\n",
      "env: BUCKET=qwiklabs-asl-03-5d5c0ba6f6d6\n",
      "env: REGION=\"us-central1\"\n"
     ]
    }
   ],
   "source": [
    "PROJECT = !(gcloud config get-value core/project)\n",
    "PROJECT = PROJECT[0]\n",
    "%env PROJECT = {PROJECT}\n",
    "%env BUCKET = {PROJECT}\n",
    "%env REGION = \"us-central1\""
   ]
  },
  {
   "cell_type": "markdown",
   "metadata": {},
   "source": [
    "## Explore time series data\n",
    "\n",
    "We'll start by pulling a small sample of the time series data from Big Query and write some helper functions to clean up the data for modeling. We'll use the data from the `percent_change_sp500` table in BigQuery. The `close_values_prior_260` column contains the close values for any given stock for the previous 260 days. "
   ]
  },
  {
   "cell_type": "code",
   "execution_count": null,
   "metadata": {},
   "outputs": [],
   "source": [
    "%%time\n",
    "bq = bigquery.Client(project=PROJECT)\n",
    "\n",
    "bq_query = \"\"\"\n",
    "#standardSQL\n",
    "SELECT\n",
    "  symbol,\n",
    "  Date,\n",
    "  direction,\n",
    "  close_values_prior_260\n",
    "FROM\n",
    "  `stock_market.eps_percent_change_sp500`\n",
    "LIMIT\n",
    "  100\n",
    "\"\"\"\n",
    "\n",
    "df_stock_raw = bq.query(bq_query).to_dataframe()"
   ]
  },
  {
   "cell_type": "code",
   "execution_count": null,
   "metadata": {},
   "outputs": [],
   "source": [
    "df_stock_raw.head()"
   ]
  },
  {
   "cell_type": "markdown",
   "metadata": {},
   "source": [
    "The function `clean_data` below does three things:\n",
    " 1. First, we'll remove any inf or NA values\n",
    " 2. Next, we parse the `Date` field to read it as a string.\n",
    " 3. Lastly, we convert the label `direction` into a numeric quantity, mapping 'DOWN' to 0, 'STAY' to 1 and 'UP' to 2. "
   ]
  },
  {
   "cell_type": "code",
   "execution_count": null,
   "metadata": {},
   "outputs": [],
   "source": [
    "def clean_data(input_df):\n",
    "    \"\"\"Cleans data to prepare for training.\n",
    "\n",
    "    Args:\n",
    "        input_df: Pandas dataframe.\n",
    "    Returns:\n",
    "        Pandas dataframe.\n",
    "    \"\"\"\n",
    "    df = input_df.copy()\n",
    "\n",
    "    # TF doesn't accept datetimes in DataFrame.\n",
    "    df[\"Date\"] = pd.to_datetime(df[\"Date\"], errors=\"coerce\")\n",
    "    df[\"Date\"] = df[\"Date\"].dt.strftime(\"%Y-%m-%d\")\n",
    "\n",
    "    # TF requires numeric label.\n",
    "    df[\"direction_numeric\"] = df[\"direction\"].apply(\n",
    "        lambda x: {\"DOWN\": 0, \"STAY\": 1, \"UP\": 2}[x]\n",
    "    )\n",
    "    return df"
   ]
  },
  {
   "cell_type": "code",
   "execution_count": null,
   "metadata": {},
   "outputs": [],
   "source": [
    "df_stock = clean_data(df_stock_raw)"
   ]
  },
  {
   "cell_type": "code",
   "execution_count": null,
   "metadata": {},
   "outputs": [],
   "source": [
    "df_stock.head()"
   ]
  },
  {
   "cell_type": "markdown",
   "metadata": {},
   "source": [
    "## Read data and preprocessing\n",
    "\n",
    "Before we begin modeling, we'll preprocess our features by scaling to the z-score. This will ensure that the range of the feature values being fed to the model are comparable and should help with convergence during gradient descent."
   ]
  },
  {
   "cell_type": "code",
   "execution_count": 3,
   "metadata": {},
   "outputs": [],
   "source": [
    "STOCK_HISTORY_COLUMN = \"close_values_prior_260\"\n",
    "COL_NAMES = [\"day_\" + str(day) for day in range(0, 260)]\n",
    "LABEL = \"direction_numeric\""
   ]
  },
  {
   "cell_type": "code",
   "execution_count": null,
   "metadata": {},
   "outputs": [],
   "source": [
    "def _scale_features(df):\n",
    "    \"\"\"z-scale feature columns of Pandas dataframe.\n",
    "\n",
    "    Args:\n",
    "        features: Pandas dataframe.\n",
    "    Returns:\n",
    "        Pandas dataframe with each column standardized according to the\n",
    "        values in that column.\n",
    "    \"\"\"\n",
    "    avg = df.mean()\n",
    "    std = df.std()\n",
    "    return (df - avg) / std\n",
    "\n",
    "\n",
    "def create_features(df, label_name):\n",
    "    \"\"\"Create modeling features and label from Pandas dataframe.\n",
    "\n",
    "    Args:\n",
    "        df: Pandas dataframe.\n",
    "        label_name: str, the column name of the label.\n",
    "    Returns:\n",
    "        Pandas dataframe\n",
    "    \"\"\"\n",
    "    # Expand 1 column containing a list of close prices to 260 columns.\n",
    "    time_series_features = df[STOCK_HISTORY_COLUMN].apply(pd.Series)\n",
    "\n",
    "    # Rename columns.\n",
    "    time_series_features.columns = COL_NAMES\n",
    "    time_series_features = _scale_features(time_series_features)\n",
    "\n",
    "    # Concat time series features with static features and label.\n",
    "    label_column = df[LABEL]\n",
    "\n",
    "    return pd.concat([time_series_features, label_column], axis=1)"
   ]
  },
  {
   "cell_type": "code",
   "execution_count": null,
   "metadata": {},
   "outputs": [],
   "source": [
    "df_features = create_features(df_stock, LABEL)"
   ]
  },
  {
   "cell_type": "code",
   "execution_count": null,
   "metadata": {},
   "outputs": [],
   "source": [
    "df_features.head()"
   ]
  },
  {
   "cell_type": "markdown",
   "metadata": {},
   "source": [
    "Let's plot a few examples and see that the preprocessing steps were implemented correctly."
   ]
  },
  {
   "cell_type": "code",
   "execution_count": null,
   "metadata": {},
   "outputs": [],
   "source": [
    "ix_to_plot = [0, 1, 9, 5]\n",
    "fig, ax = plt.subplots(1, 1, figsize=(15, 8))\n",
    "for ix in ix_to_plot:\n",
    "    label = df_features[\"direction_numeric\"].iloc[ix]\n",
    "    example = df_features[COL_NAMES].iloc[ix]\n",
    "    ax = example.plot(label=label, ax=ax)\n",
    "    ax.set_ylabel(\"scaled price\")\n",
    "    ax.set_xlabel(\"prior days\")\n",
    "    ax.legend()"
   ]
  },
  {
   "cell_type": "markdown",
   "metadata": {},
   "source": [
    "### Make train-eval-test split\n",
    "\n",
    "Next, we'll make repeatable splits for our train/validation/test datasets and save these datasets to local csv files. The query below will take a subsample of the entire dataset and then create a 70-15-15 split for the train/validation/test sets. "
   ]
  },
  {
   "cell_type": "code",
   "execution_count": null,
   "metadata": {},
   "outputs": [],
   "source": [
    "def _create_split(phase):\n",
    "    \"\"\"Create string to produce train/valid/test splits for a SQL query.\n",
    "\n",
    "    Args:\n",
    "        phase: str, either TRAIN, VALID, or TEST.\n",
    "    Returns:\n",
    "        String.\n",
    "    \"\"\"\n",
    "    floor, ceiling = \"2002-11-01\", \"2010-07-01\"\n",
    "    if phase == \"VALID\":\n",
    "        floor, ceiling = \"2010-07-01\", \"2011-09-01\"\n",
    "    elif phase == \"TEST\":\n",
    "        floor, ceiling = \"2011-09-01\", \"2012-11-30\"\n",
    "    return \"\"\"\n",
    "    WHERE Date >= '{}'\n",
    "    AND Date < '{}'\n",
    "    \"\"\".format(\n",
    "        floor, ceiling\n",
    "    )\n",
    "\n",
    "\n",
    "def create_query(phase):\n",
    "    \"\"\"Create SQL query to create train/valid/test splits on subsample.\n",
    "\n",
    "    Args:\n",
    "        phase: str, either TRAIN, VALID, or TEST.\n",
    "        sample_size: str, amount of data to take for subsample.\n",
    "    Returns:\n",
    "        String.\n",
    "    \"\"\"\n",
    "    basequery = \"\"\"\n",
    "    #standardSQL\n",
    "    SELECT\n",
    "      symbol,\n",
    "      Date,\n",
    "      direction,\n",
    "      close_values_prior_260\n",
    "    FROM\n",
    "      `stock_market.eps_percent_change_sp500`\n",
    "    \"\"\"\n",
    "\n",
    "    return basequery + _create_split(phase)"
   ]
  },
  {
   "cell_type": "code",
   "execution_count": null,
   "metadata": {},
   "outputs": [],
   "source": [
    "bq = bigquery.Client(project=PROJECT)\n",
    "\n",
    "for phase in [\"TRAIN\", \"VALID\", \"TEST\"]:\n",
    "    # 1. Create query string\n",
    "    query_string = create_query(phase)\n",
    "    # 2. Load results into DataFrame\n",
    "    df = bq.query(query_string).to_dataframe()\n",
    "\n",
    "    # 3. Clean, preprocess dataframe\n",
    "    df = clean_data(df)\n",
    "    df = create_features(df, label_name=\"direction_numeric\")\n",
    "\n",
    "    # 3. Write DataFrame to CSV\n",
    "    if not os.path.exists(\"../data\"):\n",
    "        os.mkdir(\"../data\")\n",
    "    df.to_csv(\n",
    "        f\"../data/stock-{phase.lower()}.csv\",\n",
    "        index_label=False,\n",
    "        index=False,\n",
    "    )\n",
    "    print(\n",
    "        \"Wrote {} lines to {}\".format(\n",
    "            len(df), f\"../data/stock-{phase.lower()}.csv\"\n",
    "        )\n",
    "    )"
   ]
  },
  {
   "cell_type": "code",
   "execution_count": 4,
   "metadata": {},
   "outputs": [
    {
     "name": "stdout",
     "output_type": "stream",
     "text": [
      "total 81436\n",
      "drwxr-xr-x 2 jupyter jupyter     4096 Jul 11 18:42 \u001b[0m\u001b[01;34m.\u001b[0m/\n",
      "drwxr-xr-x 7 jupyter jupyter     4096 Jul 11 18:42 \u001b[01;34m..\u001b[0m/\n",
      "-rw-r--r-- 1 jupyter jupyter 12796169 Jul 11 18:42 stock-test.csv\n",
      "-rw-r--r-- 1 jupyter jupyter 58125287 Jul 11 18:42 stock-train.csv\n",
      "-rw-r--r-- 1 jupyter jupyter 12453929 Jul 11 18:42 stock-valid.csv\n"
     ]
    }
   ],
   "source": [
    "ls -la ../data"
   ]
  },
  {
   "cell_type": "markdown",
   "metadata": {},
   "source": [
    "## Modeling\n",
    "\n",
    "For experimentation purposes, we'll train various models using data we can fit in memory using the `.csv` files we created above. "
   ]
  },
  {
   "cell_type": "code",
   "execution_count": 5,
   "metadata": {},
   "outputs": [],
   "source": [
    "N_TIME_STEPS = 260\n",
    "N_LABELS = 3\n",
    "\n",
    "Xtrain = pd.read_csv(\"../data/stock-train.csv\")\n",
    "Xvalid = pd.read_csv(\"../data/stock-valid.csv\")\n",
    "\n",
    "ytrain = Xtrain.pop(LABEL)\n",
    "yvalid = Xvalid.pop(LABEL)\n",
    "\n",
    "ytrain_categorical = to_categorical(ytrain.values)\n",
    "yvalid_categorical = to_categorical(yvalid.values)"
   ]
  },
  {
   "cell_type": "markdown",
   "metadata": {},
   "source": [
    "To monitor training progress and compare evaluation metrics for different models, we'll use the function below to plot metrics captured from the training job such as training and validation loss or accuracy."
   ]
  },
  {
   "cell_type": "code",
   "execution_count": 8,
   "metadata": {},
   "outputs": [
    {
     "data": {
      "text/html": [
       "<div>\n",
       "<style scoped>\n",
       "    .dataframe tbody tr th:only-of-type {\n",
       "        vertical-align: middle;\n",
       "    }\n",
       "\n",
       "    .dataframe tbody tr th {\n",
       "        vertical-align: top;\n",
       "    }\n",
       "\n",
       "    .dataframe thead th {\n",
       "        text-align: right;\n",
       "    }\n",
       "</style>\n",
       "<table border=\"1\" class=\"dataframe\">\n",
       "  <thead>\n",
       "    <tr style=\"text-align: right;\">\n",
       "      <th></th>\n",
       "      <th>day_0</th>\n",
       "      <th>day_1</th>\n",
       "      <th>day_2</th>\n",
       "      <th>day_3</th>\n",
       "      <th>day_4</th>\n",
       "      <th>day_5</th>\n",
       "      <th>day_6</th>\n",
       "      <th>day_7</th>\n",
       "      <th>day_8</th>\n",
       "      <th>day_9</th>\n",
       "      <th>...</th>\n",
       "      <th>day_250</th>\n",
       "      <th>day_251</th>\n",
       "      <th>day_252</th>\n",
       "      <th>day_253</th>\n",
       "      <th>day_254</th>\n",
       "      <th>day_255</th>\n",
       "      <th>day_256</th>\n",
       "      <th>day_257</th>\n",
       "      <th>day_258</th>\n",
       "      <th>day_259</th>\n",
       "    </tr>\n",
       "  </thead>\n",
       "  <tbody>\n",
       "    <tr>\n",
       "      <th>0</th>\n",
       "      <td>-0.144946</td>\n",
       "      <td>-0.135877</td>\n",
       "      <td>-0.146586</td>\n",
       "      <td>-0.149944</td>\n",
       "      <td>-0.151658</td>\n",
       "      <td>-0.149648</td>\n",
       "      <td>-0.150216</td>\n",
       "      <td>-0.151742</td>\n",
       "      <td>-0.135856</td>\n",
       "      <td>-0.127655</td>\n",
       "      <td>...</td>\n",
       "      <td>-0.175549</td>\n",
       "      <td>-0.175757</td>\n",
       "      <td>-0.164736</td>\n",
       "      <td>-0.172003</td>\n",
       "      <td>-0.183098</td>\n",
       "      <td>-0.192609</td>\n",
       "      <td>-0.185822</td>\n",
       "      <td>-0.213345</td>\n",
       "      <td>-0.216334</td>\n",
       "      <td>-0.217794</td>\n",
       "    </tr>\n",
       "    <tr>\n",
       "      <th>1</th>\n",
       "      <td>-0.458200</td>\n",
       "      <td>-0.455591</td>\n",
       "      <td>-0.449417</td>\n",
       "      <td>-0.435703</td>\n",
       "      <td>-0.440224</td>\n",
       "      <td>-0.451866</td>\n",
       "      <td>-0.436883</td>\n",
       "      <td>-0.506776</td>\n",
       "      <td>-0.502588</td>\n",
       "      <td>-0.502273</td>\n",
       "      <td>...</td>\n",
       "      <td>-0.294629</td>\n",
       "      <td>-0.291526</td>\n",
       "      <td>-0.280120</td>\n",
       "      <td>-0.279749</td>\n",
       "      <td>-0.277877</td>\n",
       "      <td>-0.275013</td>\n",
       "      <td>-0.273712</td>\n",
       "      <td>-0.272388</td>\n",
       "      <td>-0.272866</td>\n",
       "      <td>-0.275396</td>\n",
       "    </tr>\n",
       "    <tr>\n",
       "      <th>2</th>\n",
       "      <td>-0.499667</td>\n",
       "      <td>-0.462806</td>\n",
       "      <td>-0.493355</td>\n",
       "      <td>-0.533280</td>\n",
       "      <td>-0.523828</td>\n",
       "      <td>-0.526971</td>\n",
       "      <td>-0.543039</td>\n",
       "      <td>-0.578633</td>\n",
       "      <td>-0.543261</td>\n",
       "      <td>-0.551535</td>\n",
       "      <td>...</td>\n",
       "      <td>-0.454946</td>\n",
       "      <td>-0.447208</td>\n",
       "      <td>-0.449216</td>\n",
       "      <td>-0.449001</td>\n",
       "      <td>-0.425582</td>\n",
       "      <td>-0.423695</td>\n",
       "      <td>-0.406763</td>\n",
       "      <td>-0.405733</td>\n",
       "      <td>-0.396572</td>\n",
       "      <td>-0.396778</td>\n",
       "    </tr>\n",
       "    <tr>\n",
       "      <th>3</th>\n",
       "      <td>-0.391268</td>\n",
       "      <td>-0.341053</td>\n",
       "      <td>-0.369879</td>\n",
       "      <td>-0.386690</td>\n",
       "      <td>-0.375050</td>\n",
       "      <td>-0.316947</td>\n",
       "      <td>-0.345732</td>\n",
       "      <td>-0.349629</td>\n",
       "      <td>-0.341235</td>\n",
       "      <td>-0.357845</td>\n",
       "      <td>...</td>\n",
       "      <td>-0.647680</td>\n",
       "      <td>-0.645668</td>\n",
       "      <td>-0.649038</td>\n",
       "      <td>-0.648785</td>\n",
       "      <td>-0.642600</td>\n",
       "      <td>-0.641747</td>\n",
       "      <td>-0.644087</td>\n",
       "      <td>-0.642570</td>\n",
       "      <td>-0.634895</td>\n",
       "      <td>-0.637778</td>\n",
       "    </tr>\n",
       "    <tr>\n",
       "      <th>4</th>\n",
       "      <td>-0.144946</td>\n",
       "      <td>-0.135877</td>\n",
       "      <td>-0.146586</td>\n",
       "      <td>-0.149944</td>\n",
       "      <td>-0.151658</td>\n",
       "      <td>-0.149648</td>\n",
       "      <td>-0.150216</td>\n",
       "      <td>-0.151742</td>\n",
       "      <td>-0.135856</td>\n",
       "      <td>-0.127655</td>\n",
       "      <td>...</td>\n",
       "      <td>-0.175549</td>\n",
       "      <td>-0.175757</td>\n",
       "      <td>-0.164736</td>\n",
       "      <td>-0.172003</td>\n",
       "      <td>-0.183098</td>\n",
       "      <td>-0.192609</td>\n",
       "      <td>-0.185822</td>\n",
       "      <td>-0.213345</td>\n",
       "      <td>-0.216334</td>\n",
       "      <td>-0.217794</td>\n",
       "    </tr>\n",
       "  </tbody>\n",
       "</table>\n",
       "<p>5 rows × 260 columns</p>\n",
       "</div>"
      ],
      "text/plain": [
       "      day_0     day_1     day_2     day_3     day_4     day_5     day_6  \\\n",
       "0 -0.144946 -0.135877 -0.146586 -0.149944 -0.151658 -0.149648 -0.150216   \n",
       "1 -0.458200 -0.455591 -0.449417 -0.435703 -0.440224 -0.451866 -0.436883   \n",
       "2 -0.499667 -0.462806 -0.493355 -0.533280 -0.523828 -0.526971 -0.543039   \n",
       "3 -0.391268 -0.341053 -0.369879 -0.386690 -0.375050 -0.316947 -0.345732   \n",
       "4 -0.144946 -0.135877 -0.146586 -0.149944 -0.151658 -0.149648 -0.150216   \n",
       "\n",
       "      day_7     day_8     day_9  ...   day_250   day_251   day_252   day_253  \\\n",
       "0 -0.151742 -0.135856 -0.127655  ... -0.175549 -0.175757 -0.164736 -0.172003   \n",
       "1 -0.506776 -0.502588 -0.502273  ... -0.294629 -0.291526 -0.280120 -0.279749   \n",
       "2 -0.578633 -0.543261 -0.551535  ... -0.454946 -0.447208 -0.449216 -0.449001   \n",
       "3 -0.349629 -0.341235 -0.357845  ... -0.647680 -0.645668 -0.649038 -0.648785   \n",
       "4 -0.151742 -0.135856 -0.127655  ... -0.175549 -0.175757 -0.164736 -0.172003   \n",
       "\n",
       "    day_254   day_255   day_256   day_257   day_258   day_259  \n",
       "0 -0.183098 -0.192609 -0.185822 -0.213345 -0.216334 -0.217794  \n",
       "1 -0.277877 -0.275013 -0.273712 -0.272388 -0.272866 -0.275396  \n",
       "2 -0.425582 -0.423695 -0.406763 -0.405733 -0.396572 -0.396778  \n",
       "3 -0.642600 -0.641747 -0.644087 -0.642570 -0.634895 -0.637778  \n",
       "4 -0.183098 -0.192609 -0.185822 -0.213345 -0.216334 -0.217794  \n",
       "\n",
       "[5 rows x 260 columns]"
      ]
     },
     "execution_count": 8,
     "metadata": {},
     "output_type": "execute_result"
    }
   ],
   "source": [
    "Xtrain.head()"
   ]
  },
  {
   "cell_type": "code",
   "execution_count": 10,
   "metadata": {},
   "outputs": [
    {
     "data": {
      "text/plain": [
       "0        2\n",
       "1        2\n",
       "2        2\n",
       "3        2\n",
       "4        2\n",
       "        ..\n",
       "11159    1\n",
       "11160    1\n",
       "11161    1\n",
       "11162    1\n",
       "11163    1\n",
       "Name: direction_numeric, Length: 11164, dtype: int64"
      ]
     },
     "execution_count": 10,
     "metadata": {},
     "output_type": "execute_result"
    }
   ],
   "source": [
    "ytrain"
   ]
  },
  {
   "cell_type": "code",
   "execution_count": 11,
   "metadata": {},
   "outputs": [],
   "source": [
    "def plot_curves(train_data, val_data, label=\"Accuracy\"):\n",
    "    \"\"\"Plot training and validation metrics on single axis.\n",
    "\n",
    "    Args:\n",
    "        train_data: list, metrics obtrained from training data.\n",
    "        val_data: list, metrics obtained from validation data.\n",
    "        label: str, title and label for plot.\n",
    "    Returns:\n",
    "        Matplotlib plot.\n",
    "    \"\"\"\n",
    "    plt.plot(\n",
    "        np.arange(len(train_data)) + 0.5,\n",
    "        train_data,\n",
    "        \"b.-\",\n",
    "        label=\"Training \" + label,\n",
    "    )\n",
    "    plt.plot(\n",
    "        np.arange(len(val_data)) + 1,\n",
    "        val_data,\n",
    "        \"r.-\",\n",
    "        label=\"Validation \" + label,\n",
    "    )\n",
    "    plt.gca().xaxis.set_major_locator(mpl.ticker.MaxNLocator(integer=True))\n",
    "    plt.legend(fontsize=14)\n",
    "    plt.xlabel(\"Epochs\")\n",
    "    plt.ylabel(label)\n",
    "    plt.grid(True)"
   ]
  },
  {
   "cell_type": "markdown",
   "metadata": {},
   "source": [
    "### Baseline\n",
    "\n",
    "Before we begin modeling in keras, let's create a benchmark using a simple heuristic. Let's see what kind of accuracy we would get on the validation set if we predict the majority class of the training set. "
   ]
  },
  {
   "cell_type": "code",
   "execution_count": 12,
   "metadata": {},
   "outputs": [
    {
     "data": {
      "text/plain": [
       "0.29490392648287383"
      ]
     },
     "execution_count": 12,
     "metadata": {},
     "output_type": "execute_result"
    }
   ],
   "source": [
    "sum(yvalid == ytrain.value_counts().idxmax()) / yvalid.shape[0]"
   ]
  },
  {
   "cell_type": "markdown",
   "metadata": {},
   "source": [
    "Ok. So just naively guessing the most common outcome `UP` will give about 29.5% accuracy on the validation set. "
   ]
  },
  {
   "cell_type": "markdown",
   "metadata": {},
   "source": [
    "### Linear model\n",
    "\n",
    "We'll start with a simple linear model, mapping our sequential input to a single fully dense layer. "
   ]
  },
  {
   "cell_type": "markdown",
   "metadata": {},
   "source": [
    "**Lab Task #1a:** In the cell below, create a linear model using the [keras sequential API](https://www.tensorflow.org/api_docs/python/tf/keras/Sequential) which maps the sequential input to a single dense fully connected layer."
   ]
  },
  {
   "cell_type": "code",
   "execution_count": 18,
   "metadata": {},
   "outputs": [],
   "source": [
    "# TODO 1a\n",
    "model = Sequential()\n",
    "\n",
    "model.add(\n",
    "    # TODO: Your code goes here.\n",
    "    Dense(\n",
    "        units=N_LABELS,\n",
    "        activation=\"softmax\",\n",
    "        kernel_regularizer=tf.keras.regularizers.l1(l=0.1),\n",
    "    )\n",
    ")\n",
    "\n",
    "model.compile(\n",
    "    # TODO: Your code goes here.\n",
    "    optimizer=Adam(lr=0.01),\n",
    "    loss=\"categorical_crossentropy\",\n",
    "    metrics=[\"accuracy\"],\n",
    ")\n",
    "\n",
    "history = model.fit(\n",
    "    # TODO: Your code goes here.\n",
    "    x=Xtrain.values,\n",
    "    y=ytrain_categorical,\n",
    "    batch_size=Xtrain.shape[0],\n",
    "    validation_data=(Xtrain.values, ytrain_categorical),\n",
    "    epochs=30,\n",
    "    verbose=0,\n",
    ")"
   ]
  },
  {
   "cell_type": "code",
   "execution_count": 19,
   "metadata": {},
   "outputs": [
    {
     "data": {
      "image/png": "[encoded data removed]",
      "text/plain": [
       "<Figure size 432x288 with 1 Axes>"
      ]
     },
     "metadata": {
      "needs_background": "light"
     },
     "output_type": "display_data"
    }
   ],
   "source": [
    "plot_curves(history.history[\"loss\"], history.history[\"val_loss\"], label=\"Loss\")"
   ]
  },
  {
   "cell_type": "code",
   "execution_count": 20,
   "metadata": {},
   "outputs": [
    {
     "data": {
      "image/png": "[encoded data removed]",
      "text/plain": [
       "<Figure size 432x288 with 1 Axes>"
      ]
     },
     "metadata": {
      "needs_background": "light"
     },
     "output_type": "display_data"
    }
   ],
   "source": [
    "plot_curves(\n",
    "    history.history[\"accuracy\"],\n",
    "    history.history[\"val_accuracy\"],\n",
    "    label=\"Accuracy\",\n",
    ")"
   ]
  },
  {
   "cell_type": "markdown",
   "metadata": {},
   "source": [
    "The accuracy seems to level out pretty quickly. To report the accuracy, we'll average the accuracy on the validation set across the last few epochs of training."
   ]
  },
  {
   "cell_type": "code",
   "execution_count": 21,
   "metadata": {},
   "outputs": [
    {
     "data": {
      "text/plain": [
       "0.3533321380615234"
      ]
     },
     "execution_count": 21,
     "metadata": {},
     "output_type": "execute_result"
    }
   ],
   "source": [
    "np.mean(history.history[\"val_accuracy\"][-5:])"
   ]
  },
  {
   "cell_type": "markdown",
   "metadata": {},
   "source": [
    "### Deep Neural Network"
   ]
  },
  {
   "cell_type": "markdown",
   "metadata": {},
   "source": [
    "The linear model is an improvement on our naive benchmark. Perhaps we can do better with a more complicated model. Next, we'll create a deep neural network with keras. We'll experiment with a two layer DNN here but feel free to try a more complex model or add any other additional techniques to try an improve your performance. "
   ]
  },
  {
   "cell_type": "markdown",
   "metadata": {},
   "source": [
    "**Lab Task #1b:** In the cell below, create a deep neural network in keras to model `direction_numeric`. Experiment with different activation functions or add regularization to see how much you can improve performance. "
   ]
  },
  {
   "cell_type": "code",
   "execution_count": 124,
   "metadata": {},
   "outputs": [],
   "source": [
    "# TODO 1b\n",
    "model = Sequential()\n",
    "\n",
    "# TODO: Your code goes here.\n",
    "dnn_hidden_units = [16, 64, 32, 8]\n",
    "for idx, layer in enumerate(dnn_hidden_units):\n",
    "    model.add(Dense(units=layer, activation=\"relu\"))\n",
    "    # if idx == 1:\n",
    "    #     model.add(tf.keras.layers.Dropout(0.2))\n",
    "\n",
    "model.add(\n",
    "    Dense(\n",
    "        units=N_LABELS,\n",
    "        activation=\"softmax\",\n",
    "        kernel_regularizer=tf.keras.regularizers.l1(l=0.1),\n",
    "    )\n",
    ")\n",
    "\n",
    "model.compile(\n",
    "    optimizer=Adam(),  # learning_rate=0.01),\n",
    "    loss=\"categorical_crossentropy\",\n",
    "    metrics=[\"accuracy\"],\n",
    ")\n",
    "\n",
    "history = model.fit(\n",
    "    x=Xtrain.values,\n",
    "    y=ytrain_categorical,\n",
    "    batch_size=Xtrain.shape[0],\n",
    "    validation_data=(Xtrain.values, ytrain_categorical),\n",
    "    epochs=30,\n",
    "    verbose=0,\n",
    ")"
   ]
  },
  {
   "cell_type": "code",
   "execution_count": 125,
   "metadata": {},
   "outputs": [
    {
     "data": {
      "image/png": "[encoded data removed]",
      "text/plain": [
       "<Figure size 432x288 with 1 Axes>"
      ]
     },
     "metadata": {
      "needs_background": "light"
     },
     "output_type": "display_data"
    }
   ],
   "source": [
    "plot_curves(history.history[\"loss\"], history.history[\"val_loss\"], label=\"Loss\")"
   ]
  },
  {
   "cell_type": "code",
   "execution_count": 126,
   "metadata": {},
   "outputs": [
    {
     "data": {
      "image/png": "[encoded data removed]",
      "text/plain": [
       "<Figure size 432x288 with 1 Axes>"
      ]
     },
     "metadata": {
      "needs_background": "light"
     },
     "output_type": "display_data"
    }
   ],
   "source": [
    "plot_curves(\n",
    "    history.history[\"accuracy\"],\n",
    "    history.history[\"val_accuracy\"],\n",
    "    label=\"Accuracy\",\n",
    ")"
   ]
  },
  {
   "cell_type": "code",
   "execution_count": 127,
   "metadata": {},
   "outputs": [
    {
     "data": {
      "text/plain": [
       "0.39116803407669065"
      ]
     },
     "execution_count": 127,
     "metadata": {},
     "output_type": "execute_result"
    }
   ],
   "source": [
    "np.mean(history.history[\"val_accuracy\"][-5:])"
   ]
  },
  {
   "cell_type": "markdown",
   "metadata": {},
   "source": [
    "### Convolutional Neural Network\n",
    "\n",
    "The DNN does slightly better. Let's see how a convolutional neural network performs. \n",
    "\n",
    "A 1-dimensional convolutional can be useful for extracting features from sequential data or deriving features from shorter, fixed-length segments of the data set. Check out the documentation for how to implement a [Conv1d in Tensorflow](https://www.tensorflow.org/api_docs/python/tf/keras/layers/Conv1D). Max pooling is a downsampling strategy commonly used in conjunction with convolutional neural networks. Next, we'll build a CNN model in keras using the `Conv1D` to create convolution layers and `MaxPool1D` to perform max pooling before passing to a fully connected dense layer. "
   ]
  },
  {
   "cell_type": "markdown",
   "metadata": {},
   "source": [
    "**Lab Task #1b:** Create 1D Convolutional network in keras. You can experiment with different numbers of convolutional layers, filter sizes, kernals sizes and strides, pooling layers etc. After passing through the convolutional layers, flatten the result and pass through a deep neural network to complete the model. "
   ]
  },
  {
   "cell_type": "code",
   "execution_count": 131,
   "metadata": {},
   "outputs": [],
   "source": [
    "# TODO 1c\n",
    "model = Sequential()\n",
    "\n",
    "# Convolutional layer(s)\n",
    "# TODO: Your code goes here.\n",
    "model.add(Reshape(target_shape=[N_TIME_STEPS, 1]))\n",
    "model.add(\n",
    "    Conv1D(\n",
    "        filters=5,\n",
    "        kernel_size=5,\n",
    "        strides=2,\n",
    "        padding=\"valid\",\n",
    "        input_shape=[None, 1],\n",
    "    )\n",
    ")\n",
    "model.add(MaxPool1D(pool_size=2, padding=\"valid\", strides=None))\n",
    "\n",
    "\n",
    "# Flatten the result and pass through DNN.\n",
    "# TODO: Your code goes here.\n",
    "model.add(tf.keras.layers.Flatten())\n",
    "model.add(Dense(units=N_TIME_STEPS // 4, activation=\"relu\"))\n",
    "\n",
    "model.add(\n",
    "    Dense(\n",
    "        units=N_LABELS,\n",
    "        activation=\"softmax\",\n",
    "        kernel_regularizer=tf.keras.regularizers.l1(l=0.01),\n",
    "    )\n",
    ")\n",
    "\n",
    "# Compile your model and train\n",
    "# TODO: Your code goes here.\n",
    "\n",
    "model.compile(\n",
    "    optimizer=Adam(), loss=\"categorical_crossentropy\", metrics=[\"accuracy\"]\n",
    ")\n",
    "\n",
    "history = model.fit(\n",
    "    x=Xtrain.values,\n",
    "    y=ytrain_categorical,\n",
    "    batch_size=Xtrain.shape[0],\n",
    "    validation_data=(Xvalid.values, yvalid_categorical),\n",
    "    epochs=10,\n",
    "    verbose=0,\n",
    ")"
   ]
  },
  {
   "cell_type": "code",
   "execution_count": 132,
   "metadata": {},
   "outputs": [
    {
     "data": {
      "image/png": "[encoded data removed]",
      "text/plain": [
       "<Figure size 432x288 with 1 Axes>"
      ]
     },
     "metadata": {
      "needs_background": "light"
     },
     "output_type": "display_data"
    }
   ],
   "source": [
    "plot_curves(history.history[\"loss\"], history.history[\"val_loss\"], label=\"Loss\")"
   ]
  },
  {
   "cell_type": "code",
   "execution_count": 133,
   "metadata": {},
   "outputs": [
    {
     "data": {
      "image/png": "[encoded data removed]",
      "text/plain": [
       "<Figure size 432x288 with 1 Axes>"
      ]
     },
     "metadata": {
      "needs_background": "light"
     },
     "output_type": "display_data"
    }
   ],
   "source": [
    "plot_curves(\n",
    "    history.history[\"accuracy\"],\n",
    "    history.history[\"val_accuracy\"],\n",
    "    label=\"Accuracy\",\n",
    ")"
   ]
  },
  {
   "cell_type": "code",
   "execution_count": 134,
   "metadata": {},
   "outputs": [
    {
     "data": {
      "text/plain": [
       "0.3279866397380829"
      ]
     },
     "execution_count": 134,
     "metadata": {},
     "output_type": "execute_result"
    }
   ],
   "source": [
    "np.mean(history.history[\"val_accuracy\"][-5:])"
   ]
  },
  {
   "cell_type": "markdown",
   "metadata": {},
   "source": [
    "### Recurrent Neural Network\n",
    "\n",
    "RNNs are particularly well-suited for learning sequential data. They retain state information from one iteration to the next by feeding the output from one cell as input for the next step. In the cell below, we'll build a RNN model in keras. The final state of the RNN is captured and then passed through a fully connected layer to produce a prediction."
   ]
  },
  {
   "cell_type": "markdown",
   "metadata": {},
   "source": [
    "**Lab Task #2a:** Create an RNN model in keras. You can try different types of RNN cells like [LSTMs](https://www.tensorflow.org/api_docs/python/tf/keras/layers/LSTM), \n",
    "[GRUs](https://www.tensorflow.org/api_docs/python/tf/keras/layers/GRU) or basic [RNN cell](https://www.tensorflow.org/api_docs/python/tf/keras/layers/SimpleRNN). Experiment with different cell sizes, activation functions, regularization, etc."
   ]
  },
  {
   "cell_type": "code",
   "execution_count": null,
   "metadata": {},
   "outputs": [],
   "source": [
    "# TODO 2a\n",
    "model = Sequential()\n",
    "\n",
    "# Reshape inputs to pass through RNN layer.\n",
    "# TODO: Your code goes here.\n",
    "\n",
    "# Compile your model and train\n",
    "# TODO: Your code goes here."
   ]
  },
  {
   "cell_type": "code",
   "execution_count": null,
   "metadata": {},
   "outputs": [],
   "source": [
    "plot_curves(history.history[\"loss\"], history.history[\"val_loss\"], label=\"Loss\")"
   ]
  },
  {
   "cell_type": "code",
   "execution_count": null,
   "metadata": {},
   "outputs": [],
   "source": [
    "plot_curves(\n",
    "    history.history[\"accuracy\"],\n",
    "    history.history[\"val_accuracy\"],\n",
    "    label=\"Accuracy\",\n",
    ")"
   ]
  },
  {
   "cell_type": "code",
   "execution_count": null,
   "metadata": {},
   "outputs": [],
   "source": [
    "np.mean(history.history[\"val_accuracy\"][-5:])"
   ]
  },
  {
   "cell_type": "markdown",
   "metadata": {},
   "source": [
    "### Multi-layer RNN\n",
    "\n",
    "Next, we'll build multi-layer RNN. Just as multiple layers of a deep neural network allow for more complicated features to be learned during training, additional RNN layers can potentially learn complex features in sequential data. For a multi-layer RNN the output of the first RNN layer is fed as the input into the next RNN layer."
   ]
  },
  {
   "cell_type": "markdown",
   "metadata": {},
   "source": [
    "**Lab Task #2b:** Now that you've seen how to build a sinlge layer RNN, create an deep, multi-layer RNN model. Look into how you should set the `return_sequences` variable when instantiating the layers of your RNN."
   ]
  },
  {
   "cell_type": "code",
   "execution_count": null,
   "metadata": {},
   "outputs": [],
   "source": [
    "# TODO 2b\n",
    "\n",
    "model = Sequential()\n",
    "\n",
    "# Reshape inputs to pass through RNN layers.\n",
    "# TODO: Your code goes here.\n",
    "\n",
    "# Compile your model and train\n",
    "# TODO: Your code goes here."
   ]
  },
  {
   "cell_type": "code",
   "execution_count": null,
   "metadata": {},
   "outputs": [],
   "source": [
    "plot_curves(history.history[\"loss\"], history.history[\"val_loss\"], label=\"Loss\")"
   ]
  },
  {
   "cell_type": "code",
   "execution_count": null,
   "metadata": {},
   "outputs": [],
   "source": [
    "plot_curves(\n",
    "    history.history[\"accuracy\"],\n",
    "    history.history[\"val_accuracy\"],\n",
    "    label=\"Accuracy\",\n",
    ")"
   ]
  },
  {
   "cell_type": "code",
   "execution_count": null,
   "metadata": {},
   "outputs": [],
   "source": [
    "np.mean(history.history[\"val_accuracy\"][-5:])"
   ]
  },
  {
   "cell_type": "markdown",
   "metadata": {},
   "source": [
    "### Combining CNN and RNN architecture\n",
    "\n",
    "Finally, we'll look at some model architectures which combine aspects of both convolutional and recurrant networks. For example, we can use a 1-dimensional convolution layer to process our sequences and create features which are then passed to a RNN model before prediction. "
   ]
  },
  {
   "cell_type": "markdown",
   "metadata": {},
   "source": [
    "**Lab Task #3a:** Create a model that first passes through a 1D-Convolution then passes those sequential features through an sequential recurrent layer. You can experiment with different hyperparameters of the CNN and the RNN to see how much you can improve performance of your model. "
   ]
  },
  {
   "cell_type": "code",
   "execution_count": null,
   "metadata": {},
   "outputs": [],
   "source": [
    "# TODO 3a\n",
    "model = Sequential()\n",
    "\n",
    "# Reshape inputs for convolutional layer\n",
    "# TODO: Your code goes here.\n",
    "\n",
    "# Pass the convolutional features through RNN layer\n",
    "# TODO: Your code goes here.\n",
    "\n",
    "# Compile your model and train\n",
    "# TODO: Your code goes here."
   ]
  },
  {
   "cell_type": "code",
   "execution_count": null,
   "metadata": {},
   "outputs": [],
   "source": [
    "plot_curves(history.history[\"loss\"], history.history[\"val_loss\"], label=\"Loss\")"
   ]
  },
  {
   "cell_type": "code",
   "execution_count": null,
   "metadata": {},
   "outputs": [],
   "source": [
    "plot_curves(\n",
    "    history.history[\"accuracy\"],\n",
    "    history.history[\"val_accuracy\"],\n",
    "    label=\"Accuracy\",\n",
    ")"
   ]
  },
  {
   "cell_type": "code",
   "execution_count": null,
   "metadata": {},
   "outputs": [],
   "source": [
    "np.mean(history.history[\"val_accuracy\"][-5:])"
   ]
  },
  {
   "cell_type": "markdown",
   "metadata": {},
   "source": [
    "We can also try building a hybrid model which uses a 1-dimensional CNN to create features from the outputs of an RNN."
   ]
  },
  {
   "cell_type": "markdown",
   "metadata": {},
   "source": [
    "**Lab Task #3b:** Lastly, create a model that passes through the recurrant layer of an RNN first before applying a 1D-Convolution. As before, the result of the CNN is then flattened and passed through the fully connected layer(s)."
   ]
  },
  {
   "cell_type": "code",
   "execution_count": null,
   "metadata": {},
   "outputs": [],
   "source": [
    "# TODO 3b\n",
    "model = Sequential()\n",
    "\n",
    "# Reshape inputs and pass through RNN layer.\n",
    "# TODO: Your code goes here.\n",
    "\n",
    "# Apply 1d convolution to RNN outputs.\n",
    "# TODO: Your code goes here.\n",
    "\n",
    "# Flatten the convolution output and pass through DNN.\n",
    "# TODO: Your code goes here.\n",
    "\n",
    "# Compile your model and train\n",
    "# TODO: Your code goes here."
   ]
  },
  {
   "cell_type": "code",
   "execution_count": null,
   "metadata": {},
   "outputs": [],
   "source": [
    "plot_curves(history.history[\"loss\"], history.history[\"val_loss\"], label=\"Loss\")"
   ]
  },
  {
   "cell_type": "code",
   "execution_count": null,
   "metadata": {},
   "outputs": [],
   "source": [
    "plot_curves(\n",
    "    history.history[\"accuracy\"],\n",
    "    history.history[\"val_accuracy\"],\n",
    "    label=\"Accuracy\",\n",
    ")"
   ]
  },
  {
   "cell_type": "code",
   "execution_count": null,
   "metadata": {},
   "outputs": [],
   "source": [
    "np.mean(history.history[\"val_accuracy\"][-5:])"
   ]
  },
  {
   "cell_type": "markdown",
   "metadata": {},
   "source": [
    "## Extra Credit\n",
    "\n",
    "1. The `eps_percent_change_sp500` table also has static features for each example. Namely, the engineered features we created in the previous labs with aggregated information capturing the `MAX`, `MIN`, `AVG` and `STD` across the last 5 days, 20 days and 260 days (e.g. `close_MIN_prior_5_days`, `close_MIN_prior_20_days`, `close_MIN_prior_260_days`, etc.). Try building a model which incorporates these features in addition to the sequence features we used above. Does this improve performance?\n",
    "\n",
    "2. The `eps_percent_change_sp500` table also contains a `surprise` feature which captures information about the earnings per share. Try building a model which uses the `surprise` feature in addition to the sequence features we used above. Does this improve performance?"
   ]
  },
  {
   "cell_type": "markdown",
   "metadata": {},
   "source": [
    "Copyright 2019 Google Inc. Licensed under the Apache License, Version 2.0 (the \"License\"); you may not use this file except in compliance with the License. You may obtain a copy of the License at http://www.apache.org/licenses/LICENSE-2.0 Unless required by applicable law or agreed to in writing, software distributed under the License is distributed on an \"AS IS\" BASIS, WITHOUT WARRANTIES OR CONDITIONS OF ANY KIND, either express or implied. See the License for the specific language governing permissions and limitations under the License"
   ]
  }
 ],
 "metadata": {
  "environment": {
   "kernel": "python3",
   "name": "tf2-gpu.2-6.m94",
   "type": "gcloud",
   "uri": "gcr.io/deeplearning-platform-release/tf2-gpu.2-6:m94"
  },
  "kernelspec": {
   "display_name": "Python 3",
   "language": "python",
   "name": "python3"
  },
  "language_info": {
   "codemirror_mode": {
    "name": "ipython",
    "version": 3
   },
   "file_extension": ".py",
   "mimetype": "text/x-python",
   "name": "python",
   "nbconvert_exporter": "python",
   "pygments_lexer": "ipython3",
   "version": "3.7.12"
  }
 },
 "nbformat": 4,
 "nbformat_minor": 4
}
